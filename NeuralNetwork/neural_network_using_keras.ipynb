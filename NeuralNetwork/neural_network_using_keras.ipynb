{
 "cells": [
  {
   "cell_type": "code",
   "execution_count": 1,
   "metadata": {},
   "outputs": [
    {
     "output_type": "stream",
     "name": "stderr",
     "text": [
      "Using TensorFlow backend.\n"
     ]
    }
   ],
   "source": [
    "from keras.models import Sequential \n",
    "from keras.layers import Dense\n",
    "import pandas as pd\n",
    "import numpy as np"
   ]
  },
  {
   "cell_type": "code",
   "execution_count": 2,
   "metadata": {},
   "outputs": [
    {
     "output_type": "execute_result",
     "data": {
      "text/plain": [
       "   0    1   2   3    4     5      6   7  8\n",
       "0  6  148  72  35    0  33.6  0.627  50  1\n",
       "1  1   85  66  29    0  26.6  0.351  31  0\n",
       "2  8  183  64   0    0  23.3  0.672  32  1\n",
       "3  1   89  66  23   94  28.1  0.167  21  0\n",
       "4  0  137  40  35  168  43.1  2.288  33  1"
      ],
      "text/html": "<div>\n<style scoped>\n    .dataframe tbody tr th:only-of-type {\n        vertical-align: middle;\n    }\n\n    .dataframe tbody tr th {\n        vertical-align: top;\n    }\n\n    .dataframe thead th {\n        text-align: right;\n    }\n</style>\n<table border=\"1\" class=\"dataframe\">\n  <thead>\n    <tr style=\"text-align: right;\">\n      <th></th>\n      <th>0</th>\n      <th>1</th>\n      <th>2</th>\n      <th>3</th>\n      <th>4</th>\n      <th>5</th>\n      <th>6</th>\n      <th>7</th>\n      <th>8</th>\n    </tr>\n  </thead>\n  <tbody>\n    <tr>\n      <th>0</th>\n      <td>6</td>\n      <td>148</td>\n      <td>72</td>\n      <td>35</td>\n      <td>0</td>\n      <td>33.6</td>\n      <td>0.627</td>\n      <td>50</td>\n      <td>1</td>\n    </tr>\n    <tr>\n      <th>1</th>\n      <td>1</td>\n      <td>85</td>\n      <td>66</td>\n      <td>29</td>\n      <td>0</td>\n      <td>26.6</td>\n      <td>0.351</td>\n      <td>31</td>\n      <td>0</td>\n    </tr>\n    <tr>\n      <th>2</th>\n      <td>8</td>\n      <td>183</td>\n      <td>64</td>\n      <td>0</td>\n      <td>0</td>\n      <td>23.3</td>\n      <td>0.672</td>\n      <td>32</td>\n      <td>1</td>\n    </tr>\n    <tr>\n      <th>3</th>\n      <td>1</td>\n      <td>89</td>\n      <td>66</td>\n      <td>23</td>\n      <td>94</td>\n      <td>28.1</td>\n      <td>0.167</td>\n      <td>21</td>\n      <td>0</td>\n    </tr>\n    <tr>\n      <th>4</th>\n      <td>0</td>\n      <td>137</td>\n      <td>40</td>\n      <td>35</td>\n      <td>168</td>\n      <td>43.1</td>\n      <td>2.288</td>\n      <td>33</td>\n      <td>1</td>\n    </tr>\n  </tbody>\n</table>\n</div>"
     },
     "metadata": {},
     "execution_count": 2
    }
   ],
   "source": [
    "df = pd.read_csv('pima-indians-diabetes.data.csv', header=None)\n",
    "df.head()"
   ]
  },
  {
   "cell_type": "code",
   "execution_count": 3,
   "metadata": {},
   "outputs": [],
   "source": [
    "y = df[8]\n",
    "X = df.drop(8, axis = 1)"
   ]
  },
  {
   "cell_type": "code",
   "execution_count": 4,
   "metadata": {},
   "outputs": [],
   "source": [
    "from sklearn.preprocessing import MinMaxScaler\n",
    "scalar = MinMaxScaler()\n",
    "scalar.fit(X)\n",
    "X = scalar.transform(X)"
   ]
  },
  {
   "cell_type": "code",
   "execution_count": 5,
   "metadata": {},
   "outputs": [],
   "source": [
    "from sklearn.model_selection import train_test_split\n",
    "X_train, X_test, y_train, y_test = train_test_split(X, y, test_size=0.3)"
   ]
  },
  {
   "cell_type": "code",
   "execution_count": 6,
   "metadata": {},
   "outputs": [
    {
     "output_type": "execute_result",
     "data": {
      "text/plain": [
       "(537, 8)"
      ]
     },
     "metadata": {},
     "execution_count": 6
    }
   ],
   "source": [
    "X_train.shape"
   ]
  },
  {
   "cell_type": "markdown",
   "metadata": {},
   "source": [
    "Architecture:\n",
    "\n",
    "Input Layer: 10 nodes - relu activation\n",
    "\n",
    "Hidden Layer 1: 50 nodes - relu activation\n",
    "\n",
    "Hidden Layer 2: 10 nodes - relu activation\n",
    "\n",
    "Hidden Layer 3: 5 nodes - relu activation\n",
    "\n",
    "Ouput Layer: 1 node - sigmoid activation"
   ]
  },
  {
   "cell_type": "code",
   "execution_count": 7,
   "metadata": {},
   "outputs": [],
   "source": [
    "model = Sequential()\n",
    "model.add(Dense(10, input_dim=8, activation='relu'))\n",
    "model.add(Dense(50, activation='relu'))\n",
    "model.add(Dense(10, activation='relu'))\n",
    "model.add(Dense(5, activation='relu'))\n",
    "model.add(Dense(1, activation='sigmoid'))"
   ]
  },
  {
   "cell_type": "code",
   "execution_count": 8,
   "metadata": {},
   "outputs": [],
   "source": [
    "model.compile(loss='binary_crossentropy', optimizer='adam', metrics=['accuracy'])"
   ]
  },
  {
   "cell_type": "code",
   "execution_count": 9,
   "metadata": {},
   "outputs": [
    {
     "output_type": "stream",
     "name": "stdout",
     "text": [
      "Model: \"sequential_1\"\n_________________________________________________________________\nLayer (type)                 Output Shape              Param #   \n=================================================================\ndense_1 (Dense)              (None, 10)                90        \n_________________________________________________________________\ndense_2 (Dense)              (None, 50)                550       \n_________________________________________________________________\ndense_3 (Dense)              (None, 10)                510       \n_________________________________________________________________\ndense_4 (Dense)              (None, 5)                 55        \n_________________________________________________________________\ndense_5 (Dense)              (None, 1)                 6         \n=================================================================\nTotal params: 1,211\nTrainable params: 1,211\nNon-trainable params: 0\n_________________________________________________________________\n"
     ]
    }
   ],
   "source": [
    "model.summary()"
   ]
  },
  {
   "cell_type": "code",
   "execution_count": 10,
   "metadata": {
    "tags": [
     "outputPrepend"
    ]
   },
   "outputs": [
    {
     "output_type": "stream",
     "name": "stdout",
     "text": [
      "- 0s 292us/step - loss: 0.3828 - accuracy: 0.8194\n",
      "Epoch 111/300\n",
      "537/537 [==============================] - 0s 328us/step - loss: 0.3918 - accuracy: 0.7989\n",
      "Epoch 112/300\n",
      "537/537 [==============================] - 0s 310us/step - loss: 0.3899 - accuracy: 0.8212\n",
      "Epoch 113/300\n",
      "537/537 [==============================] - 0s 316us/step - loss: 0.3852 - accuracy: 0.8250\n",
      "Epoch 114/300\n",
      "537/537 [==============================] - 0s 318us/step - loss: 0.3789 - accuracy: 0.8212\n",
      "Epoch 115/300\n",
      "537/537 [==============================] - 0s 300us/step - loss: 0.3820 - accuracy: 0.8268\n",
      "Epoch 116/300\n",
      "537/537 [==============================] - 0s 290us/step - loss: 0.3855 - accuracy: 0.8194\n",
      "Epoch 117/300\n",
      "537/537 [==============================] - 0s 420us/step - loss: 0.3855 - accuracy: 0.8194\n",
      "Epoch 118/300\n",
      "537/537 [==============================] - 0s 291us/step - loss: 0.3810 - accuracy: 0.8231\n",
      "Epoch 119/300\n",
      "537/537 [==============================] - 0s 296us/step - loss: 0.3847 - accuracy: 0.8250\n",
      "Epoch 120/300\n",
      "537/537 [==============================] - 0s 310us/step - loss: 0.3956 - accuracy: 0.8138\n",
      "Epoch 121/300\n",
      "537/537 [==============================] - 0s 282us/step - loss: 0.3878 - accuracy: 0.8250\n",
      "Epoch 122/300\n",
      "537/537 [==============================] - 0s 316us/step - loss: 0.3785 - accuracy: 0.8212\n",
      "Epoch 123/300\n",
      "537/537 [==============================] - 0s 349us/step - loss: 0.3758 - accuracy: 0.8399\n",
      "Epoch 124/300\n",
      "537/537 [==============================] - 0s 311us/step - loss: 0.3775 - accuracy: 0.8231\n",
      "Epoch 125/300\n",
      "537/537 [==============================] - 0s 314us/step - loss: 0.3745 - accuracy: 0.8324\n",
      "Epoch 126/300\n",
      "537/537 [==============================] - 0s 296us/step - loss: 0.3747 - accuracy: 0.8380\n",
      "Epoch 127/300\n",
      "537/537 [==============================] - 0s 290us/step - loss: 0.3846 - accuracy: 0.8212\n",
      "Epoch 128/300\n",
      "537/537 [==============================] - 0s 291us/step - loss: 0.3896 - accuracy: 0.8268\n",
      "Epoch 129/300\n",
      "537/537 [==============================] - 0s 326us/step - loss: 0.3840 - accuracy: 0.8287\n",
      "Epoch 130/300\n",
      "537/537 [==============================] - 0s 291us/step - loss: 0.3732 - accuracy: 0.8287\n",
      "Epoch 131/300\n",
      "537/537 [==============================] - 0s 325us/step - loss: 0.3739 - accuracy: 0.8305\n",
      "Epoch 132/300\n",
      "537/537 [==============================] - 0s 285us/step - loss: 0.3769 - accuracy: 0.8250\n",
      "Epoch 133/300\n",
      "537/537 [==============================] - 0s 319us/step - loss: 0.3723 - accuracy: 0.8250\n",
      "Epoch 134/300\n",
      "537/537 [==============================] - 0s 301us/step - loss: 0.3728 - accuracy: 0.8268\n",
      "Epoch 135/300\n",
      "537/537 [==============================] - 0s 310us/step - loss: 0.3775 - accuracy: 0.8287\n",
      "Epoch 136/300\n",
      "537/537 [==============================] - 0s 281us/step - loss: 0.3701 - accuracy: 0.8343\n",
      "Epoch 137/300\n",
      "537/537 [==============================] - 0s 306us/step - loss: 0.3714 - accuracy: 0.8268\n",
      "Epoch 138/300\n",
      "537/537 [==============================] - 0s 295us/step - loss: 0.3693 - accuracy: 0.8417\n",
      "Epoch 139/300\n",
      "537/537 [==============================] - 0s 283us/step - loss: 0.3775 - accuracy: 0.8194\n",
      "Epoch 140/300\n",
      "537/537 [==============================] - 0s 280us/step - loss: 0.3797 - accuracy: 0.8324\n",
      "Epoch 141/300\n",
      "537/537 [==============================] - 0s 367us/step - loss: 0.3688 - accuracy: 0.8343\n",
      "Epoch 142/300\n",
      "537/537 [==============================] - 0s 307us/step - loss: 0.3642 - accuracy: 0.8454\n",
      "Epoch 143/300\n",
      "537/537 [==============================] - 0s 293us/step - loss: 0.3795 - accuracy: 0.8212\n",
      "Epoch 144/300\n",
      "537/537 [==============================] - 0s 286us/step - loss: 0.3672 - accuracy: 0.8231\n",
      "Epoch 145/300\n",
      "537/537 [==============================] - 0s 311us/step - loss: 0.3703 - accuracy: 0.8268\n",
      "Epoch 146/300\n",
      "537/537 [==============================] - 0s 287us/step - loss: 0.3746 - accuracy: 0.8305\n",
      "Epoch 147/300\n",
      "537/537 [==============================] - 0s 316us/step - loss: 0.3631 - accuracy: 0.8287\n",
      "Epoch 148/300\n",
      "537/537 [==============================] - 0s 336us/step - loss: 0.3663 - accuracy: 0.8268\n",
      "Epoch 149/300\n",
      "537/537 [==============================] - 0s 320us/step - loss: 0.3702 - accuracy: 0.8287\n",
      "Epoch 150/300\n",
      "537/537 [==============================] - 0s 323us/step - loss: 0.3623 - accuracy: 0.8324\n",
      "Epoch 151/300\n",
      "537/537 [==============================] - 0s 314us/step - loss: 0.3613 - accuracy: 0.8287\n",
      "Epoch 152/300\n",
      "537/537 [==============================] - 0s 307us/step - loss: 0.3666 - accuracy: 0.8268\n",
      "Epoch 153/300\n",
      "537/537 [==============================] - 0s 322us/step - loss: 0.3589 - accuracy: 0.8380\n",
      "Epoch 154/300\n",
      "537/537 [==============================] - 0s 310us/step - loss: 0.3620 - accuracy: 0.8324\n",
      "Epoch 155/300\n",
      "537/537 [==============================] - 0s 347us/step - loss: 0.3721 - accuracy: 0.8250\n",
      "Epoch 156/300\n",
      "537/537 [==============================] - 0s 287us/step - loss: 0.3652 - accuracy: 0.8380\n",
      "Epoch 157/300\n",
      "537/537 [==============================] - 0s 285us/step - loss: 0.3592 - accuracy: 0.8324\n",
      "Epoch 158/300\n",
      "537/537 [==============================] - 0s 300us/step - loss: 0.3579 - accuracy: 0.8399\n",
      "Epoch 159/300\n",
      "537/537 [==============================] - 0s 301us/step - loss: 0.3593 - accuracy: 0.8380\n",
      "Epoch 160/300\n",
      "537/537 [==============================] - 0s 320us/step - loss: 0.3660 - accuracy: 0.8417\n",
      "Epoch 161/300\n",
      "537/537 [==============================] - 0s 312us/step - loss: 0.3633 - accuracy: 0.8324\n",
      "Epoch 162/300\n",
      "537/537 [==============================] - 0s 281us/step - loss: 0.3608 - accuracy: 0.8417\n",
      "Epoch 163/300\n",
      "537/537 [==============================] - 0s 301us/step - loss: 0.3686 - accuracy: 0.8324\n",
      "Epoch 164/300\n",
      "537/537 [==============================] - 0s 325us/step - loss: 0.3572 - accuracy: 0.8436\n",
      "Epoch 165/300\n",
      "537/537 [==============================] - 0s 308us/step - loss: 0.3586 - accuracy: 0.8343\n",
      "Epoch 166/300\n",
      "537/537 [==============================] - 0s 295us/step - loss: 0.3607 - accuracy: 0.8231\n",
      "Epoch 167/300\n",
      "537/537 [==============================] - 0s 306us/step - loss: 0.3590 - accuracy: 0.8473\n",
      "Epoch 168/300\n",
      "537/537 [==============================] - 0s 317us/step - loss: 0.3610 - accuracy: 0.8324\n",
      "Epoch 169/300\n",
      "537/537 [==============================] - 0s 288us/step - loss: 0.3582 - accuracy: 0.8361\n",
      "Epoch 170/300\n",
      "537/537 [==============================] - 0s 300us/step - loss: 0.3576 - accuracy: 0.8324\n",
      "Epoch 171/300\n",
      "537/537 [==============================] - 0s 324us/step - loss: 0.3679 - accuracy: 0.8343\n",
      "Epoch 172/300\n",
      "537/537 [==============================] - 0s 291us/step - loss: 0.3616 - accuracy: 0.8324\n",
      "Epoch 173/300\n",
      "537/537 [==============================] - 0s 309us/step - loss: 0.3626 - accuracy: 0.8399\n",
      "Epoch 174/300\n",
      "537/537 [==============================] - 0s 314us/step - loss: 0.3570 - accuracy: 0.8324\n",
      "Epoch 175/300\n",
      "537/537 [==============================] - 0s 293us/step - loss: 0.3552 - accuracy: 0.8361\n",
      "Epoch 176/300\n",
      "537/537 [==============================] - 0s 307us/step - loss: 0.3507 - accuracy: 0.8417\n",
      "Epoch 177/300\n",
      "537/537 [==============================] - 0s 318us/step - loss: 0.3520 - accuracy: 0.8492\n",
      "Epoch 178/300\n",
      "537/537 [==============================] - 0s 296us/step - loss: 0.3623 - accuracy: 0.8212\n",
      "Epoch 179/300\n",
      "537/537 [==============================] - 0s 312us/step - loss: 0.3637 - accuracy: 0.8436\n",
      "Epoch 180/300\n",
      "537/537 [==============================] - 0s 307us/step - loss: 0.3517 - accuracy: 0.8436\n",
      "Epoch 181/300\n",
      "537/537 [==============================] - 0s 295us/step - loss: 0.3724 - accuracy: 0.8250\n",
      "Epoch 182/300\n",
      "537/537 [==============================] - 0s 284us/step - loss: 0.3533 - accuracy: 0.8436\n",
      "Epoch 183/300\n",
      "537/537 [==============================] - 0s 316us/step - loss: 0.3463 - accuracy: 0.8510\n",
      "Epoch 184/300\n",
      "537/537 [==============================] - 0s 353us/step - loss: 0.3497 - accuracy: 0.8454\n",
      "Epoch 185/300\n",
      "537/537 [==============================] - 0s 341us/step - loss: 0.3527 - accuracy: 0.8287\n",
      "Epoch 186/300\n",
      "537/537 [==============================] - 0s 304us/step - loss: 0.3516 - accuracy: 0.8510\n",
      "Epoch 187/300\n",
      "537/537 [==============================] - 0s 294us/step - loss: 0.3501 - accuracy: 0.8324\n",
      "Epoch 188/300\n",
      "537/537 [==============================] - 0s 285us/step - loss: 0.3471 - accuracy: 0.8510\n",
      "Epoch 189/300\n",
      "537/537 [==============================] - 0s 332us/step - loss: 0.3486 - accuracy: 0.8529\n",
      "Epoch 190/300\n",
      "537/537 [==============================] - 0s 311us/step - loss: 0.3461 - accuracy: 0.8380\n",
      "Epoch 191/300\n",
      "537/537 [==============================] - 0s 319us/step - loss: 0.3488 - accuracy: 0.8399\n",
      "Epoch 192/300\n",
      "537/537 [==============================] - 0s 285us/step - loss: 0.3465 - accuracy: 0.8417\n",
      "Epoch 193/300\n",
      "537/537 [==============================] - 0s 295us/step - loss: 0.3469 - accuracy: 0.8510\n",
      "Epoch 194/300\n",
      "537/537 [==============================] - 0s 298us/step - loss: 0.3632 - accuracy: 0.8343\n",
      "Epoch 195/300\n",
      "537/537 [==============================] - 0s 344us/step - loss: 0.3443 - accuracy: 0.8473\n",
      "Epoch 196/300\n",
      "537/537 [==============================] - 0s 328us/step - loss: 0.3461 - accuracy: 0.8324\n",
      "Epoch 197/300\n",
      "537/537 [==============================] - 0s 293us/step - loss: 0.3427 - accuracy: 0.8473\n",
      "Epoch 198/300\n",
      "537/537 [==============================] - 0s 339us/step - loss: 0.3444 - accuracy: 0.8380\n",
      "Epoch 199/300\n",
      "537/537 [==============================] - 0s 318us/step - loss: 0.3483 - accuracy: 0.8417\n",
      "Epoch 200/300\n",
      "537/537 [==============================] - 0s 332us/step - loss: 0.3582 - accuracy: 0.8287\n",
      "Epoch 201/300\n",
      "537/537 [==============================] - 0s 450us/step - loss: 0.3416 - accuracy: 0.8454\n",
      "Epoch 202/300\n",
      "537/537 [==============================] - 0s 388us/step - loss: 0.3415 - accuracy: 0.8454\n",
      "Epoch 203/300\n",
      "537/537 [==============================] - 0s 327us/step - loss: 0.3424 - accuracy: 0.8454\n",
      "Epoch 204/300\n",
      "537/537 [==============================] - 0s 356us/step - loss: 0.3462 - accuracy: 0.8454\n",
      "Epoch 205/300\n",
      "537/537 [==============================] - 0s 385us/step - loss: 0.3373 - accuracy: 0.8603\n",
      "Epoch 206/300\n",
      "537/537 [==============================] - 0s 346us/step - loss: 0.3495 - accuracy: 0.8454\n",
      "Epoch 207/300\n",
      "537/537 [==============================] - 0s 312us/step - loss: 0.3402 - accuracy: 0.8417\n",
      "Epoch 208/300\n",
      "537/537 [==============================] - 0s 324us/step - loss: 0.3440 - accuracy: 0.8417\n",
      "Epoch 209/300\n",
      "537/537 [==============================] - 0s 334us/step - loss: 0.3394 - accuracy: 0.8436\n",
      "Epoch 210/300\n",
      "537/537 [==============================] - 0s 369us/step - loss: 0.3481 - accuracy: 0.8380\n",
      "Epoch 211/300\n",
      "537/537 [==============================] - 0s 341us/step - loss: 0.3455 - accuracy: 0.8492\n",
      "Epoch 212/300\n",
      "537/537 [==============================] - 0s 325us/step - loss: 0.3381 - accuracy: 0.8510\n",
      "Epoch 213/300\n",
      "537/537 [==============================] - 0s 305us/step - loss: 0.3487 - accuracy: 0.8361\n",
      "Epoch 214/300\n",
      "537/537 [==============================] - 0s 293us/step - loss: 0.3436 - accuracy: 0.8492\n",
      "Epoch 215/300\n",
      "537/537 [==============================] - 0s 298us/step - loss: 0.3437 - accuracy: 0.8566\n",
      "Epoch 216/300\n",
      "537/537 [==============================] - 0s 322us/step - loss: 0.3443 - accuracy: 0.8399\n",
      "Epoch 217/300\n",
      "537/537 [==============================] - 0s 306us/step - loss: 0.3464 - accuracy: 0.8361\n",
      "Epoch 218/300\n",
      "537/537 [==============================] - 0s 326us/step - loss: 0.3401 - accuracy: 0.8380\n",
      "Epoch 219/300\n",
      "537/537 [==============================] - 0s 312us/step - loss: 0.3412 - accuracy: 0.8417\n",
      "Epoch 220/300\n",
      "537/537 [==============================] - 0s 308us/step - loss: 0.3501 - accuracy: 0.8380\n",
      "Epoch 221/300\n",
      "537/537 [==============================] - 0s 292us/step - loss: 0.3490 - accuracy: 0.8585\n",
      "Epoch 222/300\n",
      "537/537 [==============================] - 0s 368us/step - loss: 0.3457 - accuracy: 0.8473\n",
      "Epoch 223/300\n",
      "537/537 [==============================] - 0s 329us/step - loss: 0.3345 - accuracy: 0.8566\n",
      "Epoch 224/300\n",
      "537/537 [==============================] - 0s 310us/step - loss: 0.3332 - accuracy: 0.8436\n",
      "Epoch 225/300\n",
      "537/537 [==============================] - 0s 342us/step - loss: 0.3366 - accuracy: 0.8473\n",
      "Epoch 226/300\n",
      "537/537 [==============================] - 0s 292us/step - loss: 0.3325 - accuracy: 0.8454\n",
      "Epoch 227/300\n",
      "537/537 [==============================] - 0s 288us/step - loss: 0.3305 - accuracy: 0.8492\n",
      "Epoch 228/300\n",
      "537/537 [==============================] - 0s 315us/step - loss: 0.3310 - accuracy: 0.8417\n",
      "Epoch 229/300\n",
      "537/537 [==============================] - 0s 305us/step - loss: 0.3296 - accuracy: 0.8510\n",
      "Epoch 230/300\n",
      "537/537 [==============================] - 0s 297us/step - loss: 0.3341 - accuracy: 0.8380\n",
      "Epoch 231/300\n",
      "537/537 [==============================] - 0s 320us/step - loss: 0.3241 - accuracy: 0.8603\n",
      "Epoch 232/300\n",
      "537/537 [==============================] - 0s 280us/step - loss: 0.3329 - accuracy: 0.8529\n",
      "Epoch 233/300\n",
      "537/537 [==============================] - 0s 299us/step - loss: 0.3221 - accuracy: 0.8529\n",
      "Epoch 234/300\n",
      "537/537 [==============================] - 0s 321us/step - loss: 0.3347 - accuracy: 0.8436\n",
      "Epoch 235/300\n",
      "537/537 [==============================] - 0s 315us/step - loss: 0.3439 - accuracy: 0.8399\n",
      "Epoch 236/300\n",
      "537/537 [==============================] - 0s 347us/step - loss: 0.3402 - accuracy: 0.8473\n",
      "Epoch 237/300\n",
      "537/537 [==============================] - 0s 291us/step - loss: 0.3313 - accuracy: 0.8436\n",
      "Epoch 238/300\n",
      "537/537 [==============================] - 0s 291us/step - loss: 0.3333 - accuracy: 0.8343\n",
      "Epoch 239/300\n",
      "537/537 [==============================] - 0s 312us/step - loss: 0.3345 - accuracy: 0.8417\n",
      "Epoch 240/300\n",
      "537/537 [==============================] - 0s 308us/step - loss: 0.3433 - accuracy: 0.8324\n",
      "Epoch 241/300\n",
      "537/537 [==============================] - 0s 321us/step - loss: 0.3339 - accuracy: 0.8417\n",
      "Epoch 242/300\n",
      "537/537 [==============================] - 0s 296us/step - loss: 0.3412 - accuracy: 0.8492\n",
      "Epoch 243/300\n",
      "537/537 [==============================] - 0s 340us/step - loss: 0.3272 - accuracy: 0.8547\n",
      "Epoch 244/300\n",
      "537/537 [==============================] - 0s 300us/step - loss: 0.3378 - accuracy: 0.8343\n",
      "Epoch 245/300\n",
      "537/537 [==============================] - 0s 299us/step - loss: 0.3292 - accuracy: 0.8529\n",
      "Epoch 246/300\n",
      "537/537 [==============================] - 0s 352us/step - loss: 0.3248 - accuracy: 0.8510\n",
      "Epoch 247/300\n",
      "537/537 [==============================] - 0s 315us/step - loss: 0.3335 - accuracy: 0.8529\n",
      "Epoch 248/300\n",
      "537/537 [==============================] - 0s 319us/step - loss: 0.3255 - accuracy: 0.8436\n",
      "Epoch 249/300\n",
      "537/537 [==============================] - 0s 285us/step - loss: 0.3289 - accuracy: 0.8380\n",
      "Epoch 250/300\n",
      "537/537 [==============================] - 0s 364us/step - loss: 0.3222 - accuracy: 0.8547\n",
      "Epoch 251/300\n",
      "537/537 [==============================] - 0s 364us/step - loss: 0.3291 - accuracy: 0.8473\n",
      "Epoch 252/300\n",
      "537/537 [==============================] - 0s 312us/step - loss: 0.3292 - accuracy: 0.8454\n",
      "Epoch 253/300\n",
      "537/537 [==============================] - 0s 312us/step - loss: 0.3288 - accuracy: 0.8380\n",
      "Epoch 254/300\n",
      "537/537 [==============================] - 0s 316us/step - loss: 0.3257 - accuracy: 0.8454\n",
      "Epoch 255/300\n",
      "537/537 [==============================] - 0s 308us/step - loss: 0.3221 - accuracy: 0.8529\n",
      "Epoch 256/300\n",
      "537/537 [==============================] - 0s 368us/step - loss: 0.3307 - accuracy: 0.8529\n",
      "Epoch 257/300\n",
      "537/537 [==============================] - 0s 349us/step - loss: 0.3259 - accuracy: 0.8510\n",
      "Epoch 258/300\n",
      "537/537 [==============================] - 0s 405us/step - loss: 0.3209 - accuracy: 0.8641\n",
      "Epoch 259/300\n",
      "537/537 [==============================] - 0s 331us/step - loss: 0.3218 - accuracy: 0.8529\n",
      "Epoch 260/300\n",
      "537/537 [==============================] - 0s 334us/step - loss: 0.3209 - accuracy: 0.8510\n",
      "Epoch 261/300\n",
      "537/537 [==============================] - 0s 325us/step - loss: 0.3200 - accuracy: 0.8510\n",
      "Epoch 262/300\n",
      "537/537 [==============================] - 0s 312us/step - loss: 0.3191 - accuracy: 0.8529\n",
      "Epoch 263/300\n",
      "537/537 [==============================] - 0s 332us/step - loss: 0.3234 - accuracy: 0.8399\n",
      "Epoch 264/300\n",
      "537/537 [==============================] - 0s 409us/step - loss: 0.3267 - accuracy: 0.8399\n",
      "Epoch 265/300\n",
      "537/537 [==============================] - 0s 365us/step - loss: 0.3192 - accuracy: 0.8510\n",
      "Epoch 266/300\n",
      "537/537 [==============================] - 0s 323us/step - loss: 0.3205 - accuracy: 0.8547\n",
      "Epoch 267/300\n",
      "537/537 [==============================] - 0s 335us/step - loss: 0.3196 - accuracy: 0.8641\n",
      "Epoch 268/300\n",
      "537/537 [==============================] - 0s 341us/step - loss: 0.3196 - accuracy: 0.8492\n",
      "Epoch 269/300\n",
      "537/537 [==============================] - 0s 335us/step - loss: 0.3141 - accuracy: 0.8399\n",
      "Epoch 270/300\n",
      "537/537 [==============================] - 0s 317us/step - loss: 0.3184 - accuracy: 0.8454\n",
      "Epoch 271/300\n",
      "537/537 [==============================] - 0s 334us/step - loss: 0.3179 - accuracy: 0.8585\n",
      "Epoch 272/300\n",
      "537/537 [==============================] - 0s 356us/step - loss: 0.3145 - accuracy: 0.8529\n",
      "Epoch 273/300\n",
      "537/537 [==============================] - 0s 313us/step - loss: 0.3130 - accuracy: 0.8641\n",
      "Epoch 274/300\n",
      "537/537 [==============================] - 0s 354us/step - loss: 0.3141 - accuracy: 0.8399\n",
      "Epoch 275/300\n",
      "537/537 [==============================] - 0s 374us/step - loss: 0.3099 - accuracy: 0.8622\n",
      "Epoch 276/300\n",
      "537/537 [==============================] - 0s 323us/step - loss: 0.3120 - accuracy: 0.8678\n",
      "Epoch 277/300\n",
      "537/537 [==============================] - 0s 382us/step - loss: 0.3137 - accuracy: 0.8492\n",
      "Epoch 278/300\n",
      "537/537 [==============================] - 0s 331us/step - loss: 0.3095 - accuracy: 0.8585\n",
      "Epoch 279/300\n",
      "537/537 [==============================] - 0s 360us/step - loss: 0.3136 - accuracy: 0.8622\n",
      "Epoch 280/300\n",
      "537/537 [==============================] - 0s 317us/step - loss: 0.3126 - accuracy: 0.8454\n",
      "Epoch 281/300\n",
      "537/537 [==============================] - 0s 333us/step - loss: 0.3172 - accuracy: 0.8529\n",
      "Epoch 282/300\n",
      "537/537 [==============================] - 0s 377us/step - loss: 0.3159 - accuracy: 0.8603\n",
      "Epoch 283/300\n",
      "537/537 [==============================] - 0s 367us/step - loss: 0.3135 - accuracy: 0.8566\n",
      "Epoch 284/300\n",
      "537/537 [==============================] - 0s 446us/step - loss: 0.3153 - accuracy: 0.8622\n",
      "Epoch 285/300\n",
      "537/537 [==============================] - 0s 313us/step - loss: 0.3295 - accuracy: 0.8454\n",
      "Epoch 286/300\n",
      "537/537 [==============================] - 0s 330us/step - loss: 0.3106 - accuracy: 0.8566\n",
      "Epoch 287/300\n",
      "537/537 [==============================] - 0s 347us/step - loss: 0.3117 - accuracy: 0.8641\n",
      "Epoch 288/300\n",
      "537/537 [==============================] - 0s 391us/step - loss: 0.3121 - accuracy: 0.8547\n",
      "Epoch 289/300\n",
      "537/537 [==============================] - 0s 360us/step - loss: 0.3094 - accuracy: 0.8659\n",
      "Epoch 290/300\n",
      "537/537 [==============================] - 0s 346us/step - loss: 0.3166 - accuracy: 0.8547\n",
      "Epoch 291/300\n",
      "537/537 [==============================] - 0s 390us/step - loss: 0.3107 - accuracy: 0.8585\n",
      "Epoch 292/300\n",
      "537/537 [==============================] - 0s 340us/step - loss: 0.3083 - accuracy: 0.8696\n",
      "Epoch 293/300\n",
      "537/537 [==============================] - 0s 347us/step - loss: 0.3077 - accuracy: 0.8566\n",
      "Epoch 294/300\n",
      "537/537 [==============================] - 0s 328us/step - loss: 0.3086 - accuracy: 0.8566\n",
      "Epoch 295/300\n",
      "537/537 [==============================] - 0s 382us/step - loss: 0.3076 - accuracy: 0.8603\n",
      "Epoch 296/300\n",
      "537/537 [==============================] - 0s 322us/step - loss: 0.3076 - accuracy: 0.8529\n",
      "Epoch 297/300\n",
      "537/537 [==============================] - 0s 345us/step - loss: 0.3064 - accuracy: 0.8622\n",
      "Epoch 298/300\n",
      "537/537 [==============================] - 0s 388us/step - loss: 0.3061 - accuracy: 0.8622\n",
      "Epoch 299/300\n",
      "537/537 [==============================] - 0s 363us/step - loss: 0.3286 - accuracy: 0.8436\n",
      "Epoch 300/300\n",
      "537/537 [==============================] - 0s 384us/step - loss: 0.3109 - accuracy: 0.8547\n"
     ]
    },
    {
     "output_type": "execute_result",
     "data": {
      "text/plain": [
       "<keras.callbacks.callbacks.History at 0x7f7fbb160ad0>"
      ]
     },
     "metadata": {},
     "execution_count": 10
    }
   ],
   "source": [
    "model.fit(X_train, y_train, epochs=300, batch_size  =10)"
   ]
  },
  {
   "cell_type": "code",
   "execution_count": 11,
   "metadata": {},
   "outputs": [
    {
     "output_type": "execute_result",
     "data": {
      "text/plain": [
       "array([[1],\n",
       "       [0],\n",
       "       [0],\n",
       "       [1],\n",
       "       [0],\n",
       "       [0],\n",
       "       [0],\n",
       "       [0],\n",
       "       [1],\n",
       "       [0],\n",
       "       [1],\n",
       "       [0],\n",
       "       [0],\n",
       "       [0],\n",
       "       [0],\n",
       "       [1],\n",
       "       [1],\n",
       "       [0],\n",
       "       [0],\n",
       "       [1],\n",
       "       [1],\n",
       "       [1],\n",
       "       [0],\n",
       "       [0],\n",
       "       [1],\n",
       "       [0],\n",
       "       [0],\n",
       "       [0],\n",
       "       [1],\n",
       "       [0],\n",
       "       [0],\n",
       "       [0],\n",
       "       [0],\n",
       "       [0],\n",
       "       [0],\n",
       "       [0],\n",
       "       [0],\n",
       "       [0],\n",
       "       [0],\n",
       "       [0],\n",
       "       [1],\n",
       "       [1],\n",
       "       [0],\n",
       "       [0],\n",
       "       [1],\n",
       "       [1],\n",
       "       [0],\n",
       "       [0],\n",
       "       [0],\n",
       "       [0],\n",
       "       [0],\n",
       "       [0],\n",
       "       [1],\n",
       "       [0],\n",
       "       [1],\n",
       "       [0],\n",
       "       [0],\n",
       "       [0],\n",
       "       [0],\n",
       "       [0],\n",
       "       [1],\n",
       "       [0],\n",
       "       [0],\n",
       "       [0],\n",
       "       [0],\n",
       "       [0],\n",
       "       [0],\n",
       "       [0],\n",
       "       [1],\n",
       "       [0],\n",
       "       [0],\n",
       "       [1],\n",
       "       [1],\n",
       "       [0],\n",
       "       [0],\n",
       "       [1],\n",
       "       [0],\n",
       "       [1],\n",
       "       [0],\n",
       "       [0],\n",
       "       [0],\n",
       "       [0],\n",
       "       [1],\n",
       "       [1],\n",
       "       [0],\n",
       "       [0],\n",
       "       [0],\n",
       "       [1],\n",
       "       [0],\n",
       "       [0],\n",
       "       [1],\n",
       "       [0],\n",
       "       [1],\n",
       "       [0],\n",
       "       [0],\n",
       "       [0],\n",
       "       [1],\n",
       "       [0],\n",
       "       [1],\n",
       "       [0],\n",
       "       [0],\n",
       "       [0],\n",
       "       [0],\n",
       "       [0],\n",
       "       [0],\n",
       "       [1],\n",
       "       [0],\n",
       "       [1],\n",
       "       [1],\n",
       "       [0],\n",
       "       [0],\n",
       "       [1],\n",
       "       [0],\n",
       "       [0],\n",
       "       [0],\n",
       "       [0],\n",
       "       [0],\n",
       "       [1],\n",
       "       [0],\n",
       "       [0],\n",
       "       [0],\n",
       "       [0],\n",
       "       [1],\n",
       "       [0],\n",
       "       [1],\n",
       "       [1],\n",
       "       [0],\n",
       "       [0],\n",
       "       [1],\n",
       "       [1],\n",
       "       [0],\n",
       "       [0],\n",
       "       [0],\n",
       "       [1],\n",
       "       [0],\n",
       "       [0],\n",
       "       [0],\n",
       "       [0],\n",
       "       [1],\n",
       "       [1],\n",
       "       [0],\n",
       "       [0],\n",
       "       [1],\n",
       "       [0],\n",
       "       [0],\n",
       "       [0],\n",
       "       [0],\n",
       "       [0],\n",
       "       [0],\n",
       "       [0],\n",
       "       [0],\n",
       "       [1],\n",
       "       [0],\n",
       "       [0],\n",
       "       [1],\n",
       "       [1],\n",
       "       [1],\n",
       "       [1],\n",
       "       [0],\n",
       "       [0],\n",
       "       [1],\n",
       "       [0],\n",
       "       [1],\n",
       "       [0],\n",
       "       [0],\n",
       "       [0],\n",
       "       [1],\n",
       "       [1],\n",
       "       [0],\n",
       "       [1],\n",
       "       [0],\n",
       "       [0],\n",
       "       [1],\n",
       "       [1],\n",
       "       [1],\n",
       "       [0],\n",
       "       [0],\n",
       "       [0],\n",
       "       [1],\n",
       "       [0],\n",
       "       [0],\n",
       "       [1],\n",
       "       [0],\n",
       "       [1],\n",
       "       [1],\n",
       "       [0],\n",
       "       [0],\n",
       "       [0],\n",
       "       [1],\n",
       "       [0],\n",
       "       [0],\n",
       "       [0],\n",
       "       [1],\n",
       "       [0],\n",
       "       [0],\n",
       "       [0],\n",
       "       [0],\n",
       "       [1],\n",
       "       [1],\n",
       "       [0],\n",
       "       [0],\n",
       "       [1],\n",
       "       [0],\n",
       "       [0],\n",
       "       [0],\n",
       "       [1],\n",
       "       [0],\n",
       "       [0],\n",
       "       [0],\n",
       "       [1],\n",
       "       [0],\n",
       "       [1],\n",
       "       [0],\n",
       "       [1],\n",
       "       [1],\n",
       "       [0],\n",
       "       [1],\n",
       "       [0],\n",
       "       [0],\n",
       "       [1],\n",
       "       [1],\n",
       "       [0],\n",
       "       [0],\n",
       "       [0],\n",
       "       [0],\n",
       "       [1],\n",
       "       [1],\n",
       "       [1],\n",
       "       [0],\n",
       "       [0],\n",
       "       [0]], dtype=int32)"
      ]
     },
     "metadata": {},
     "execution_count": 11
    }
   ],
   "source": [
    "model.predict_classes(X_test)"
   ]
  },
  {
   "cell_type": "code",
   "execution_count": 12,
   "metadata": {},
   "outputs": [
    {
     "output_type": "stream",
     "name": "stdout",
     "text": [
      "231/231 [==============================] - 0s 762us/step\n"
     ]
    },
    {
     "output_type": "execute_result",
     "data": {
      "text/plain": [
       "0.7662337422370911"
      ]
     },
     "metadata": {},
     "execution_count": 12
    }
   ],
   "source": [
    "model.evaluate(X_test, y_test)[1]"
   ]
  },
  {
   "cell_type": "code",
   "execution_count": 13,
   "metadata": {},
   "outputs": [
    {
     "output_type": "execute_result",
     "data": {
      "text/plain": [
       "<keras.callbacks.callbacks.History at 0x7f7fbb160ad0>"
      ]
     },
     "metadata": {},
     "execution_count": 13
    }
   ],
   "source": [
    "model.history"
   ]
  },
  {
   "cell_type": "code",
   "execution_count": 14,
   "metadata": {},
   "outputs": [
    {
     "output_type": "execute_result",
     "data": {
      "text/plain": [
       "Text(0, 0.5, 'loss')"
      ]
     },
     "metadata": {},
     "execution_count": 14
    },
    {
     "output_type": "display_data",
     "data": {
      "text/plain": "<Figure size 432x288 with 1 Axes>",
      "image/svg+xml": "<?xml version=\"1.0\" encoding=\"utf-8\" standalone=\"no\"?>\n<!DOCTYPE svg PUBLIC \"-//W3C//DTD SVG 1.1//EN\"\n  \"http://www.w3.org/Graphics/SVG/1.1/DTD/svg11.dtd\">\n<!-- Created with matplotlib (https://matplotlib.org/) -->\n<svg height=\"262.19625pt\" version=\"1.1\" viewBox=\"0 0 392.14375 262.19625\" width=\"392.14375pt\" xmlns=\"http://www.w3.org/2000/svg\" xmlns:xlink=\"http://www.w3.org/1999/xlink\">\n <metadata>\n  <rdf:RDF xmlns:cc=\"http://creativecommons.org/ns#\" xmlns:dc=\"http://purl.org/dc/elements/1.1/\" xmlns:rdf=\"http://www.w3.org/1999/02/22-rdf-syntax-ns#\">\n   <cc:Work>\n    <dc:type rdf:resource=\"http://purl.org/dc/dcmitype/StillImage\"/>\n    <dc:date>2020-11-02T13:18:00.899190</dc:date>\n    <dc:format>image/svg+xml</dc:format>\n    <dc:creator>\n     <cc:Agent>\n      <dc:title>Matplotlib v3.3.2, https://matplotlib.org/</dc:title>\n     </cc:Agent>\n    </dc:creator>\n   </cc:Work>\n  </rdf:RDF>\n </metadata>\n <defs>\n  <style type=\"text/css\">*{stroke-linecap:butt;stroke-linejoin:round;}</style>\n </defs>\n <g id=\"figure_1\">\n  <g id=\"patch_1\">\n   <path d=\"M 0 262.19625 \nL 392.14375 262.19625 \nL 392.14375 0 \nL 0 0 \nz\n\" style=\"fill:none;\"/>\n  </g>\n  <g id=\"axes_1\">\n   <g id=\"patch_2\">\n    <path d=\"M 50.14375 224.64 \nL 384.94375 224.64 \nL 384.94375 7.2 \nL 50.14375 7.2 \nz\n\" style=\"fill:#ffffff;\"/>\n   </g>\n   <g id=\"matplotlib.axis_1\">\n    <g id=\"xtick_1\">\n     <g id=\"line2d_1\">\n      <defs>\n       <path d=\"M 0 0 \nL 0 3.5 \n\" id=\"m8ac181aabd\" style=\"stroke:#000000;stroke-width:0.8;\"/>\n      </defs>\n      <g>\n       <use style=\"stroke:#000000;stroke-width:0.8;\" x=\"65.361932\" xlink:href=\"#m8ac181aabd\" y=\"224.64\"/>\n      </g>\n     </g>\n     <g id=\"text_1\">\n      <!-- 0 -->\n      <g transform=\"translate(62.180682 239.238437)scale(0.1 -0.1)\">\n       <defs>\n        <path d=\"M 31.78125 66.40625 \nQ 24.171875 66.40625 20.328125 58.90625 \nQ 16.5 51.421875 16.5 36.375 \nQ 16.5 21.390625 20.328125 13.890625 \nQ 24.171875 6.390625 31.78125 6.390625 \nQ 39.453125 6.390625 43.28125 13.890625 \nQ 47.125 21.390625 47.125 36.375 \nQ 47.125 51.421875 43.28125 58.90625 \nQ 39.453125 66.40625 31.78125 66.40625 \nz\nM 31.78125 74.21875 \nQ 44.046875 74.21875 50.515625 64.515625 \nQ 56.984375 54.828125 56.984375 36.375 \nQ 56.984375 17.96875 50.515625 8.265625 \nQ 44.046875 -1.421875 31.78125 -1.421875 \nQ 19.53125 -1.421875 13.0625 8.265625 \nQ 6.59375 17.96875 6.59375 36.375 \nQ 6.59375 54.828125 13.0625 64.515625 \nQ 19.53125 74.21875 31.78125 74.21875 \nz\n\" id=\"DejaVuSans-48\"/>\n       </defs>\n       <use xlink:href=\"#DejaVuSans-48\"/>\n      </g>\n     </g>\n    </g>\n    <g id=\"xtick_2\">\n     <g id=\"line2d_2\">\n      <g>\n       <use style=\"stroke:#000000;stroke-width:0.8;\" x=\"116.258861\" xlink:href=\"#m8ac181aabd\" y=\"224.64\"/>\n      </g>\n     </g>\n     <g id=\"text_2\">\n      <!-- 50 -->\n      <g transform=\"translate(109.896361 239.238437)scale(0.1 -0.1)\">\n       <defs>\n        <path d=\"M 10.796875 72.90625 \nL 49.515625 72.90625 \nL 49.515625 64.59375 \nL 19.828125 64.59375 \nL 19.828125 46.734375 \nQ 21.96875 47.46875 24.109375 47.828125 \nQ 26.265625 48.1875 28.421875 48.1875 \nQ 40.625 48.1875 47.75 41.5 \nQ 54.890625 34.8125 54.890625 23.390625 \nQ 54.890625 11.625 47.5625 5.09375 \nQ 40.234375 -1.421875 26.90625 -1.421875 \nQ 22.3125 -1.421875 17.546875 -0.640625 \nQ 12.796875 0.140625 7.71875 1.703125 \nL 7.71875 11.625 \nQ 12.109375 9.234375 16.796875 8.0625 \nQ 21.484375 6.890625 26.703125 6.890625 \nQ 35.15625 6.890625 40.078125 11.328125 \nQ 45.015625 15.765625 45.015625 23.390625 \nQ 45.015625 31 40.078125 35.4375 \nQ 35.15625 39.890625 26.703125 39.890625 \nQ 22.75 39.890625 18.8125 39.015625 \nQ 14.890625 38.140625 10.796875 36.28125 \nz\n\" id=\"DejaVuSans-53\"/>\n       </defs>\n       <use xlink:href=\"#DejaVuSans-53\"/>\n       <use x=\"63.623047\" xlink:href=\"#DejaVuSans-48\"/>\n      </g>\n     </g>\n    </g>\n    <g id=\"xtick_3\">\n     <g id=\"line2d_3\">\n      <g>\n       <use style=\"stroke:#000000;stroke-width:0.8;\" x=\"167.15579\" xlink:href=\"#m8ac181aabd\" y=\"224.64\"/>\n      </g>\n     </g>\n     <g id=\"text_3\">\n      <!-- 100 -->\n      <g transform=\"translate(157.61204 239.238437)scale(0.1 -0.1)\">\n       <defs>\n        <path d=\"M 12.40625 8.296875 \nL 28.515625 8.296875 \nL 28.515625 63.921875 \nL 10.984375 60.40625 \nL 10.984375 69.390625 \nL 28.421875 72.90625 \nL 38.28125 72.90625 \nL 38.28125 8.296875 \nL 54.390625 8.296875 \nL 54.390625 0 \nL 12.40625 0 \nz\n\" id=\"DejaVuSans-49\"/>\n       </defs>\n       <use xlink:href=\"#DejaVuSans-49\"/>\n       <use x=\"63.623047\" xlink:href=\"#DejaVuSans-48\"/>\n       <use x=\"127.246094\" xlink:href=\"#DejaVuSans-48\"/>\n      </g>\n     </g>\n    </g>\n    <g id=\"xtick_4\">\n     <g id=\"line2d_4\">\n      <g>\n       <use style=\"stroke:#000000;stroke-width:0.8;\" x=\"218.052719\" xlink:href=\"#m8ac181aabd\" y=\"224.64\"/>\n      </g>\n     </g>\n     <g id=\"text_4\">\n      <!-- 150 -->\n      <g transform=\"translate(208.508969 239.238437)scale(0.1 -0.1)\">\n       <use xlink:href=\"#DejaVuSans-49\"/>\n       <use x=\"63.623047\" xlink:href=\"#DejaVuSans-53\"/>\n       <use x=\"127.246094\" xlink:href=\"#DejaVuSans-48\"/>\n      </g>\n     </g>\n    </g>\n    <g id=\"xtick_5\">\n     <g id=\"line2d_5\">\n      <g>\n       <use style=\"stroke:#000000;stroke-width:0.8;\" x=\"268.949648\" xlink:href=\"#m8ac181aabd\" y=\"224.64\"/>\n      </g>\n     </g>\n     <g id=\"text_5\">\n      <!-- 200 -->\n      <g transform=\"translate(259.405898 239.238437)scale(0.1 -0.1)\">\n       <defs>\n        <path d=\"M 19.1875 8.296875 \nL 53.609375 8.296875 \nL 53.609375 0 \nL 7.328125 0 \nL 7.328125 8.296875 \nQ 12.9375 14.109375 22.625 23.890625 \nQ 32.328125 33.6875 34.8125 36.53125 \nQ 39.546875 41.84375 41.421875 45.53125 \nQ 43.3125 49.21875 43.3125 52.78125 \nQ 43.3125 58.59375 39.234375 62.25 \nQ 35.15625 65.921875 28.609375 65.921875 \nQ 23.96875 65.921875 18.8125 64.3125 \nQ 13.671875 62.703125 7.8125 59.421875 \nL 7.8125 69.390625 \nQ 13.765625 71.78125 18.9375 73 \nQ 24.125 74.21875 28.421875 74.21875 \nQ 39.75 74.21875 46.484375 68.546875 \nQ 53.21875 62.890625 53.21875 53.421875 \nQ 53.21875 48.921875 51.53125 44.890625 \nQ 49.859375 40.875 45.40625 35.40625 \nQ 44.1875 33.984375 37.640625 27.21875 \nQ 31.109375 20.453125 19.1875 8.296875 \nz\n\" id=\"DejaVuSans-50\"/>\n       </defs>\n       <use xlink:href=\"#DejaVuSans-50\"/>\n       <use x=\"63.623047\" xlink:href=\"#DejaVuSans-48\"/>\n       <use x=\"127.246094\" xlink:href=\"#DejaVuSans-48\"/>\n      </g>\n     </g>\n    </g>\n    <g id=\"xtick_6\">\n     <g id=\"line2d_6\">\n      <g>\n       <use style=\"stroke:#000000;stroke-width:0.8;\" x=\"319.846578\" xlink:href=\"#m8ac181aabd\" y=\"224.64\"/>\n      </g>\n     </g>\n     <g id=\"text_6\">\n      <!-- 250 -->\n      <g transform=\"translate(310.302828 239.238437)scale(0.1 -0.1)\">\n       <use xlink:href=\"#DejaVuSans-50\"/>\n       <use x=\"63.623047\" xlink:href=\"#DejaVuSans-53\"/>\n       <use x=\"127.246094\" xlink:href=\"#DejaVuSans-48\"/>\n      </g>\n     </g>\n    </g>\n    <g id=\"xtick_7\">\n     <g id=\"line2d_7\">\n      <g>\n       <use style=\"stroke:#000000;stroke-width:0.8;\" x=\"370.743507\" xlink:href=\"#m8ac181aabd\" y=\"224.64\"/>\n      </g>\n     </g>\n     <g id=\"text_7\">\n      <!-- 300 -->\n      <g transform=\"translate(361.199757 239.238437)scale(0.1 -0.1)\">\n       <defs>\n        <path d=\"M 40.578125 39.3125 \nQ 47.65625 37.796875 51.625 33 \nQ 55.609375 28.21875 55.609375 21.1875 \nQ 55.609375 10.40625 48.1875 4.484375 \nQ 40.765625 -1.421875 27.09375 -1.421875 \nQ 22.515625 -1.421875 17.65625 -0.515625 \nQ 12.796875 0.390625 7.625 2.203125 \nL 7.625 11.71875 \nQ 11.71875 9.328125 16.59375 8.109375 \nQ 21.484375 6.890625 26.8125 6.890625 \nQ 36.078125 6.890625 40.9375 10.546875 \nQ 45.796875 14.203125 45.796875 21.1875 \nQ 45.796875 27.640625 41.28125 31.265625 \nQ 36.765625 34.90625 28.71875 34.90625 \nL 20.21875 34.90625 \nL 20.21875 43.015625 \nL 29.109375 43.015625 \nQ 36.375 43.015625 40.234375 45.921875 \nQ 44.09375 48.828125 44.09375 54.296875 \nQ 44.09375 59.90625 40.109375 62.90625 \nQ 36.140625 65.921875 28.71875 65.921875 \nQ 24.65625 65.921875 20.015625 65.03125 \nQ 15.375 64.15625 9.8125 62.3125 \nL 9.8125 71.09375 \nQ 15.4375 72.65625 20.34375 73.4375 \nQ 25.25 74.21875 29.59375 74.21875 \nQ 40.828125 74.21875 47.359375 69.109375 \nQ 53.90625 64.015625 53.90625 55.328125 \nQ 53.90625 49.265625 50.4375 45.09375 \nQ 46.96875 40.921875 40.578125 39.3125 \nz\n\" id=\"DejaVuSans-51\"/>\n       </defs>\n       <use xlink:href=\"#DejaVuSans-51\"/>\n       <use x=\"63.623047\" xlink:href=\"#DejaVuSans-48\"/>\n       <use x=\"127.246094\" xlink:href=\"#DejaVuSans-48\"/>\n      </g>\n     </g>\n    </g>\n    <g id=\"text_8\">\n     <!-- epochs -->\n     <g transform=\"translate(199.710938 252.916562)scale(0.1 -0.1)\">\n      <defs>\n       <path d=\"M 56.203125 29.59375 \nL 56.203125 25.203125 \nL 14.890625 25.203125 \nQ 15.484375 15.921875 20.484375 11.0625 \nQ 25.484375 6.203125 34.421875 6.203125 \nQ 39.59375 6.203125 44.453125 7.46875 \nQ 49.3125 8.734375 54.109375 11.28125 \nL 54.109375 2.78125 \nQ 49.265625 0.734375 44.1875 -0.34375 \nQ 39.109375 -1.421875 33.890625 -1.421875 \nQ 20.796875 -1.421875 13.15625 6.1875 \nQ 5.515625 13.8125 5.515625 26.8125 \nQ 5.515625 40.234375 12.765625 48.109375 \nQ 20.015625 56 32.328125 56 \nQ 43.359375 56 49.78125 48.890625 \nQ 56.203125 41.796875 56.203125 29.59375 \nz\nM 47.21875 32.234375 \nQ 47.125 39.59375 43.09375 43.984375 \nQ 39.0625 48.390625 32.421875 48.390625 \nQ 24.90625 48.390625 20.390625 44.140625 \nQ 15.875 39.890625 15.1875 32.171875 \nz\n\" id=\"DejaVuSans-101\"/>\n       <path d=\"M 18.109375 8.203125 \nL 18.109375 -20.796875 \nL 9.078125 -20.796875 \nL 9.078125 54.6875 \nL 18.109375 54.6875 \nL 18.109375 46.390625 \nQ 20.953125 51.265625 25.265625 53.625 \nQ 29.59375 56 35.59375 56 \nQ 45.5625 56 51.78125 48.09375 \nQ 58.015625 40.1875 58.015625 27.296875 \nQ 58.015625 14.40625 51.78125 6.484375 \nQ 45.5625 -1.421875 35.59375 -1.421875 \nQ 29.59375 -1.421875 25.265625 0.953125 \nQ 20.953125 3.328125 18.109375 8.203125 \nz\nM 48.6875 27.296875 \nQ 48.6875 37.203125 44.609375 42.84375 \nQ 40.53125 48.484375 33.40625 48.484375 \nQ 26.265625 48.484375 22.1875 42.84375 \nQ 18.109375 37.203125 18.109375 27.296875 \nQ 18.109375 17.390625 22.1875 11.75 \nQ 26.265625 6.109375 33.40625 6.109375 \nQ 40.53125 6.109375 44.609375 11.75 \nQ 48.6875 17.390625 48.6875 27.296875 \nz\n\" id=\"DejaVuSans-112\"/>\n       <path d=\"M 30.609375 48.390625 \nQ 23.390625 48.390625 19.1875 42.75 \nQ 14.984375 37.109375 14.984375 27.296875 \nQ 14.984375 17.484375 19.15625 11.84375 \nQ 23.34375 6.203125 30.609375 6.203125 \nQ 37.796875 6.203125 41.984375 11.859375 \nQ 46.1875 17.53125 46.1875 27.296875 \nQ 46.1875 37.015625 41.984375 42.703125 \nQ 37.796875 48.390625 30.609375 48.390625 \nz\nM 30.609375 56 \nQ 42.328125 56 49.015625 48.375 \nQ 55.71875 40.765625 55.71875 27.296875 \nQ 55.71875 13.875 49.015625 6.21875 \nQ 42.328125 -1.421875 30.609375 -1.421875 \nQ 18.84375 -1.421875 12.171875 6.21875 \nQ 5.515625 13.875 5.515625 27.296875 \nQ 5.515625 40.765625 12.171875 48.375 \nQ 18.84375 56 30.609375 56 \nz\n\" id=\"DejaVuSans-111\"/>\n       <path d=\"M 48.78125 52.59375 \nL 48.78125 44.1875 \nQ 44.96875 46.296875 41.140625 47.34375 \nQ 37.3125 48.390625 33.40625 48.390625 \nQ 24.65625 48.390625 19.8125 42.84375 \nQ 14.984375 37.3125 14.984375 27.296875 \nQ 14.984375 17.28125 19.8125 11.734375 \nQ 24.65625 6.203125 33.40625 6.203125 \nQ 37.3125 6.203125 41.140625 7.25 \nQ 44.96875 8.296875 48.78125 10.40625 \nL 48.78125 2.09375 \nQ 45.015625 0.34375 40.984375 -0.53125 \nQ 36.96875 -1.421875 32.421875 -1.421875 \nQ 20.0625 -1.421875 12.78125 6.34375 \nQ 5.515625 14.109375 5.515625 27.296875 \nQ 5.515625 40.671875 12.859375 48.328125 \nQ 20.21875 56 33.015625 56 \nQ 37.15625 56 41.109375 55.140625 \nQ 45.0625 54.296875 48.78125 52.59375 \nz\n\" id=\"DejaVuSans-99\"/>\n       <path d=\"M 54.890625 33.015625 \nL 54.890625 0 \nL 45.90625 0 \nL 45.90625 32.71875 \nQ 45.90625 40.484375 42.875 44.328125 \nQ 39.84375 48.1875 33.796875 48.1875 \nQ 26.515625 48.1875 22.3125 43.546875 \nQ 18.109375 38.921875 18.109375 30.90625 \nL 18.109375 0 \nL 9.078125 0 \nL 9.078125 75.984375 \nL 18.109375 75.984375 \nL 18.109375 46.1875 \nQ 21.34375 51.125 25.703125 53.5625 \nQ 30.078125 56 35.796875 56 \nQ 45.21875 56 50.046875 50.171875 \nQ 54.890625 44.34375 54.890625 33.015625 \nz\n\" id=\"DejaVuSans-104\"/>\n       <path d=\"M 44.28125 53.078125 \nL 44.28125 44.578125 \nQ 40.484375 46.53125 36.375 47.5 \nQ 32.28125 48.484375 27.875 48.484375 \nQ 21.1875 48.484375 17.84375 46.4375 \nQ 14.5 44.390625 14.5 40.28125 \nQ 14.5 37.15625 16.890625 35.375 \nQ 19.28125 33.59375 26.515625 31.984375 \nL 29.59375 31.296875 \nQ 39.15625 29.25 43.1875 25.515625 \nQ 47.21875 21.78125 47.21875 15.09375 \nQ 47.21875 7.46875 41.1875 3.015625 \nQ 35.15625 -1.421875 24.609375 -1.421875 \nQ 20.21875 -1.421875 15.453125 -0.5625 \nQ 10.6875 0.296875 5.421875 2 \nL 5.421875 11.28125 \nQ 10.40625 8.6875 15.234375 7.390625 \nQ 20.0625 6.109375 24.8125 6.109375 \nQ 31.15625 6.109375 34.5625 8.28125 \nQ 37.984375 10.453125 37.984375 14.40625 \nQ 37.984375 18.0625 35.515625 20.015625 \nQ 33.0625 21.96875 24.703125 23.78125 \nL 21.578125 24.515625 \nQ 13.234375 26.265625 9.515625 29.90625 \nQ 5.8125 33.546875 5.8125 39.890625 \nQ 5.8125 47.609375 11.28125 51.796875 \nQ 16.75 56 26.8125 56 \nQ 31.78125 56 36.171875 55.265625 \nQ 40.578125 54.546875 44.28125 53.078125 \nz\n\" id=\"DejaVuSans-115\"/>\n      </defs>\n      <use xlink:href=\"#DejaVuSans-101\"/>\n      <use x=\"61.523438\" xlink:href=\"#DejaVuSans-112\"/>\n      <use x=\"125\" xlink:href=\"#DejaVuSans-111\"/>\n      <use x=\"186.181641\" xlink:href=\"#DejaVuSans-99\"/>\n      <use x=\"241.162109\" xlink:href=\"#DejaVuSans-104\"/>\n      <use x=\"304.541016\" xlink:href=\"#DejaVuSans-115\"/>\n     </g>\n    </g>\n   </g>\n   <g id=\"matplotlib.axis_2\">\n    <g id=\"ytick_1\">\n     <g id=\"line2d_8\">\n      <defs>\n       <path d=\"M 0 0 \nL -3.5 0 \n\" id=\"m87e62eb5eb\" style=\"stroke:#000000;stroke-width:0.8;\"/>\n      </defs>\n      <g>\n       <use style=\"stroke:#000000;stroke-width:0.8;\" x=\"50.14375\" xlink:href=\"#m87e62eb5eb\" y=\"218.072873\"/>\n      </g>\n     </g>\n     <g id=\"text_9\">\n      <!-- 0.30 -->\n      <g transform=\"translate(20.878125 221.872092)scale(0.1 -0.1)\">\n       <defs>\n        <path d=\"M 10.6875 12.40625 \nL 21 12.40625 \nL 21 0 \nL 10.6875 0 \nz\n\" id=\"DejaVuSans-46\"/>\n       </defs>\n       <use xlink:href=\"#DejaVuSans-48\"/>\n       <use x=\"63.623047\" xlink:href=\"#DejaVuSans-46\"/>\n       <use x=\"95.410156\" xlink:href=\"#DejaVuSans-51\"/>\n       <use x=\"159.033203\" xlink:href=\"#DejaVuSans-48\"/>\n      </g>\n     </g>\n    </g>\n    <g id=\"ytick_2\">\n     <g id=\"line2d_9\">\n      <g>\n       <use style=\"stroke:#000000;stroke-width:0.8;\" x=\"50.14375\" xlink:href=\"#m87e62eb5eb\" y=\"190.819336\"/>\n      </g>\n     </g>\n     <g id=\"text_10\">\n      <!-- 0.35 -->\n      <g transform=\"translate(20.878125 194.618555)scale(0.1 -0.1)\">\n       <use xlink:href=\"#DejaVuSans-48\"/>\n       <use x=\"63.623047\" xlink:href=\"#DejaVuSans-46\"/>\n       <use x=\"95.410156\" xlink:href=\"#DejaVuSans-51\"/>\n       <use x=\"159.033203\" xlink:href=\"#DejaVuSans-53\"/>\n      </g>\n     </g>\n    </g>\n    <g id=\"ytick_3\">\n     <g id=\"line2d_10\">\n      <g>\n       <use style=\"stroke:#000000;stroke-width:0.8;\" x=\"50.14375\" xlink:href=\"#m87e62eb5eb\" y=\"163.5658\"/>\n      </g>\n     </g>\n     <g id=\"text_11\">\n      <!-- 0.40 -->\n      <g transform=\"translate(20.878125 167.365019)scale(0.1 -0.1)\">\n       <defs>\n        <path d=\"M 37.796875 64.3125 \nL 12.890625 25.390625 \nL 37.796875 25.390625 \nz\nM 35.203125 72.90625 \nL 47.609375 72.90625 \nL 47.609375 25.390625 \nL 58.015625 25.390625 \nL 58.015625 17.1875 \nL 47.609375 17.1875 \nL 47.609375 0 \nL 37.796875 0 \nL 37.796875 17.1875 \nL 4.890625 17.1875 \nL 4.890625 26.703125 \nz\n\" id=\"DejaVuSans-52\"/>\n       </defs>\n       <use xlink:href=\"#DejaVuSans-48\"/>\n       <use x=\"63.623047\" xlink:href=\"#DejaVuSans-46\"/>\n       <use x=\"95.410156\" xlink:href=\"#DejaVuSans-52\"/>\n       <use x=\"159.033203\" xlink:href=\"#DejaVuSans-48\"/>\n      </g>\n     </g>\n    </g>\n    <g id=\"ytick_4\">\n     <g id=\"line2d_11\">\n      <g>\n       <use style=\"stroke:#000000;stroke-width:0.8;\" x=\"50.14375\" xlink:href=\"#m87e62eb5eb\" y=\"136.312264\"/>\n      </g>\n     </g>\n     <g id=\"text_12\">\n      <!-- 0.45 -->\n      <g transform=\"translate(20.878125 140.111482)scale(0.1 -0.1)\">\n       <use xlink:href=\"#DejaVuSans-48\"/>\n       <use x=\"63.623047\" xlink:href=\"#DejaVuSans-46\"/>\n       <use x=\"95.410156\" xlink:href=\"#DejaVuSans-52\"/>\n       <use x=\"159.033203\" xlink:href=\"#DejaVuSans-53\"/>\n      </g>\n     </g>\n    </g>\n    <g id=\"ytick_5\">\n     <g id=\"line2d_12\">\n      <g>\n       <use style=\"stroke:#000000;stroke-width:0.8;\" x=\"50.14375\" xlink:href=\"#m87e62eb5eb\" y=\"109.058727\"/>\n      </g>\n     </g>\n     <g id=\"text_13\">\n      <!-- 0.50 -->\n      <g transform=\"translate(20.878125 112.857946)scale(0.1 -0.1)\">\n       <use xlink:href=\"#DejaVuSans-48\"/>\n       <use x=\"63.623047\" xlink:href=\"#DejaVuSans-46\"/>\n       <use x=\"95.410156\" xlink:href=\"#DejaVuSans-53\"/>\n       <use x=\"159.033203\" xlink:href=\"#DejaVuSans-48\"/>\n      </g>\n     </g>\n    </g>\n    <g id=\"ytick_6\">\n     <g id=\"line2d_13\">\n      <g>\n       <use style=\"stroke:#000000;stroke-width:0.8;\" x=\"50.14375\" xlink:href=\"#m87e62eb5eb\" y=\"81.805191\"/>\n      </g>\n     </g>\n     <g id=\"text_14\">\n      <!-- 0.55 -->\n      <g transform=\"translate(20.878125 85.604409)scale(0.1 -0.1)\">\n       <use xlink:href=\"#DejaVuSans-48\"/>\n       <use x=\"63.623047\" xlink:href=\"#DejaVuSans-46\"/>\n       <use x=\"95.410156\" xlink:href=\"#DejaVuSans-53\"/>\n       <use x=\"159.033203\" xlink:href=\"#DejaVuSans-53\"/>\n      </g>\n     </g>\n    </g>\n    <g id=\"ytick_7\">\n     <g id=\"line2d_14\">\n      <g>\n       <use style=\"stroke:#000000;stroke-width:0.8;\" x=\"50.14375\" xlink:href=\"#m87e62eb5eb\" y=\"54.551654\"/>\n      </g>\n     </g>\n     <g id=\"text_15\">\n      <!-- 0.60 -->\n      <g transform=\"translate(20.878125 58.350873)scale(0.1 -0.1)\">\n       <defs>\n        <path d=\"M 33.015625 40.375 \nQ 26.375 40.375 22.484375 35.828125 \nQ 18.609375 31.296875 18.609375 23.390625 \nQ 18.609375 15.53125 22.484375 10.953125 \nQ 26.375 6.390625 33.015625 6.390625 \nQ 39.65625 6.390625 43.53125 10.953125 \nQ 47.40625 15.53125 47.40625 23.390625 \nQ 47.40625 31.296875 43.53125 35.828125 \nQ 39.65625 40.375 33.015625 40.375 \nz\nM 52.59375 71.296875 \nL 52.59375 62.3125 \nQ 48.875 64.0625 45.09375 64.984375 \nQ 41.3125 65.921875 37.59375 65.921875 \nQ 27.828125 65.921875 22.671875 59.328125 \nQ 17.53125 52.734375 16.796875 39.40625 \nQ 19.671875 43.65625 24.015625 45.921875 \nQ 28.375 48.1875 33.59375 48.1875 \nQ 44.578125 48.1875 50.953125 41.515625 \nQ 57.328125 34.859375 57.328125 23.390625 \nQ 57.328125 12.15625 50.6875 5.359375 \nQ 44.046875 -1.421875 33.015625 -1.421875 \nQ 20.359375 -1.421875 13.671875 8.265625 \nQ 6.984375 17.96875 6.984375 36.375 \nQ 6.984375 53.65625 15.1875 63.9375 \nQ 23.390625 74.21875 37.203125 74.21875 \nQ 40.921875 74.21875 44.703125 73.484375 \nQ 48.484375 72.75 52.59375 71.296875 \nz\n\" id=\"DejaVuSans-54\"/>\n       </defs>\n       <use xlink:href=\"#DejaVuSans-48\"/>\n       <use x=\"63.623047\" xlink:href=\"#DejaVuSans-46\"/>\n       <use x=\"95.410156\" xlink:href=\"#DejaVuSans-54\"/>\n       <use x=\"159.033203\" xlink:href=\"#DejaVuSans-48\"/>\n      </g>\n     </g>\n    </g>\n    <g id=\"ytick_8\">\n     <g id=\"line2d_15\">\n      <g>\n       <use style=\"stroke:#000000;stroke-width:0.8;\" x=\"50.14375\" xlink:href=\"#m87e62eb5eb\" y=\"27.298118\"/>\n      </g>\n     </g>\n     <g id=\"text_16\">\n      <!-- 0.65 -->\n      <g transform=\"translate(20.878125 31.097336)scale(0.1 -0.1)\">\n       <use xlink:href=\"#DejaVuSans-48\"/>\n       <use x=\"63.623047\" xlink:href=\"#DejaVuSans-46\"/>\n       <use x=\"95.410156\" xlink:href=\"#DejaVuSans-54\"/>\n       <use x=\"159.033203\" xlink:href=\"#DejaVuSans-53\"/>\n      </g>\n     </g>\n    </g>\n    <g id=\"text_17\">\n     <!-- loss -->\n     <g transform=\"translate(14.798438 125.577812)rotate(-90)scale(0.1 -0.1)\">\n      <defs>\n       <path d=\"M 9.421875 75.984375 \nL 18.40625 75.984375 \nL 18.40625 0 \nL 9.421875 0 \nz\n\" id=\"DejaVuSans-108\"/>\n      </defs>\n      <use xlink:href=\"#DejaVuSans-108\"/>\n      <use x=\"27.783203\" xlink:href=\"#DejaVuSans-111\"/>\n      <use x=\"88.964844\" xlink:href=\"#DejaVuSans-115\"/>\n      <use x=\"141.064453\" xlink:href=\"#DejaVuSans-115\"/>\n     </g>\n    </g>\n   </g>\n   <g id=\"line2d_16\">\n    <path clip-path=\"url(#p60e651d8e3)\" d=\"M 65.361932 17.083636 \nL 66.37987 31.743258 \nL 67.397809 43.036469 \nL 68.415748 56.927455 \nL 69.433686 67.607266 \nL 70.451625 75.910869 \nL 71.469563 82.05891 \nL 72.487502 90.818828 \nL 73.50544 92.09678 \nL 74.523379 100.694454 \nL 75.541318 105.879379 \nL 76.559256 114.310916 \nL 77.577195 118.863898 \nL 78.595133 116.834137 \nL 79.613072 127.958106 \nL 80.631011 126.79451 \nL 81.648949 131.904732 \nL 82.666888 130.102443 \nL 83.684826 129.330169 \nL 84.702765 132.0806 \nL 85.720703 139.123717 \nL 86.738642 141.457084 \nL 87.756581 139.524742 \nL 88.774519 142.07685 \nL 89.792458 142.94011 \nL 90.810396 142.277926 \nL 91.828335 136.948103 \nL 92.846274 142.905287 \nL 93.864212 143.999704 \nL 94.882151 145.903166 \nL 95.900089 145.77391 \nL 96.918028 139.07255 \nL 97.935966 150.4573 \nL 98.953905 147.234844 \nL 99.971844 150.837486 \nL 100.989782 149.418555 \nL 102.007721 148.509929 \nL 104.043598 150.911036 \nL 105.061537 147.022019 \nL 106.079475 151.286235 \nL 107.097414 154.950265 \nL 108.115352 153.057406 \nL 109.133291 148.270729 \nL 110.151229 153.94186 \nL 111.169168 156.426168 \nL 112.187107 157.658751 \nL 113.205045 151.758638 \nL 114.222984 159.285075 \nL 115.240922 156.013448 \nL 116.258861 150.100925 \nL 118.294738 158.49633 \nL 119.312677 160.516008 \nL 120.330615 159.85638 \nL 121.348554 155.249092 \nL 122.366492 160.194931 \nL 123.384431 158.383017 \nL 124.40237 156.160027 \nL 126.438247 163.447332 \nL 127.456185 162.233062 \nL 128.474124 161.848575 \nL 129.492063 160.937198 \nL 130.510001 160.537107 \nL 131.52794 160.683107 \nL 133.563817 157.431236 \nL 134.581755 164.32255 \nL 135.599694 161.045881 \nL 136.617633 161.670553 \nL 137.635571 165.478977 \nL 138.65351 163.861523 \nL 139.671448 165.303609 \nL 140.689387 168.821894 \nL 141.707326 156.601706 \nL 143.743203 164.680834 \nL 144.761141 166.339726 \nL 145.77908 166.248742 \nL 146.797018 163.83537 \nL 147.814957 167.613924 \nL 148.832896 164.462943 \nL 149.850834 164.356484 \nL 150.868773 162.152789 \nL 151.886711 168.746336 \nL 152.90465 165.824332 \nL 153.922589 165.559225 \nL 154.940527 165.875703 \nL 155.958466 167.864617 \nL 156.976404 154.182866 \nL 157.994343 165.153822 \nL 159.012281 164.121146 \nL 160.03022 170.261221 \nL 161.048159 169.750842 \nL 162.066097 170.215493 \nL 163.084036 161.2492 \nL 164.101974 167.257537 \nL 165.119913 169.547934 \nL 166.137852 172.127105 \nL 167.15579 164.09076 \nL 168.173729 166.046232 \nL 169.191667 169.998486 \nL 170.209606 167.573412 \nL 171.227544 168.814705 \nL 172.245483 172.657822 \nL 173.263422 173.709725 \nL 174.28136 167.616932 \nL 175.299299 164.054611 \nL 176.317237 172.932316 \nL 177.335176 168.029 \nL 178.353115 169.097202 \nL 179.371053 171.625054 \nL 180.388992 175.087912 \nL 182.424869 171.48639 \nL 183.442807 171.451336 \nL 184.460746 173.941837 \nL 185.478685 171.921333 \nL 186.496623 165.976654 \nL 187.514562 170.197835 \nL 188.5325 175.261383 \nL 189.550439 176.736431 \nL 190.568378 175.819786 \nL 191.586316 177.475763 \nL 192.604255 177.34603 \nL 193.622193 171.948493 \nL 194.640132 169.215782 \nL 195.65807 172.281991 \nL 196.676009 178.163631 \nL 197.693948 177.804471 \nL 198.711886 176.155817 \nL 199.729825 178.67725 \nL 200.747763 178.411603 \nL 201.765702 175.843449 \nL 202.783641 179.856918 \nL 203.801579 179.165731 \nL 204.819518 180.29374 \nL 205.837456 175.854638 \nL 206.855395 174.649721 \nL 207.873333 180.576026 \nL 208.891272 183.072644 \nL 209.909211 174.750506 \nL 210.927149 181.429711 \nL 211.945088 179.769024 \nL 212.963026 177.436256 \nL 213.980965 183.662788 \nL 214.998904 181.959752 \nL 216.016842 179.791703 \nL 217.034781 184.120735 \nL 218.052719 184.645745 \nL 219.070658 181.791293 \nL 220.088596 185.95367 \nL 221.106535 184.267647 \nL 222.124474 178.753978 \nL 223.142412 182.540334 \nL 224.160351 185.81543 \nL 225.178289 186.506919 \nL 226.196228 185.766253 \nL 227.214167 182.08079 \nL 229.250044 184.948616 \nL 230.267982 180.7014 \nL 231.285921 186.902187 \nL 232.303859 186.134418 \nL 233.321798 184.981242 \nL 234.339737 185.925079 \nL 235.357675 184.830067 \nL 236.375614 186.350107 \nL 237.393552 186.658343 \nL 238.411491 181.050662 \nL 239.42943 184.508928 \nL 240.447368 183.970337 \nL 241.465307 186.994807 \nL 242.483245 187.968118 \nL 243.501184 190.419425 \nL 244.519122 189.716781 \nL 245.537061 184.118786 \nL 246.555 183.378537 \nL 247.572938 189.914154 \nL 248.590877 178.604392 \nL 249.608815 189.011064 \nL 250.626754 192.822194 \nL 252.662631 189.338348 \nL 253.68057 189.93162 \nL 254.698508 190.761521 \nL 255.716447 192.397193 \nL 256.734385 191.57645 \nL 257.752324 192.965185 \nL 258.770263 191.500222 \nL 259.788201 192.746655 \nL 260.80614 192.482786 \nL 261.824078 183.620728 \nL 262.842017 193.949518 \nL 263.859956 192.95541 \nL 264.877894 194.812242 \nL 265.895833 193.866593 \nL 266.913771 191.724736 \nL 267.93171 186.362428 \nL 268.949648 195.390869 \nL 269.967587 195.466555 \nL 270.985526 194.958764 \nL 272.003464 192.888347 \nL 273.021403 197.738364 \nL 274.039341 191.111482 \nL 275.05728 196.153066 \nL 276.075219 194.113994 \nL 277.093157 196.586981 \nL 278.111096 191.833396 \nL 279.129034 193.253326 \nL 280.146973 197.303666 \nL 281.164911 191.545637 \nL 282.18285 194.334429 \nL 283.200789 194.260826 \nL 284.218727 193.937652 \nL 285.236666 192.806713 \nL 286.254604 196.2271 \nL 287.272543 195.631156 \nL 288.290482 190.740952 \nL 289.30842 191.37768 \nL 290.326359 193.166365 \nL 291.344297 199.27424 \nL 292.362236 199.997542 \nL 293.380174 198.122159 \nL 294.398113 200.34214 \nL 295.416052 201.472877 \nL 296.43399 201.201926 \nL 297.451929 201.92043 \nL 298.469867 199.508569 \nL 299.487806 204.921426 \nL 300.505745 200.145349 \nL 301.523683 206.049234 \nL 302.541622 199.143356 \nL 303.55956 194.128486 \nL 304.577499 196.14491 \nL 305.595437 201.018548 \nL 306.613376 199.946917 \nL 307.631315 199.242285 \nL 308.649253 194.463102 \nL 309.667192 199.60282 \nL 310.68513 195.603696 \nL 311.703069 203.244268 \nL 312.721008 197.453381 \nL 313.738946 202.165204 \nL 314.756885 204.530341 \nL 315.774823 199.795127 \nL 316.792762 204.180806 \nL 317.8107 202.330483 \nL 318.828639 205.953319 \nL 319.846578 202.18774 \nL 320.864516 202.175967 \nL 321.882455 202.387148 \nL 322.900393 204.073378 \nL 323.918332 206.039667 \nL 324.936271 201.334012 \nL 326.972148 206.679884 \nL 327.990086 206.182002 \nL 331.043902 207.658231 \nL 332.061841 205.345234 \nL 333.079779 203.521407 \nL 334.097718 207.589824 \nL 335.115656 206.925325 \nL 336.133595 207.396389 \nL 337.151534 207.383726 \nL 338.169472 210.404329 \nL 339.187411 208.070791 \nL 340.205349 208.335118 \nL 341.223288 210.187511 \nL 342.241226 211.007311 \nL 343.259165 210.367789 \nL 344.277104 212.691789 \nL 345.295042 211.51706 \nL 346.312981 210.632241 \nL 347.330919 212.897021 \nL 348.348858 210.653427 \nL 349.366797 211.219688 \nL 350.384735 208.702139 \nL 351.402674 209.424555 \nL 352.420612 210.691872 \nL 353.438551 209.708266 \nL 354.456489 201.984877 \nL 355.474428 212.296437 \nL 356.492367 211.711643 \nL 357.510305 211.453028 \nL 358.528244 212.925946 \nL 359.546182 209.003773 \nL 360.564121 212.213978 \nL 361.58206 213.566174 \nL 362.599998 213.897415 \nL 363.617937 213.410875 \nL 364.635875 213.92938 \nL 365.653814 213.915517 \nL 366.671752 214.597168 \nL 367.689691 214.756364 \nL 368.70763 202.474628 \nL 369.725568 212.115687 \nL 369.725568 212.115687 \n\" style=\"fill:none;stroke:#1f77b4;stroke-linecap:square;stroke-width:1.5;\"/>\n   </g>\n   <g id=\"patch_3\">\n    <path d=\"M 50.14375 224.64 \nL 50.14375 7.2 \n\" style=\"fill:none;stroke:#000000;stroke-linecap:square;stroke-linejoin:miter;stroke-width:0.8;\"/>\n   </g>\n   <g id=\"patch_4\">\n    <path d=\"M 384.94375 224.64 \nL 384.94375 7.2 \n\" style=\"fill:none;stroke:#000000;stroke-linecap:square;stroke-linejoin:miter;stroke-width:0.8;\"/>\n   </g>\n   <g id=\"patch_5\">\n    <path d=\"M 50.14375 224.64 \nL 384.94375 224.64 \n\" style=\"fill:none;stroke:#000000;stroke-linecap:square;stroke-linejoin:miter;stroke-width:0.8;\"/>\n   </g>\n   <g id=\"patch_6\">\n    <path d=\"M 50.14375 7.2 \nL 384.94375 7.2 \n\" style=\"fill:none;stroke:#000000;stroke-linecap:square;stroke-linejoin:miter;stroke-width:0.8;\"/>\n   </g>\n  </g>\n </g>\n <defs>\n  <clipPath id=\"p60e651d8e3\">\n   <rect height=\"217.44\" width=\"334.8\" x=\"50.14375\" y=\"7.2\"/>\n  </clipPath>\n </defs>\n</svg>\n",
      "image/png": "[encoded data removed]"
     },
     "metadata": {
      "needs_background": "light"
     }
    }
   ],
   "source": [
    "#plotting loss against no. of epochs\n",
    "%matplotlib inline\n",
    "import matplotlib.pyplot as plt\n",
    "plt.plot(model.history.epoch, model.history.history['loss'])\n",
    "plt.xlabel('epochs')\n",
    "plt.ylabel('loss')"
   ]
  },
  {
   "cell_type": "code",
   "execution_count": 16,
   "metadata": {},
   "outputs": [
    {
     "output_type": "execute_result",
     "data": {
      "text/plain": [
       "Text(0, 0.5, 'accuracy')"
      ]
     },
     "metadata": {},
     "execution_count": 16
    },
    {
     "output_type": "display_data",
     "data": {
      "text/plain": "<Figure size 432x288 with 1 Axes>",
      "image/svg+xml": "<?xml version=\"1.0\" encoding=\"utf-8\" standalone=\"no\"?>\n<!DOCTYPE svg PUBLIC \"-//W3C//DTD SVG 1.1//EN\"\n  \"http://www.w3.org/Graphics/SVG/1.1/DTD/svg11.dtd\">\n<!-- Created with matplotlib (https://matplotlib.org/) -->\n<svg height=\"262.19625pt\" version=\"1.1\" viewBox=\"0 0 392.14375 262.19625\" width=\"392.14375pt\" xmlns=\"http://www.w3.org/2000/svg\" xmlns:xlink=\"http://www.w3.org/1999/xlink\">\n <metadata>\n  <rdf:RDF xmlns:cc=\"http://creativecommons.org/ns#\" xmlns:dc=\"http://purl.org/dc/elements/1.1/\" xmlns:rdf=\"http://www.w3.org/1999/02/22-rdf-syntax-ns#\">\n   <cc:Work>\n    <dc:type rdf:resource=\"http://purl.org/dc/dcmitype/StillImage\"/>\n    <dc:date>2020-11-02T13:18:35.378064</dc:date>\n    <dc:format>image/svg+xml</dc:format>\n    <dc:creator>\n     <cc:Agent>\n      <dc:title>Matplotlib v3.3.2, https://matplotlib.org/</dc:title>\n     </cc:Agent>\n    </dc:creator>\n   </cc:Work>\n  </rdf:RDF>\n </metadata>\n <defs>\n  <style type=\"text/css\">*{stroke-linecap:butt;stroke-linejoin:round;}</style>\n </defs>\n <g id=\"figure_1\">\n  <g id=\"patch_1\">\n   <path d=\"M 0 262.19625 \nL 392.14375 262.19625 \nL 392.14375 0 \nL 0 0 \nz\n\" style=\"fill:none;\"/>\n  </g>\n  <g id=\"axes_1\">\n   <g id=\"patch_2\">\n    <path d=\"M 50.14375 224.64 \nL 384.94375 224.64 \nL 384.94375 7.2 \nL 50.14375 7.2 \nz\n\" style=\"fill:#ffffff;\"/>\n   </g>\n   <g id=\"matplotlib.axis_1\">\n    <g id=\"xtick_1\">\n     <g id=\"line2d_1\">\n      <defs>\n       <path d=\"M 0 0 \nL 0 3.5 \n\" id=\"m6b6584bd01\" style=\"stroke:#000000;stroke-width:0.8;\"/>\n      </defs>\n      <g>\n       <use style=\"stroke:#000000;stroke-width:0.8;\" x=\"65.361932\" xlink:href=\"#m6b6584bd01\" y=\"224.64\"/>\n      </g>\n     </g>\n     <g id=\"text_1\">\n      <!-- 0 -->\n      <g transform=\"translate(62.180682 239.238438)scale(0.1 -0.1)\">\n       <defs>\n        <path d=\"M 31.78125 66.40625 \nQ 24.171875 66.40625 20.328125 58.90625 \nQ 16.5 51.421875 16.5 36.375 \nQ 16.5 21.390625 20.328125 13.890625 \nQ 24.171875 6.390625 31.78125 6.390625 \nQ 39.453125 6.390625 43.28125 13.890625 \nQ 47.125 21.390625 47.125 36.375 \nQ 47.125 51.421875 43.28125 58.90625 \nQ 39.453125 66.40625 31.78125 66.40625 \nz\nM 31.78125 74.21875 \nQ 44.046875 74.21875 50.515625 64.515625 \nQ 56.984375 54.828125 56.984375 36.375 \nQ 56.984375 17.96875 50.515625 8.265625 \nQ 44.046875 -1.421875 31.78125 -1.421875 \nQ 19.53125 -1.421875 13.0625 8.265625 \nQ 6.59375 17.96875 6.59375 36.375 \nQ 6.59375 54.828125 13.0625 64.515625 \nQ 19.53125 74.21875 31.78125 74.21875 \nz\n\" id=\"DejaVuSans-48\"/>\n       </defs>\n       <use xlink:href=\"#DejaVuSans-48\"/>\n      </g>\n     </g>\n    </g>\n    <g id=\"xtick_2\">\n     <g id=\"line2d_2\">\n      <g>\n       <use style=\"stroke:#000000;stroke-width:0.8;\" x=\"116.258861\" xlink:href=\"#m6b6584bd01\" y=\"224.64\"/>\n      </g>\n     </g>\n     <g id=\"text_2\">\n      <!-- 50 -->\n      <g transform=\"translate(109.896361 239.238438)scale(0.1 -0.1)\">\n       <defs>\n        <path d=\"M 10.796875 72.90625 \nL 49.515625 72.90625 \nL 49.515625 64.59375 \nL 19.828125 64.59375 \nL 19.828125 46.734375 \nQ 21.96875 47.46875 24.109375 47.828125 \nQ 26.265625 48.1875 28.421875 48.1875 \nQ 40.625 48.1875 47.75 41.5 \nQ 54.890625 34.8125 54.890625 23.390625 \nQ 54.890625 11.625 47.5625 5.09375 \nQ 40.234375 -1.421875 26.90625 -1.421875 \nQ 22.3125 -1.421875 17.546875 -0.640625 \nQ 12.796875 0.140625 7.71875 1.703125 \nL 7.71875 11.625 \nQ 12.109375 9.234375 16.796875 8.0625 \nQ 21.484375 6.890625 26.703125 6.890625 \nQ 35.15625 6.890625 40.078125 11.328125 \nQ 45.015625 15.765625 45.015625 23.390625 \nQ 45.015625 31 40.078125 35.4375 \nQ 35.15625 39.890625 26.703125 39.890625 \nQ 22.75 39.890625 18.8125 39.015625 \nQ 14.890625 38.140625 10.796875 36.28125 \nz\n\" id=\"DejaVuSans-53\"/>\n       </defs>\n       <use xlink:href=\"#DejaVuSans-53\"/>\n       <use x=\"63.623047\" xlink:href=\"#DejaVuSans-48\"/>\n      </g>\n     </g>\n    </g>\n    <g id=\"xtick_3\">\n     <g id=\"line2d_3\">\n      <g>\n       <use style=\"stroke:#000000;stroke-width:0.8;\" x=\"167.15579\" xlink:href=\"#m6b6584bd01\" y=\"224.64\"/>\n      </g>\n     </g>\n     <g id=\"text_3\">\n      <!-- 100 -->\n      <g transform=\"translate(157.61204 239.238438)scale(0.1 -0.1)\">\n       <defs>\n        <path d=\"M 12.40625 8.296875 \nL 28.515625 8.296875 \nL 28.515625 63.921875 \nL 10.984375 60.40625 \nL 10.984375 69.390625 \nL 28.421875 72.90625 \nL 38.28125 72.90625 \nL 38.28125 8.296875 \nL 54.390625 8.296875 \nL 54.390625 0 \nL 12.40625 0 \nz\n\" id=\"DejaVuSans-49\"/>\n       </defs>\n       <use xlink:href=\"#DejaVuSans-49\"/>\n       <use x=\"63.623047\" xlink:href=\"#DejaVuSans-48\"/>\n       <use x=\"127.246094\" xlink:href=\"#DejaVuSans-48\"/>\n      </g>\n     </g>\n    </g>\n    <g id=\"xtick_4\">\n     <g id=\"line2d_4\">\n      <g>\n       <use style=\"stroke:#000000;stroke-width:0.8;\" x=\"218.052719\" xlink:href=\"#m6b6584bd01\" y=\"224.64\"/>\n      </g>\n     </g>\n     <g id=\"text_4\">\n      <!-- 150 -->\n      <g transform=\"translate(208.508969 239.238438)scale(0.1 -0.1)\">\n       <use xlink:href=\"#DejaVuSans-49\"/>\n       <use x=\"63.623047\" xlink:href=\"#DejaVuSans-53\"/>\n       <use x=\"127.246094\" xlink:href=\"#DejaVuSans-48\"/>\n      </g>\n     </g>\n    </g>\n    <g id=\"xtick_5\">\n     <g id=\"line2d_5\">\n      <g>\n       <use style=\"stroke:#000000;stroke-width:0.8;\" x=\"268.949648\" xlink:href=\"#m6b6584bd01\" y=\"224.64\"/>\n      </g>\n     </g>\n     <g id=\"text_5\">\n      <!-- 200 -->\n      <g transform=\"translate(259.405898 239.238438)scale(0.1 -0.1)\">\n       <defs>\n        <path d=\"M 19.1875 8.296875 \nL 53.609375 8.296875 \nL 53.609375 0 \nL 7.328125 0 \nL 7.328125 8.296875 \nQ 12.9375 14.109375 22.625 23.890625 \nQ 32.328125 33.6875 34.8125 36.53125 \nQ 39.546875 41.84375 41.421875 45.53125 \nQ 43.3125 49.21875 43.3125 52.78125 \nQ 43.3125 58.59375 39.234375 62.25 \nQ 35.15625 65.921875 28.609375 65.921875 \nQ 23.96875 65.921875 18.8125 64.3125 \nQ 13.671875 62.703125 7.8125 59.421875 \nL 7.8125 69.390625 \nQ 13.765625 71.78125 18.9375 73 \nQ 24.125 74.21875 28.421875 74.21875 \nQ 39.75 74.21875 46.484375 68.546875 \nQ 53.21875 62.890625 53.21875 53.421875 \nQ 53.21875 48.921875 51.53125 44.890625 \nQ 49.859375 40.875 45.40625 35.40625 \nQ 44.1875 33.984375 37.640625 27.21875 \nQ 31.109375 20.453125 19.1875 8.296875 \nz\n\" id=\"DejaVuSans-50\"/>\n       </defs>\n       <use xlink:href=\"#DejaVuSans-50\"/>\n       <use x=\"63.623047\" xlink:href=\"#DejaVuSans-48\"/>\n       <use x=\"127.246094\" xlink:href=\"#DejaVuSans-48\"/>\n      </g>\n     </g>\n    </g>\n    <g id=\"xtick_6\">\n     <g id=\"line2d_6\">\n      <g>\n       <use style=\"stroke:#000000;stroke-width:0.8;\" x=\"319.846578\" xlink:href=\"#m6b6584bd01\" y=\"224.64\"/>\n      </g>\n     </g>\n     <g id=\"text_6\">\n      <!-- 250 -->\n      <g transform=\"translate(310.302828 239.238438)scale(0.1 -0.1)\">\n       <use xlink:href=\"#DejaVuSans-50\"/>\n       <use x=\"63.623047\" xlink:href=\"#DejaVuSans-53\"/>\n       <use x=\"127.246094\" xlink:href=\"#DejaVuSans-48\"/>\n      </g>\n     </g>\n    </g>\n    <g id=\"xtick_7\">\n     <g id=\"line2d_7\">\n      <g>\n       <use style=\"stroke:#000000;stroke-width:0.8;\" x=\"370.743507\" xlink:href=\"#m6b6584bd01\" y=\"224.64\"/>\n      </g>\n     </g>\n     <g id=\"text_7\">\n      <!-- 300 -->\n      <g transform=\"translate(361.199757 239.238438)scale(0.1 -0.1)\">\n       <defs>\n        <path d=\"M 40.578125 39.3125 \nQ 47.65625 37.796875 51.625 33 \nQ 55.609375 28.21875 55.609375 21.1875 \nQ 55.609375 10.40625 48.1875 4.484375 \nQ 40.765625 -1.421875 27.09375 -1.421875 \nQ 22.515625 -1.421875 17.65625 -0.515625 \nQ 12.796875 0.390625 7.625 2.203125 \nL 7.625 11.71875 \nQ 11.71875 9.328125 16.59375 8.109375 \nQ 21.484375 6.890625 26.8125 6.890625 \nQ 36.078125 6.890625 40.9375 10.546875 \nQ 45.796875 14.203125 45.796875 21.1875 \nQ 45.796875 27.640625 41.28125 31.265625 \nQ 36.765625 34.90625 28.71875 34.90625 \nL 20.21875 34.90625 \nL 20.21875 43.015625 \nL 29.109375 43.015625 \nQ 36.375 43.015625 40.234375 45.921875 \nQ 44.09375 48.828125 44.09375 54.296875 \nQ 44.09375 59.90625 40.109375 62.90625 \nQ 36.140625 65.921875 28.71875 65.921875 \nQ 24.65625 65.921875 20.015625 65.03125 \nQ 15.375 64.15625 9.8125 62.3125 \nL 9.8125 71.09375 \nQ 15.4375 72.65625 20.34375 73.4375 \nQ 25.25 74.21875 29.59375 74.21875 \nQ 40.828125 74.21875 47.359375 69.109375 \nQ 53.90625 64.015625 53.90625 55.328125 \nQ 53.90625 49.265625 50.4375 45.09375 \nQ 46.96875 40.921875 40.578125 39.3125 \nz\n\" id=\"DejaVuSans-51\"/>\n       </defs>\n       <use xlink:href=\"#DejaVuSans-51\"/>\n       <use x=\"63.623047\" xlink:href=\"#DejaVuSans-48\"/>\n       <use x=\"127.246094\" xlink:href=\"#DejaVuSans-48\"/>\n      </g>\n     </g>\n    </g>\n    <g id=\"text_8\">\n     <!-- epochs -->\n     <g transform=\"translate(199.710938 252.916563)scale(0.1 -0.1)\">\n      <defs>\n       <path d=\"M 56.203125 29.59375 \nL 56.203125 25.203125 \nL 14.890625 25.203125 \nQ 15.484375 15.921875 20.484375 11.0625 \nQ 25.484375 6.203125 34.421875 6.203125 \nQ 39.59375 6.203125 44.453125 7.46875 \nQ 49.3125 8.734375 54.109375 11.28125 \nL 54.109375 2.78125 \nQ 49.265625 0.734375 44.1875 -0.34375 \nQ 39.109375 -1.421875 33.890625 -1.421875 \nQ 20.796875 -1.421875 13.15625 6.1875 \nQ 5.515625 13.8125 5.515625 26.8125 \nQ 5.515625 40.234375 12.765625 48.109375 \nQ 20.015625 56 32.328125 56 \nQ 43.359375 56 49.78125 48.890625 \nQ 56.203125 41.796875 56.203125 29.59375 \nz\nM 47.21875 32.234375 \nQ 47.125 39.59375 43.09375 43.984375 \nQ 39.0625 48.390625 32.421875 48.390625 \nQ 24.90625 48.390625 20.390625 44.140625 \nQ 15.875 39.890625 15.1875 32.171875 \nz\n\" id=\"DejaVuSans-101\"/>\n       <path d=\"M 18.109375 8.203125 \nL 18.109375 -20.796875 \nL 9.078125 -20.796875 \nL 9.078125 54.6875 \nL 18.109375 54.6875 \nL 18.109375 46.390625 \nQ 20.953125 51.265625 25.265625 53.625 \nQ 29.59375 56 35.59375 56 \nQ 45.5625 56 51.78125 48.09375 \nQ 58.015625 40.1875 58.015625 27.296875 \nQ 58.015625 14.40625 51.78125 6.484375 \nQ 45.5625 -1.421875 35.59375 -1.421875 \nQ 29.59375 -1.421875 25.265625 0.953125 \nQ 20.953125 3.328125 18.109375 8.203125 \nz\nM 48.6875 27.296875 \nQ 48.6875 37.203125 44.609375 42.84375 \nQ 40.53125 48.484375 33.40625 48.484375 \nQ 26.265625 48.484375 22.1875 42.84375 \nQ 18.109375 37.203125 18.109375 27.296875 \nQ 18.109375 17.390625 22.1875 11.75 \nQ 26.265625 6.109375 33.40625 6.109375 \nQ 40.53125 6.109375 44.609375 11.75 \nQ 48.6875 17.390625 48.6875 27.296875 \nz\n\" id=\"DejaVuSans-112\"/>\n       <path d=\"M 30.609375 48.390625 \nQ 23.390625 48.390625 19.1875 42.75 \nQ 14.984375 37.109375 14.984375 27.296875 \nQ 14.984375 17.484375 19.15625 11.84375 \nQ 23.34375 6.203125 30.609375 6.203125 \nQ 37.796875 6.203125 41.984375 11.859375 \nQ 46.1875 17.53125 46.1875 27.296875 \nQ 46.1875 37.015625 41.984375 42.703125 \nQ 37.796875 48.390625 30.609375 48.390625 \nz\nM 30.609375 56 \nQ 42.328125 56 49.015625 48.375 \nQ 55.71875 40.765625 55.71875 27.296875 \nQ 55.71875 13.875 49.015625 6.21875 \nQ 42.328125 -1.421875 30.609375 -1.421875 \nQ 18.84375 -1.421875 12.171875 6.21875 \nQ 5.515625 13.875 5.515625 27.296875 \nQ 5.515625 40.765625 12.171875 48.375 \nQ 18.84375 56 30.609375 56 \nz\n\" id=\"DejaVuSans-111\"/>\n       <path d=\"M 48.78125 52.59375 \nL 48.78125 44.1875 \nQ 44.96875 46.296875 41.140625 47.34375 \nQ 37.3125 48.390625 33.40625 48.390625 \nQ 24.65625 48.390625 19.8125 42.84375 \nQ 14.984375 37.3125 14.984375 27.296875 \nQ 14.984375 17.28125 19.8125 11.734375 \nQ 24.65625 6.203125 33.40625 6.203125 \nQ 37.3125 6.203125 41.140625 7.25 \nQ 44.96875 8.296875 48.78125 10.40625 \nL 48.78125 2.09375 \nQ 45.015625 0.34375 40.984375 -0.53125 \nQ 36.96875 -1.421875 32.421875 -1.421875 \nQ 20.0625 -1.421875 12.78125 6.34375 \nQ 5.515625 14.109375 5.515625 27.296875 \nQ 5.515625 40.671875 12.859375 48.328125 \nQ 20.21875 56 33.015625 56 \nQ 37.15625 56 41.109375 55.140625 \nQ 45.0625 54.296875 48.78125 52.59375 \nz\n\" id=\"DejaVuSans-99\"/>\n       <path d=\"M 54.890625 33.015625 \nL 54.890625 0 \nL 45.90625 0 \nL 45.90625 32.71875 \nQ 45.90625 40.484375 42.875 44.328125 \nQ 39.84375 48.1875 33.796875 48.1875 \nQ 26.515625 48.1875 22.3125 43.546875 \nQ 18.109375 38.921875 18.109375 30.90625 \nL 18.109375 0 \nL 9.078125 0 \nL 9.078125 75.984375 \nL 18.109375 75.984375 \nL 18.109375 46.1875 \nQ 21.34375 51.125 25.703125 53.5625 \nQ 30.078125 56 35.796875 56 \nQ 45.21875 56 50.046875 50.171875 \nQ 54.890625 44.34375 54.890625 33.015625 \nz\n\" id=\"DejaVuSans-104\"/>\n       <path d=\"M 44.28125 53.078125 \nL 44.28125 44.578125 \nQ 40.484375 46.53125 36.375 47.5 \nQ 32.28125 48.484375 27.875 48.484375 \nQ 21.1875 48.484375 17.84375 46.4375 \nQ 14.5 44.390625 14.5 40.28125 \nQ 14.5 37.15625 16.890625 35.375 \nQ 19.28125 33.59375 26.515625 31.984375 \nL 29.59375 31.296875 \nQ 39.15625 29.25 43.1875 25.515625 \nQ 47.21875 21.78125 47.21875 15.09375 \nQ 47.21875 7.46875 41.1875 3.015625 \nQ 35.15625 -1.421875 24.609375 -1.421875 \nQ 20.21875 -1.421875 15.453125 -0.5625 \nQ 10.6875 0.296875 5.421875 2 \nL 5.421875 11.28125 \nQ 10.40625 8.6875 15.234375 7.390625 \nQ 20.0625 6.109375 24.8125 6.109375 \nQ 31.15625 6.109375 34.5625 8.28125 \nQ 37.984375 10.453125 37.984375 14.40625 \nQ 37.984375 18.0625 35.515625 20.015625 \nQ 33.0625 21.96875 24.703125 23.78125 \nL 21.578125 24.515625 \nQ 13.234375 26.265625 9.515625 29.90625 \nQ 5.8125 33.546875 5.8125 39.890625 \nQ 5.8125 47.609375 11.28125 51.796875 \nQ 16.75 56 26.8125 56 \nQ 31.78125 56 36.171875 55.265625 \nQ 40.578125 54.546875 44.28125 53.078125 \nz\n\" id=\"DejaVuSans-115\"/>\n      </defs>\n      <use xlink:href=\"#DejaVuSans-101\"/>\n      <use x=\"61.523438\" xlink:href=\"#DejaVuSans-112\"/>\n      <use x=\"125\" xlink:href=\"#DejaVuSans-111\"/>\n      <use x=\"186.181641\" xlink:href=\"#DejaVuSans-99\"/>\n      <use x=\"241.162109\" xlink:href=\"#DejaVuSans-104\"/>\n      <use x=\"304.541016\" xlink:href=\"#DejaVuSans-115\"/>\n     </g>\n    </g>\n   </g>\n   <g id=\"matplotlib.axis_2\">\n    <g id=\"ytick_1\">\n     <g id=\"line2d_8\">\n      <defs>\n       <path d=\"M 0 0 \nL -3.5 0 \n\" id=\"m35c5ce1e1b\" style=\"stroke:#000000;stroke-width:0.8;\"/>\n      </defs>\n      <g>\n       <use style=\"stroke:#000000;stroke-width:0.8;\" x=\"50.14375\" xlink:href=\"#m35c5ce1e1b\" y=\"213.012204\"/>\n      </g>\n     </g>\n     <g id=\"text_9\">\n      <!-- 0.65 -->\n      <g transform=\"translate(20.878125 216.811423)scale(0.1 -0.1)\">\n       <defs>\n        <path d=\"M 10.6875 12.40625 \nL 21 12.40625 \nL 21 0 \nL 10.6875 0 \nz\n\" id=\"DejaVuSans-46\"/>\n        <path d=\"M 33.015625 40.375 \nQ 26.375 40.375 22.484375 35.828125 \nQ 18.609375 31.296875 18.609375 23.390625 \nQ 18.609375 15.53125 22.484375 10.953125 \nQ 26.375 6.390625 33.015625 6.390625 \nQ 39.65625 6.390625 43.53125 10.953125 \nQ 47.40625 15.53125 47.40625 23.390625 \nQ 47.40625 31.296875 43.53125 35.828125 \nQ 39.65625 40.375 33.015625 40.375 \nz\nM 52.59375 71.296875 \nL 52.59375 62.3125 \nQ 48.875 64.0625 45.09375 64.984375 \nQ 41.3125 65.921875 37.59375 65.921875 \nQ 27.828125 65.921875 22.671875 59.328125 \nQ 17.53125 52.734375 16.796875 39.40625 \nQ 19.671875 43.65625 24.015625 45.921875 \nQ 28.375 48.1875 33.59375 48.1875 \nQ 44.578125 48.1875 50.953125 41.515625 \nQ 57.328125 34.859375 57.328125 23.390625 \nQ 57.328125 12.15625 50.6875 5.359375 \nQ 44.046875 -1.421875 33.015625 -1.421875 \nQ 20.359375 -1.421875 13.671875 8.265625 \nQ 6.984375 17.96875 6.984375 36.375 \nQ 6.984375 53.65625 15.1875 63.9375 \nQ 23.390625 74.21875 37.203125 74.21875 \nQ 40.921875 74.21875 44.703125 73.484375 \nQ 48.484375 72.75 52.59375 71.296875 \nz\n\" id=\"DejaVuSans-54\"/>\n       </defs>\n       <use xlink:href=\"#DejaVuSans-48\"/>\n       <use x=\"63.623047\" xlink:href=\"#DejaVuSans-46\"/>\n       <use x=\"95.410156\" xlink:href=\"#DejaVuSans-54\"/>\n       <use x=\"159.033203\" xlink:href=\"#DejaVuSans-53\"/>\n      </g>\n     </g>\n    </g>\n    <g id=\"ytick_2\">\n     <g id=\"line2d_9\">\n      <g>\n       <use style=\"stroke:#000000;stroke-width:0.8;\" x=\"50.14375\" xlink:href=\"#m35c5ce1e1b\" y=\"168.411256\"/>\n      </g>\n     </g>\n     <g id=\"text_10\">\n      <!-- 0.70 -->\n      <g transform=\"translate(20.878125 172.210475)scale(0.1 -0.1)\">\n       <defs>\n        <path d=\"M 8.203125 72.90625 \nL 55.078125 72.90625 \nL 55.078125 68.703125 \nL 28.609375 0 \nL 18.3125 0 \nL 43.21875 64.59375 \nL 8.203125 64.59375 \nz\n\" id=\"DejaVuSans-55\"/>\n       </defs>\n       <use xlink:href=\"#DejaVuSans-48\"/>\n       <use x=\"63.623047\" xlink:href=\"#DejaVuSans-46\"/>\n       <use x=\"95.410156\" xlink:href=\"#DejaVuSans-55\"/>\n       <use x=\"159.033203\" xlink:href=\"#DejaVuSans-48\"/>\n      </g>\n     </g>\n    </g>\n    <g id=\"ytick_3\">\n     <g id=\"line2d_10\">\n      <g>\n       <use style=\"stroke:#000000;stroke-width:0.8;\" x=\"50.14375\" xlink:href=\"#m35c5ce1e1b\" y=\"123.810308\"/>\n      </g>\n     </g>\n     <g id=\"text_11\">\n      <!-- 0.75 -->\n      <g transform=\"translate(20.878125 127.609527)scale(0.1 -0.1)\">\n       <use xlink:href=\"#DejaVuSans-48\"/>\n       <use x=\"63.623047\" xlink:href=\"#DejaVuSans-46\"/>\n       <use x=\"95.410156\" xlink:href=\"#DejaVuSans-55\"/>\n       <use x=\"159.033203\" xlink:href=\"#DejaVuSans-53\"/>\n      </g>\n     </g>\n    </g>\n    <g id=\"ytick_4\">\n     <g id=\"line2d_11\">\n      <g>\n       <use style=\"stroke:#000000;stroke-width:0.8;\" x=\"50.14375\" xlink:href=\"#m35c5ce1e1b\" y=\"79.20936\"/>\n      </g>\n     </g>\n     <g id=\"text_12\">\n      <!-- 0.80 -->\n      <g transform=\"translate(20.878125 83.008579)scale(0.1 -0.1)\">\n       <defs>\n        <path d=\"M 31.78125 34.625 \nQ 24.75 34.625 20.71875 30.859375 \nQ 16.703125 27.09375 16.703125 20.515625 \nQ 16.703125 13.921875 20.71875 10.15625 \nQ 24.75 6.390625 31.78125 6.390625 \nQ 38.8125 6.390625 42.859375 10.171875 \nQ 46.921875 13.96875 46.921875 20.515625 \nQ 46.921875 27.09375 42.890625 30.859375 \nQ 38.875 34.625 31.78125 34.625 \nz\nM 21.921875 38.8125 \nQ 15.578125 40.375 12.03125 44.71875 \nQ 8.5 49.078125 8.5 55.328125 \nQ 8.5 64.0625 14.71875 69.140625 \nQ 20.953125 74.21875 31.78125 74.21875 \nQ 42.671875 74.21875 48.875 69.140625 \nQ 55.078125 64.0625 55.078125 55.328125 \nQ 55.078125 49.078125 51.53125 44.71875 \nQ 48 40.375 41.703125 38.8125 \nQ 48.828125 37.15625 52.796875 32.3125 \nQ 56.78125 27.484375 56.78125 20.515625 \nQ 56.78125 9.90625 50.3125 4.234375 \nQ 43.84375 -1.421875 31.78125 -1.421875 \nQ 19.734375 -1.421875 13.25 4.234375 \nQ 6.78125 9.90625 6.78125 20.515625 \nQ 6.78125 27.484375 10.78125 32.3125 \nQ 14.796875 37.15625 21.921875 38.8125 \nz\nM 18.3125 54.390625 \nQ 18.3125 48.734375 21.84375 45.5625 \nQ 25.390625 42.390625 31.78125 42.390625 \nQ 38.140625 42.390625 41.71875 45.5625 \nQ 45.3125 48.734375 45.3125 54.390625 \nQ 45.3125 60.0625 41.71875 63.234375 \nQ 38.140625 66.40625 31.78125 66.40625 \nQ 25.390625 66.40625 21.84375 63.234375 \nQ 18.3125 60.0625 18.3125 54.390625 \nz\n\" id=\"DejaVuSans-56\"/>\n       </defs>\n       <use xlink:href=\"#DejaVuSans-48\"/>\n       <use x=\"63.623047\" xlink:href=\"#DejaVuSans-46\"/>\n       <use x=\"95.410156\" xlink:href=\"#DejaVuSans-56\"/>\n       <use x=\"159.033203\" xlink:href=\"#DejaVuSans-48\"/>\n      </g>\n     </g>\n    </g>\n    <g id=\"ytick_5\">\n     <g id=\"line2d_12\">\n      <g>\n       <use style=\"stroke:#000000;stroke-width:0.8;\" x=\"50.14375\" xlink:href=\"#m35c5ce1e1b\" y=\"34.608412\"/>\n      </g>\n     </g>\n     <g id=\"text_13\">\n      <!-- 0.85 -->\n      <g transform=\"translate(20.878125 38.407631)scale(0.1 -0.1)\">\n       <use xlink:href=\"#DejaVuSans-48\"/>\n       <use x=\"63.623047\" xlink:href=\"#DejaVuSans-46\"/>\n       <use x=\"95.410156\" xlink:href=\"#DejaVuSans-56\"/>\n       <use x=\"159.033203\" xlink:href=\"#DejaVuSans-53\"/>\n      </g>\n     </g>\n    </g>\n    <g id=\"text_14\">\n     <!-- accuracy -->\n     <g transform=\"translate(14.798438 138.479375)rotate(-90)scale(0.1 -0.1)\">\n      <defs>\n       <path d=\"M 34.28125 27.484375 \nQ 23.390625 27.484375 19.1875 25 \nQ 14.984375 22.515625 14.984375 16.5 \nQ 14.984375 11.71875 18.140625 8.90625 \nQ 21.296875 6.109375 26.703125 6.109375 \nQ 34.1875 6.109375 38.703125 11.40625 \nQ 43.21875 16.703125 43.21875 25.484375 \nL 43.21875 27.484375 \nz\nM 52.203125 31.203125 \nL 52.203125 0 \nL 43.21875 0 \nL 43.21875 8.296875 \nQ 40.140625 3.328125 35.546875 0.953125 \nQ 30.953125 -1.421875 24.3125 -1.421875 \nQ 15.921875 -1.421875 10.953125 3.296875 \nQ 6 8.015625 6 15.921875 \nQ 6 25.140625 12.171875 29.828125 \nQ 18.359375 34.515625 30.609375 34.515625 \nL 43.21875 34.515625 \nL 43.21875 35.40625 \nQ 43.21875 41.609375 39.140625 45 \nQ 35.0625 48.390625 27.6875 48.390625 \nQ 23 48.390625 18.546875 47.265625 \nQ 14.109375 46.140625 10.015625 43.890625 \nL 10.015625 52.203125 \nQ 14.9375 54.109375 19.578125 55.046875 \nQ 24.21875 56 28.609375 56 \nQ 40.484375 56 46.34375 49.84375 \nQ 52.203125 43.703125 52.203125 31.203125 \nz\n\" id=\"DejaVuSans-97\"/>\n       <path d=\"M 8.5 21.578125 \nL 8.5 54.6875 \nL 17.484375 54.6875 \nL 17.484375 21.921875 \nQ 17.484375 14.15625 20.5 10.265625 \nQ 23.53125 6.390625 29.59375 6.390625 \nQ 36.859375 6.390625 41.078125 11.03125 \nQ 45.3125 15.671875 45.3125 23.6875 \nL 45.3125 54.6875 \nL 54.296875 54.6875 \nL 54.296875 0 \nL 45.3125 0 \nL 45.3125 8.40625 \nQ 42.046875 3.421875 37.71875 1 \nQ 33.40625 -1.421875 27.6875 -1.421875 \nQ 18.265625 -1.421875 13.375 4.4375 \nQ 8.5 10.296875 8.5 21.578125 \nz\nM 31.109375 56 \nz\n\" id=\"DejaVuSans-117\"/>\n       <path d=\"M 41.109375 46.296875 \nQ 39.59375 47.171875 37.8125 47.578125 \nQ 36.03125 48 33.890625 48 \nQ 26.265625 48 22.1875 43.046875 \nQ 18.109375 38.09375 18.109375 28.8125 \nL 18.109375 0 \nL 9.078125 0 \nL 9.078125 54.6875 \nL 18.109375 54.6875 \nL 18.109375 46.1875 \nQ 20.953125 51.171875 25.484375 53.578125 \nQ 30.03125 56 36.53125 56 \nQ 37.453125 56 38.578125 55.875 \nQ 39.703125 55.765625 41.0625 55.515625 \nz\n\" id=\"DejaVuSans-114\"/>\n       <path d=\"M 32.171875 -5.078125 \nQ 28.375 -14.84375 24.75 -17.8125 \nQ 21.140625 -20.796875 15.09375 -20.796875 \nL 7.90625 -20.796875 \nL 7.90625 -13.28125 \nL 13.1875 -13.28125 \nQ 16.890625 -13.28125 18.9375 -11.515625 \nQ 21 -9.765625 23.484375 -3.21875 \nL 25.09375 0.875 \nL 2.984375 54.6875 \nL 12.5 54.6875 \nL 29.59375 11.921875 \nL 46.6875 54.6875 \nL 56.203125 54.6875 \nz\n\" id=\"DejaVuSans-121\"/>\n      </defs>\n      <use xlink:href=\"#DejaVuSans-97\"/>\n      <use x=\"61.279297\" xlink:href=\"#DejaVuSans-99\"/>\n      <use x=\"116.259766\" xlink:href=\"#DejaVuSans-99\"/>\n      <use x=\"171.240234\" xlink:href=\"#DejaVuSans-117\"/>\n      <use x=\"234.619141\" xlink:href=\"#DejaVuSans-114\"/>\n      <use x=\"275.732422\" xlink:href=\"#DejaVuSans-97\"/>\n      <use x=\"337.011719\" xlink:href=\"#DejaVuSans-99\"/>\n      <use x=\"391.992188\" xlink:href=\"#DejaVuSans-121\"/>\n     </g>\n    </g>\n   </g>\n   <g id=\"line2d_13\">\n    <path clip-path=\"url(#p0a2fecd415)\" d=\"M 65.361932 214.756364 \nL 66.37987 214.756364 \nL 67.397809 213.095274 \nL 68.415748 174.889632 \nL 69.433686 164.922936 \nL 70.451625 148.311776 \nL 71.469563 149.972865 \nL 72.487502 126.717241 \nL 73.50544 133.361705 \nL 74.523379 121.733919 \nL 75.541318 116.750545 \nL 76.559256 105.122759 \nL 77.577195 106.783849 \nL 78.595133 111.767223 \nL 79.613072 103.46167 \nL 80.631011 91.833831 \nL 81.648949 86.850509 \nL 82.666888 80.206045 \nL 83.684826 111.767223 \nL 84.702765 76.883813 \nL 85.720703 88.511599 \nL 86.738642 91.833831 \nL 87.756581 88.511599 \nL 88.774519 83.528277 \nL 89.792458 95.156063 \nL 90.810396 80.206045 \nL 91.828335 93.494974 \nL 92.846274 95.156063 \nL 93.864212 71.900439 \nL 94.882151 73.561581 \nL 95.900089 73.561581 \nL 96.918028 83.528277 \nL 97.935966 80.206045 \nL 98.953905 81.867135 \nL 99.971844 80.206045 \nL 100.989782 85.189367 \nL 102.007721 71.900439 \nL 103.025659 90.172741 \nL 104.043598 81.867135 \nL 105.061537 85.189367 \nL 106.079475 81.867135 \nL 107.097414 70.239349 \nL 108.115352 70.239349 \nL 109.133291 71.900439 \nL 110.151229 75.222671 \nL 111.169168 85.189367 \nL 112.187107 75.222671 \nL 113.205045 70.239349 \nL 114.222984 75.222671 \nL 115.240922 66.917117 \nL 116.258861 88.511599 \nL 117.2768 70.239349 \nL 118.294738 75.222671 \nL 120.330615 68.578207 \nL 121.348554 68.578207 \nL 122.366492 55.289278 \nL 123.384431 85.189367 \nL 124.40237 71.900439 \nL 125.420308 68.578207 \nL 126.438247 60.272653 \nL 127.456185 73.561581 \nL 128.474124 70.239349 \nL 129.492063 83.528277 \nL 130.510001 71.900439 \nL 131.52794 70.239349 \nL 132.545878 71.900439 \nL 133.563817 71.900439 \nL 134.581755 68.578207 \nL 135.599694 76.883813 \nL 136.617633 76.883813 \nL 137.635571 61.933742 \nL 138.65351 71.900439 \nL 139.671448 61.933742 \nL 140.689387 66.917117 \nL 141.707326 73.561581 \nL 142.725264 73.561581 \nL 143.743203 71.900439 \nL 144.761141 51.967046 \nL 145.77908 73.561581 \nL 146.797018 76.883813 \nL 147.814957 55.289278 \nL 148.832896 70.239349 \nL 149.850834 65.255975 \nL 150.868773 68.578207 \nL 151.886711 58.61151 \nL 152.90465 63.594885 \nL 153.922589 58.61151 \nL 154.940527 65.255975 \nL 155.958466 55.289278 \nL 156.976404 78.544903 \nL 157.994343 70.239349 \nL 159.012281 63.594885 \nL 160.03022 60.272653 \nL 162.066097 50.305957 \nL 163.084036 66.917117 \nL 164.101974 55.289278 \nL 165.119913 63.594885 \nL 166.137852 46.983725 \nL 167.15579 65.255975 \nL 168.173729 53.628189 \nL 169.191667 58.61151 \nL 170.209606 65.255975 \nL 171.227544 56.950421 \nL 173.263422 56.950421 \nL 174.28136 63.594885 \nL 175.299299 76.883813 \nL 176.317237 61.933742 \nL 177.335176 80.206045 \nL 178.353115 60.272653 \nL 179.371053 56.950421 \nL 180.388992 60.272653 \nL 181.40693 55.289278 \nL 182.424869 61.933742 \nL 183.442807 61.933742 \nL 184.460746 58.61151 \nL 185.478685 56.950421 \nL 186.496623 66.917117 \nL 187.514562 56.950421 \nL 188.5325 60.272653 \nL 189.550439 43.661493 \nL 190.568378 58.61151 \nL 191.586316 50.305957 \nL 192.604255 45.322582 \nL 193.622193 60.272653 \nL 194.640132 55.289278 \nL 195.65807 53.628189 \nL 196.676009 53.628189 \nL 197.693948 51.967046 \nL 198.711886 56.950421 \nL 199.729825 56.950421 \nL 201.765702 53.628189 \nL 202.783641 48.644814 \nL 203.801579 55.289278 \nL 204.819518 42.00035 \nL 205.837456 61.933742 \nL 206.855395 50.305957 \nL 207.873333 48.644814 \nL 208.891272 38.678118 \nL 209.909211 60.272653 \nL 210.927149 58.61151 \nL 212.963026 51.967046 \nL 214.998904 55.289278 \nL 216.016842 53.628189 \nL 217.034781 50.305957 \nL 218.052719 53.628189 \nL 219.070658 55.289278 \nL 220.088596 45.322582 \nL 221.106535 50.305957 \nL 222.124474 56.950421 \nL 223.142412 45.322582 \nL 224.160351 50.305957 \nL 225.178289 43.661493 \nL 226.196228 45.322582 \nL 227.214167 42.00035 \nL 228.232105 50.305957 \nL 229.250044 42.00035 \nL 230.267982 50.305957 \nL 231.285921 40.339261 \nL 232.303859 48.644814 \nL 233.321798 58.61151 \nL 234.339737 37.017029 \nL 235.357675 50.305957 \nL 236.375614 46.983725 \nL 237.393552 50.305957 \nL 238.411491 48.644814 \nL 239.42943 50.305957 \nL 240.447368 43.661493 \nL 241.465307 50.305957 \nL 242.483245 46.983725 \nL 243.501184 42.00035 \nL 244.519122 35.355939 \nL 245.537061 60.272653 \nL 246.555 40.339261 \nL 247.572938 40.339261 \nL 248.590877 56.950421 \nL 249.608815 40.339261 \nL 250.626754 33.694797 \nL 251.644693 38.678118 \nL 252.662631 53.628189 \nL 253.68057 33.694797 \nL 254.698508 50.305957 \nL 255.716447 33.694797 \nL 256.734385 32.033707 \nL 257.752324 45.322582 \nL 259.788201 42.00035 \nL 260.80614 33.694797 \nL 261.824078 48.644814 \nL 262.842017 37.017029 \nL 263.859956 50.305957 \nL 264.877894 37.017029 \nL 265.895833 45.322582 \nL 266.913771 42.00035 \nL 267.93171 53.628189 \nL 268.949648 38.678118 \nL 272.003464 38.678118 \nL 273.021403 25.389243 \nL 274.039341 38.678118 \nL 275.05728 42.00035 \nL 276.075219 42.00035 \nL 277.093157 40.339261 \nL 278.111096 45.322582 \nL 279.129034 35.355939 \nL 280.146973 33.694797 \nL 281.164911 46.983725 \nL 282.18285 35.355939 \nL 283.200789 28.711475 \nL 284.218727 43.661493 \nL 285.236666 46.983725 \nL 286.254604 45.322582 \nL 287.272543 42.00035 \nL 288.290482 45.322582 \nL 289.30842 27.050333 \nL 290.326359 37.017029 \nL 291.344297 28.711475 \nL 292.362236 40.339261 \nL 293.380174 37.017029 \nL 294.398113 38.678118 \nL 295.416052 35.355939 \nL 296.43399 42.00035 \nL 297.451929 33.694797 \nL 298.469867 45.322582 \nL 299.487806 25.389243 \nL 300.505745 32.033707 \nL 301.523683 32.033707 \nL 302.541622 40.339261 \nL 303.55956 43.661493 \nL 304.577499 37.017029 \nL 305.595437 40.339261 \nL 306.613376 48.644814 \nL 307.631315 42.00035 \nL 308.649253 50.305957 \nL 309.667192 42.00035 \nL 310.68513 35.355939 \nL 311.703069 30.372565 \nL 312.721008 48.644814 \nL 313.738946 32.033707 \nL 314.756885 33.694797 \nL 315.774823 32.033707 \nL 316.792762 40.339261 \nL 317.8107 45.322582 \nL 318.828639 30.372565 \nL 319.846578 37.017029 \nL 320.864516 38.678118 \nL 321.882455 45.322582 \nL 323.918332 32.033707 \nL 324.936271 32.033707 \nL 325.954209 33.694797 \nL 326.972148 22.067011 \nL 327.990086 32.033707 \nL 329.008025 33.694797 \nL 330.025963 33.694797 \nL 331.043902 32.033707 \nL 332.061841 43.661493 \nL 333.079779 43.661493 \nL 334.097718 33.694797 \nL 335.115656 30.372565 \nL 336.133595 22.067011 \nL 337.151534 35.355939 \nL 338.169472 43.661493 \nL 339.187411 38.678118 \nL 340.205349 27.050333 \nL 341.223288 32.033707 \nL 342.241226 22.067011 \nL 343.259165 43.661493 \nL 344.277104 23.7281 \nL 345.295042 18.744779 \nL 346.312981 35.355939 \nL 347.330919 27.050333 \nL 348.348858 23.7281 \nL 349.366797 38.678118 \nL 351.402674 25.389243 \nL 352.420612 28.711475 \nL 353.438551 23.7281 \nL 354.456489 38.678118 \nL 355.474428 28.711475 \nL 356.492367 22.067011 \nL 357.510305 30.372565 \nL 358.528244 20.405868 \nL 359.546182 30.372565 \nL 360.564121 27.050333 \nL 361.58206 17.083636 \nL 362.599998 28.711475 \nL 363.617937 28.711475 \nL 364.635875 25.389243 \nL 365.653814 32.033707 \nL 366.671752 23.7281 \nL 367.689691 23.7281 \nL 368.70763 40.339261 \nL 369.725568 30.372565 \nL 369.725568 30.372565 \n\" style=\"fill:none;stroke:#1f77b4;stroke-linecap:square;stroke-width:1.5;\"/>\n   </g>\n   <g id=\"patch_3\">\n    <path d=\"M 50.14375 224.64 \nL 50.14375 7.2 \n\" style=\"fill:none;stroke:#000000;stroke-linecap:square;stroke-linejoin:miter;stroke-width:0.8;\"/>\n   </g>\n   <g id=\"patch_4\">\n    <path d=\"M 384.94375 224.64 \nL 384.94375 7.2 \n\" style=\"fill:none;stroke:#000000;stroke-linecap:square;stroke-linejoin:miter;stroke-width:0.8;\"/>\n   </g>\n   <g id=\"patch_5\">\n    <path d=\"M 50.14375 224.64 \nL 384.94375 224.64 \n\" style=\"fill:none;stroke:#000000;stroke-linecap:square;stroke-linejoin:miter;stroke-width:0.8;\"/>\n   </g>\n   <g id=\"patch_6\">\n    <path d=\"M 50.14375 7.2 \nL 384.94375 7.2 \n\" style=\"fill:none;stroke:#000000;stroke-linecap:square;stroke-linejoin:miter;stroke-width:0.8;\"/>\n   </g>\n  </g>\n </g>\n <defs>\n  <clipPath id=\"p0a2fecd415\">\n   <rect height=\"217.44\" width=\"334.8\" x=\"50.14375\" y=\"7.2\"/>\n  </clipPath>\n </defs>\n</svg>\n",
      "image/png": "[encoded data removed]"
     },
     "metadata": {
      "needs_background": "light"
     }
    }
   ],
   "source": [
    "plt.plot(model.history.epoch, model.history.history['accuracy'])\n",
    "plt.xlabel('epochs')\n",
    "plt.ylabel('accuracy')"
   ]
  },
  {
   "cell_type": "code",
   "execution_count": 17,
   "metadata": {},
   "outputs": [
    {
     "output_type": "stream",
     "name": "stdout",
     "text": [
      "X=[0.05882353 0.42713568 0.54098361 0.29292929 0.         0.39642325\n 0.11656704 0.16666667], Predicted=[0]\n"
     ]
    }
   ],
   "source": [
    "Xnew = np.array([[1,85,66,29,0,26.6,0.351,31]])\n",
    "Xnew = scalar.transform(Xnew)\n",
    "ynew = model.predict_classes(Xnew)\n",
    "print(\"X=%s, Predicted=%s\" % (Xnew[0],ynew[0]))"
   ]
  },
  {
   "cell_type": "markdown",
   "metadata": {},
   "source": [
    "# Save Pre-trained Model"
   ]
  },
  {
   "cell_type": "code",
   "execution_count": 22,
   "metadata": {},
   "outputs": [
    {
     "output_type": "stream",
     "name": "stdout",
     "text": [
      "Saved model to disk\n"
     ]
    }
   ],
   "source": [
    "model.save(\"NN_model.h5\")\n",
    "print(\"Saved model to disk\")"
   ]
  },
  {
   "cell_type": "code",
   "execution_count": 23,
   "metadata": {},
   "outputs": [],
   "source": [
    "from keras.models import load_model\n",
    "saved_model = load_model('NN_model.h5')"
   ]
  },
  {
   "cell_type": "code",
   "execution_count": 24,
   "metadata": {},
   "outputs": [
    {
     "output_type": "stream",
     "name": "stdout",
     "text": [
      "[0]\n"
     ]
    }
   ],
   "source": [
    "prediction = saved_model.predict_classes(Xnew)\n",
    "print(prediction[0])"
   ]
  },
  {
   "cell_type": "code",
   "execution_count": null,
   "metadata": {},
   "outputs": [],
   "source": []
  }
 ],
 "metadata": {
  "kernelspec": {
   "name": "Python 3.7.9 64-bit (conda)",
   "display_name": "Python 3.7.9 64-bit (conda)",
   "metadata": {
    "interpreter": {
     "hash": "67efbfe733ab373187d9f14648bd4e9c3d9501b513dd6ef959e7087828da832d"
    }
   }
  },
  "language_info": {
   "codemirror_mode": {
    "name": "ipython",
    "version": 3
   },
   "file_extension": ".py",
   "mimetype": "text/x-python",
   "name": "python",
   "nbconvert_exporter": "python",
   "pygments_lexer": "ipython3",
   "version": "3.7.9-final"
  }
 },
 "nbformat": 4,
 "nbformat_minor": 2
}