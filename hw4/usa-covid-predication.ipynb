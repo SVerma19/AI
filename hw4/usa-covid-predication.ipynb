{
 "metadata": {
  "language_info": {
   "codemirror_mode": {
    "name": "ipython",
    "version": 3
   },
   "file_extension": ".py",
   "mimetype": "text/x-python",
   "name": "python",
   "nbconvert_exporter": "python",
   "pygments_lexer": "ipython3",
   "version": "3.7.9-final"
  },
  "orig_nbformat": 2,
  "kernelspec": {
   "name": "Python 3.7.9 64-bit (conda)",
   "display_name": "Python 3.7.9 64-bit (conda)",
   "metadata": {
    "interpreter": {
     "hash": "67efbfe733ab373187d9f14648bd4e9c3d9501b513dd6ef959e7087828da832d"
    }
   }
  }
 },
 "nbformat": 4,
 "nbformat_minor": 2,
 "cells": [
  {
   "cell_type": "code",
   "execution_count": 1,
   "metadata": {},
   "outputs": [
    {
     "output_type": "display_data",
     "data": {
      "text/plain": "<Figure size 432x288 with 1 Axes>",
      "image/svg+xml": "<?xml version=\"1.0\" encoding=\"utf-8\" standalone=\"no\"?>\n<!DOCTYPE svg PUBLIC \"-//W3C//DTD SVG 1.1//EN\"\n  \"http://www.w3.org/Graphics/SVG/1.1/DTD/svg11.dtd\">\n<!-- Created with matplotlib (https://matplotlib.org/) -->\n<svg height=\"259.116562pt\" version=\"1.1\" viewBox=\"0 0 362.5625 259.116562\" width=\"362.5625pt\" xmlns=\"http://www.w3.org/2000/svg\" xmlns:xlink=\"http://www.w3.org/1999/xlink\">\n <metadata>\n  <rdf:RDF xmlns:cc=\"http://creativecommons.org/ns#\" xmlns:dc=\"http://purl.org/dc/elements/1.1/\" xmlns:rdf=\"http://www.w3.org/1999/02/22-rdf-syntax-ns#\">\n   <cc:Work>\n    <dc:type rdf:resource=\"http://purl.org/dc/dcmitype/StillImage\"/>\n    <dc:date>2020-11-02T14:35:42.220164</dc:date>\n    <dc:format>image/svg+xml</dc:format>\n    <dc:creator>\n     <cc:Agent>\n      <dc:title>Matplotlib v3.3.2, https://matplotlib.org/</dc:title>\n     </cc:Agent>\n    </dc:creator>\n   </cc:Work>\n  </rdf:RDF>\n </metadata>\n <defs>\n  <style type=\"text/css\">*{stroke-linecap:butt;stroke-linejoin:round;}</style>\n </defs>\n <g id=\"figure_1\">\n  <g id=\"patch_1\">\n   <path d=\"M 0 259.116562 \nL 362.5625 259.116562 \nL 362.5625 0 \nL 0 0 \nz\n\" style=\"fill:none;\"/>\n  </g>\n  <g id=\"axes_1\">\n   <g id=\"patch_2\">\n    <path d=\"M 20.5625 235.238437 \nL 355.3625 235.238437 \nL 355.3625 17.798437 \nL 20.5625 17.798437 \nz\n\" style=\"fill:#ffffff;\"/>\n   </g>\n   <g id=\"matplotlib.axis_1\">\n    <g id=\"xtick_1\">\n     <g id=\"line2d_1\">\n      <defs>\n       <path d=\"M 0 0 \nL 0 3.5 \n\" id=\"m4330da2df4\" style=\"stroke:#000000;stroke-width:0.8;\"/>\n      </defs>\n      <g>\n       <use style=\"stroke:#000000;stroke-width:0.8;\" x=\"35.780682\" xlink:href=\"#m4330da2df4\" y=\"235.238437\"/>\n      </g>\n     </g>\n     <g id=\"text_1\">\n      <!-- 0 -->\n      <g transform=\"translate(32.599432 249.836875)scale(0.1 -0.1)\">\n       <defs>\n        <path d=\"M 31.78125 66.40625 \nQ 24.171875 66.40625 20.328125 58.90625 \nQ 16.5 51.421875 16.5 36.375 \nQ 16.5 21.390625 20.328125 13.890625 \nQ 24.171875 6.390625 31.78125 6.390625 \nQ 39.453125 6.390625 43.28125 13.890625 \nQ 47.125 21.390625 47.125 36.375 \nQ 47.125 51.421875 43.28125 58.90625 \nQ 39.453125 66.40625 31.78125 66.40625 \nz\nM 31.78125 74.21875 \nQ 44.046875 74.21875 50.515625 64.515625 \nQ 56.984375 54.828125 56.984375 36.375 \nQ 56.984375 17.96875 50.515625 8.265625 \nQ 44.046875 -1.421875 31.78125 -1.421875 \nQ 19.53125 -1.421875 13.0625 8.265625 \nQ 6.59375 17.96875 6.59375 36.375 \nQ 6.59375 54.828125 13.0625 64.515625 \nQ 19.53125 74.21875 31.78125 74.21875 \nz\n\" id=\"DejaVuSans-48\"/>\n       </defs>\n       <use xlink:href=\"#DejaVuSans-48\"/>\n      </g>\n     </g>\n    </g>\n    <g id=\"xtick_2\">\n     <g id=\"line2d_2\">\n      <g>\n       <use style=\"stroke:#000000;stroke-width:0.8;\" x=\"97.64321\" xlink:href=\"#m4330da2df4\" y=\"235.238437\"/>\n      </g>\n     </g>\n     <g id=\"text_2\">\n      <!-- 50 -->\n      <g transform=\"translate(91.28071 249.836875)scale(0.1 -0.1)\">\n       <defs>\n        <path d=\"M 10.796875 72.90625 \nL 49.515625 72.90625 \nL 49.515625 64.59375 \nL 19.828125 64.59375 \nL 19.828125 46.734375 \nQ 21.96875 47.46875 24.109375 47.828125 \nQ 26.265625 48.1875 28.421875 48.1875 \nQ 40.625 48.1875 47.75 41.5 \nQ 54.890625 34.8125 54.890625 23.390625 \nQ 54.890625 11.625 47.5625 5.09375 \nQ 40.234375 -1.421875 26.90625 -1.421875 \nQ 22.3125 -1.421875 17.546875 -0.640625 \nQ 12.796875 0.140625 7.71875 1.703125 \nL 7.71875 11.625 \nQ 12.109375 9.234375 16.796875 8.0625 \nQ 21.484375 6.890625 26.703125 6.890625 \nQ 35.15625 6.890625 40.078125 11.328125 \nQ 45.015625 15.765625 45.015625 23.390625 \nQ 45.015625 31 40.078125 35.4375 \nQ 35.15625 39.890625 26.703125 39.890625 \nQ 22.75 39.890625 18.8125 39.015625 \nQ 14.890625 38.140625 10.796875 36.28125 \nz\n\" id=\"DejaVuSans-53\"/>\n       </defs>\n       <use xlink:href=\"#DejaVuSans-53\"/>\n       <use x=\"63.623047\" xlink:href=\"#DejaVuSans-48\"/>\n      </g>\n     </g>\n    </g>\n    <g id=\"xtick_3\">\n     <g id=\"line2d_3\">\n      <g>\n       <use style=\"stroke:#000000;stroke-width:0.8;\" x=\"159.505737\" xlink:href=\"#m4330da2df4\" y=\"235.238437\"/>\n      </g>\n     </g>\n     <g id=\"text_3\">\n      <!-- 100 -->\n      <g transform=\"translate(149.961987 249.836875)scale(0.1 -0.1)\">\n       <defs>\n        <path d=\"M 12.40625 8.296875 \nL 28.515625 8.296875 \nL 28.515625 63.921875 \nL 10.984375 60.40625 \nL 10.984375 69.390625 \nL 28.421875 72.90625 \nL 38.28125 72.90625 \nL 38.28125 8.296875 \nL 54.390625 8.296875 \nL 54.390625 0 \nL 12.40625 0 \nz\n\" id=\"DejaVuSans-49\"/>\n       </defs>\n       <use xlink:href=\"#DejaVuSans-49\"/>\n       <use x=\"63.623047\" xlink:href=\"#DejaVuSans-48\"/>\n       <use x=\"127.246094\" xlink:href=\"#DejaVuSans-48\"/>\n      </g>\n     </g>\n    </g>\n    <g id=\"xtick_4\">\n     <g id=\"line2d_4\">\n      <g>\n       <use style=\"stroke:#000000;stroke-width:0.8;\" x=\"221.368265\" xlink:href=\"#m4330da2df4\" y=\"235.238437\"/>\n      </g>\n     </g>\n     <g id=\"text_4\">\n      <!-- 150 -->\n      <g transform=\"translate(211.824515 249.836875)scale(0.1 -0.1)\">\n       <use xlink:href=\"#DejaVuSans-49\"/>\n       <use x=\"63.623047\" xlink:href=\"#DejaVuSans-53\"/>\n       <use x=\"127.246094\" xlink:href=\"#DejaVuSans-48\"/>\n      </g>\n     </g>\n    </g>\n    <g id=\"xtick_5\">\n     <g id=\"line2d_5\">\n      <g>\n       <use style=\"stroke:#000000;stroke-width:0.8;\" x=\"283.230793\" xlink:href=\"#m4330da2df4\" y=\"235.238437\"/>\n      </g>\n     </g>\n     <g id=\"text_5\">\n      <!-- 200 -->\n      <g transform=\"translate(273.687043 249.836875)scale(0.1 -0.1)\">\n       <defs>\n        <path d=\"M 19.1875 8.296875 \nL 53.609375 8.296875 \nL 53.609375 0 \nL 7.328125 0 \nL 7.328125 8.296875 \nQ 12.9375 14.109375 22.625 23.890625 \nQ 32.328125 33.6875 34.8125 36.53125 \nQ 39.546875 41.84375 41.421875 45.53125 \nQ 43.3125 49.21875 43.3125 52.78125 \nQ 43.3125 58.59375 39.234375 62.25 \nQ 35.15625 65.921875 28.609375 65.921875 \nQ 23.96875 65.921875 18.8125 64.3125 \nQ 13.671875 62.703125 7.8125 59.421875 \nL 7.8125 69.390625 \nQ 13.765625 71.78125 18.9375 73 \nQ 24.125 74.21875 28.421875 74.21875 \nQ 39.75 74.21875 46.484375 68.546875 \nQ 53.21875 62.890625 53.21875 53.421875 \nQ 53.21875 48.921875 51.53125 44.890625 \nQ 49.859375 40.875 45.40625 35.40625 \nQ 44.1875 33.984375 37.640625 27.21875 \nQ 31.109375 20.453125 19.1875 8.296875 \nz\n\" id=\"DejaVuSans-50\"/>\n       </defs>\n       <use xlink:href=\"#DejaVuSans-50\"/>\n       <use x=\"63.623047\" xlink:href=\"#DejaVuSans-48\"/>\n       <use x=\"127.246094\" xlink:href=\"#DejaVuSans-48\"/>\n      </g>\n     </g>\n    </g>\n    <g id=\"xtick_6\">\n     <g id=\"line2d_6\">\n      <g>\n       <use style=\"stroke:#000000;stroke-width:0.8;\" x=\"345.09332\" xlink:href=\"#m4330da2df4\" y=\"235.238437\"/>\n      </g>\n     </g>\n     <g id=\"text_6\">\n      <!-- 250 -->\n      <g transform=\"translate(335.54957 249.836875)scale(0.1 -0.1)\">\n       <use xlink:href=\"#DejaVuSans-50\"/>\n       <use x=\"63.623047\" xlink:href=\"#DejaVuSans-53\"/>\n       <use x=\"127.246094\" xlink:href=\"#DejaVuSans-48\"/>\n      </g>\n     </g>\n    </g>\n   </g>\n   <g id=\"matplotlib.axis_2\">\n    <g id=\"ytick_1\">\n     <g id=\"line2d_7\">\n      <defs>\n       <path d=\"M 0 0 \nL -3.5 0 \n\" id=\"m8b76754a45\" style=\"stroke:#000000;stroke-width:0.8;\"/>\n      </defs>\n      <g>\n       <use style=\"stroke:#000000;stroke-width:0.8;\" x=\"20.5625\" xlink:href=\"#m8b76754a45\" y=\"225.354829\"/>\n      </g>\n     </g>\n     <g id=\"text_7\">\n      <!-- 0 -->\n      <g transform=\"translate(7.2 229.154048)scale(0.1 -0.1)\">\n       <use xlink:href=\"#DejaVuSans-48\"/>\n      </g>\n     </g>\n    </g>\n    <g id=\"ytick_2\">\n     <g id=\"line2d_8\">\n      <g>\n       <use style=\"stroke:#000000;stroke-width:0.8;\" x=\"20.5625\" xlink:href=\"#m8b76754a45\" y=\"197.025445\"/>\n      </g>\n     </g>\n     <g id=\"text_8\">\n      <!-- 1 -->\n      <g transform=\"translate(7.2 200.824664)scale(0.1 -0.1)\">\n       <use xlink:href=\"#DejaVuSans-49\"/>\n      </g>\n     </g>\n    </g>\n    <g id=\"ytick_3\">\n     <g id=\"line2d_9\">\n      <g>\n       <use style=\"stroke:#000000;stroke-width:0.8;\" x=\"20.5625\" xlink:href=\"#m8b76754a45\" y=\"168.696061\"/>\n      </g>\n     </g>\n     <g id=\"text_9\">\n      <!-- 2 -->\n      <g transform=\"translate(7.2 172.495279)scale(0.1 -0.1)\">\n       <use xlink:href=\"#DejaVuSans-50\"/>\n      </g>\n     </g>\n    </g>\n    <g id=\"ytick_4\">\n     <g id=\"line2d_10\">\n      <g>\n       <use style=\"stroke:#000000;stroke-width:0.8;\" x=\"20.5625\" xlink:href=\"#m8b76754a45\" y=\"140.366676\"/>\n      </g>\n     </g>\n     <g id=\"text_10\">\n      <!-- 3 -->\n      <g transform=\"translate(7.2 144.165895)scale(0.1 -0.1)\">\n       <defs>\n        <path d=\"M 40.578125 39.3125 \nQ 47.65625 37.796875 51.625 33 \nQ 55.609375 28.21875 55.609375 21.1875 \nQ 55.609375 10.40625 48.1875 4.484375 \nQ 40.765625 -1.421875 27.09375 -1.421875 \nQ 22.515625 -1.421875 17.65625 -0.515625 \nQ 12.796875 0.390625 7.625 2.203125 \nL 7.625 11.71875 \nQ 11.71875 9.328125 16.59375 8.109375 \nQ 21.484375 6.890625 26.8125 6.890625 \nQ 36.078125 6.890625 40.9375 10.546875 \nQ 45.796875 14.203125 45.796875 21.1875 \nQ 45.796875 27.640625 41.28125 31.265625 \nQ 36.765625 34.90625 28.71875 34.90625 \nL 20.21875 34.90625 \nL 20.21875 43.015625 \nL 29.109375 43.015625 \nQ 36.375 43.015625 40.234375 45.921875 \nQ 44.09375 48.828125 44.09375 54.296875 \nQ 44.09375 59.90625 40.109375 62.90625 \nQ 36.140625 65.921875 28.71875 65.921875 \nQ 24.65625 65.921875 20.015625 65.03125 \nQ 15.375 64.15625 9.8125 62.3125 \nL 9.8125 71.09375 \nQ 15.4375 72.65625 20.34375 73.4375 \nQ 25.25 74.21875 29.59375 74.21875 \nQ 40.828125 74.21875 47.359375 69.109375 \nQ 53.90625 64.015625 53.90625 55.328125 \nQ 53.90625 49.265625 50.4375 45.09375 \nQ 46.96875 40.921875 40.578125 39.3125 \nz\n\" id=\"DejaVuSans-51\"/>\n       </defs>\n       <use xlink:href=\"#DejaVuSans-51\"/>\n      </g>\n     </g>\n    </g>\n    <g id=\"ytick_5\">\n     <g id=\"line2d_11\">\n      <g>\n       <use style=\"stroke:#000000;stroke-width:0.8;\" x=\"20.5625\" xlink:href=\"#m8b76754a45\" y=\"112.037292\"/>\n      </g>\n     </g>\n     <g id=\"text_11\">\n      <!-- 4 -->\n      <g transform=\"translate(7.2 115.836511)scale(0.1 -0.1)\">\n       <defs>\n        <path d=\"M 37.796875 64.3125 \nL 12.890625 25.390625 \nL 37.796875 25.390625 \nz\nM 35.203125 72.90625 \nL 47.609375 72.90625 \nL 47.609375 25.390625 \nL 58.015625 25.390625 \nL 58.015625 17.1875 \nL 47.609375 17.1875 \nL 47.609375 0 \nL 37.796875 0 \nL 37.796875 17.1875 \nL 4.890625 17.1875 \nL 4.890625 26.703125 \nz\n\" id=\"DejaVuSans-52\"/>\n       </defs>\n       <use xlink:href=\"#DejaVuSans-52\"/>\n      </g>\n     </g>\n    </g>\n    <g id=\"ytick_6\">\n     <g id=\"line2d_12\">\n      <g>\n       <use style=\"stroke:#000000;stroke-width:0.8;\" x=\"20.5625\" xlink:href=\"#m8b76754a45\" y=\"83.707908\"/>\n      </g>\n     </g>\n     <g id=\"text_12\">\n      <!-- 5 -->\n      <g transform=\"translate(7.2 87.507126)scale(0.1 -0.1)\">\n       <use xlink:href=\"#DejaVuSans-53\"/>\n      </g>\n     </g>\n    </g>\n    <g id=\"ytick_7\">\n     <g id=\"line2d_13\">\n      <g>\n       <use style=\"stroke:#000000;stroke-width:0.8;\" x=\"20.5625\" xlink:href=\"#m8b76754a45\" y=\"55.378523\"/>\n      </g>\n     </g>\n     <g id=\"text_13\">\n      <!-- 6 -->\n      <g transform=\"translate(7.2 59.177742)scale(0.1 -0.1)\">\n       <defs>\n        <path d=\"M 33.015625 40.375 \nQ 26.375 40.375 22.484375 35.828125 \nQ 18.609375 31.296875 18.609375 23.390625 \nQ 18.609375 15.53125 22.484375 10.953125 \nQ 26.375 6.390625 33.015625 6.390625 \nQ 39.65625 6.390625 43.53125 10.953125 \nQ 47.40625 15.53125 47.40625 23.390625 \nQ 47.40625 31.296875 43.53125 35.828125 \nQ 39.65625 40.375 33.015625 40.375 \nz\nM 52.59375 71.296875 \nL 52.59375 62.3125 \nQ 48.875 64.0625 45.09375 64.984375 \nQ 41.3125 65.921875 37.59375 65.921875 \nQ 27.828125 65.921875 22.671875 59.328125 \nQ 17.53125 52.734375 16.796875 39.40625 \nQ 19.671875 43.65625 24.015625 45.921875 \nQ 28.375 48.1875 33.59375 48.1875 \nQ 44.578125 48.1875 50.953125 41.515625 \nQ 57.328125 34.859375 57.328125 23.390625 \nQ 57.328125 12.15625 50.6875 5.359375 \nQ 44.046875 -1.421875 33.015625 -1.421875 \nQ 20.359375 -1.421875 13.671875 8.265625 \nQ 6.984375 17.96875 6.984375 36.375 \nQ 6.984375 53.65625 15.1875 63.9375 \nQ 23.390625 74.21875 37.203125 74.21875 \nQ 40.921875 74.21875 44.703125 73.484375 \nQ 48.484375 72.75 52.59375 71.296875 \nz\n\" id=\"DejaVuSans-54\"/>\n       </defs>\n       <use xlink:href=\"#DejaVuSans-54\"/>\n      </g>\n     </g>\n    </g>\n    <g id=\"ytick_8\">\n     <g id=\"line2d_14\">\n      <g>\n       <use style=\"stroke:#000000;stroke-width:0.8;\" x=\"20.5625\" xlink:href=\"#m8b76754a45\" y=\"27.049139\"/>\n      </g>\n     </g>\n     <g id=\"text_14\">\n      <!-- 7 -->\n      <g transform=\"translate(7.2 30.848358)scale(0.1 -0.1)\">\n       <defs>\n        <path d=\"M 8.203125 72.90625 \nL 55.078125 72.90625 \nL 55.078125 68.703125 \nL 28.609375 0 \nL 18.3125 0 \nL 43.21875 64.59375 \nL 8.203125 64.59375 \nz\n\" id=\"DejaVuSans-55\"/>\n       </defs>\n       <use xlink:href=\"#DejaVuSans-55\"/>\n      </g>\n     </g>\n    </g>\n    <g id=\"text_15\">\n     <!-- 1e6 -->\n     <g transform=\"translate(20.5625 14.798437)scale(0.1 -0.1)\">\n      <defs>\n       <path d=\"M 56.203125 29.59375 \nL 56.203125 25.203125 \nL 14.890625 25.203125 \nQ 15.484375 15.921875 20.484375 11.0625 \nQ 25.484375 6.203125 34.421875 6.203125 \nQ 39.59375 6.203125 44.453125 7.46875 \nQ 49.3125 8.734375 54.109375 11.28125 \nL 54.109375 2.78125 \nQ 49.265625 0.734375 44.1875 -0.34375 \nQ 39.109375 -1.421875 33.890625 -1.421875 \nQ 20.796875 -1.421875 13.15625 6.1875 \nQ 5.515625 13.8125 5.515625 26.8125 \nQ 5.515625 40.234375 12.765625 48.109375 \nQ 20.015625 56 32.328125 56 \nQ 43.359375 56 49.78125 48.890625 \nQ 56.203125 41.796875 56.203125 29.59375 \nz\nM 47.21875 32.234375 \nQ 47.125 39.59375 43.09375 43.984375 \nQ 39.0625 48.390625 32.421875 48.390625 \nQ 24.90625 48.390625 20.390625 44.140625 \nQ 15.875 39.890625 15.1875 32.171875 \nz\n\" id=\"DejaVuSans-101\"/>\n      </defs>\n      <use xlink:href=\"#DejaVuSans-49\"/>\n      <use x=\"63.623047\" xlink:href=\"#DejaVuSans-101\"/>\n      <use x=\"125.146484\" xlink:href=\"#DejaVuSans-54\"/>\n     </g>\n    </g>\n   </g>\n   <g id=\"line2d_15\">\n    <path clip-path=\"url(#p8ffc5ca0dd)\" d=\"M 35.780682 225.354801 \nL 101.354961 225.263864 \nL 105.066713 225.095531 \nL 108.778465 224.61852 \nL 111.252966 224.052443 \nL 113.727467 223.411915 \nL 118.676469 221.28469 \nL 119.91372 220.663058 \nL 123.625471 218.323873 \nL 128.574473 214.831001 \nL 132.286225 212.054807 \nL 134.760726 210.270934 \nL 139.709728 207.115437 \nL 143.42148 204.505536 \nL 147.133232 202.235219 \nL 149.607733 200.463358 \nL 152.082234 198.605347 \nL 154.556735 197.189642 \nL 157.031236 195.703794 \nL 161.980238 192.407302 \nL 165.69199 190.338662 \nL 169.403742 188.08353 \nL 173.115493 186.350281 \nL 174.352744 185.755704 \nL 176.827245 184.276571 \nL 178.064496 183.592019 \nL 180.538997 182.45111 \nL 183.013498 181.196855 \nL 185.487999 179.802624 \nL 189.199751 178.103201 \nL 192.911502 176.392305 \nL 195.386003 175.0268 \nL 201.572256 172.217432 \nL 204.046757 170.875214 \nL 208.995759 168.773768 \nL 211.470261 167.417386 \nL 212.707511 166.699944 \nL 216.419263 164.90862 \nL 218.893764 163.397219 \nL 226.317267 157.982369 \nL 227.554518 156.853132 \nL 230.029019 154.368531 \nL 232.50352 152.09184 \nL 234.978021 149.343918 \nL 237.452522 146.294798 \nL 241.164274 142.310582 \nL 244.876025 137.158374 \nL 246.113276 135.236961 \nL 251.062278 128.279718 \nL 252.299529 126.369496 \nL 254.77403 122.154877 \nL 260.960283 113.030888 \nL 264.672034 107.119424 \nL 267.146535 103.968148 \nL 270.858287 98.172891 \nL 272.095538 96.276777 \nL 273.332788 94.627752 \nL 275.807289 91.99785 \nL 281.993542 83.95528 \nL 285.705294 79.902138 \nL 290.654296 73.678626 \nL 291.891547 72.495166 \nL 293.128797 71.496668 \nL 299.31505 65.015132 \nL 301.789551 62.966152 \nL 303.026802 61.884536 \nL 306.738553 58.025479 \nL 307.975804 56.696548 \nL 310.450305 54.724908 \nL 316.636558 48.438674 \nL 317.873808 47.549273 \nL 320.348309 46.114559 \nL 322.82281 44.157254 \nL 324.060061 42.810135 \nL 325.297312 41.635287 \nL 329.009063 38.590983 \nL 330.246314 37.5139 \nL 337.669817 29.989219 \nL 338.907068 28.931683 \nL 340.144318 27.682074 \nL 340.144318 27.682074 \n\" style=\"fill:none;stroke:#1f77b4;stroke-linecap:square;stroke-width:1.5;\"/>\n   </g>\n   <g id=\"patch_3\">\n    <path d=\"M 20.5625 235.238437 \nL 20.5625 17.798437 \n\" style=\"fill:none;stroke:#000000;stroke-linecap:square;stroke-linejoin:miter;stroke-width:0.8;\"/>\n   </g>\n   <g id=\"patch_4\">\n    <path d=\"M 355.3625 235.238437 \nL 355.3625 17.798437 \n\" style=\"fill:none;stroke:#000000;stroke-linecap:square;stroke-linejoin:miter;stroke-width:0.8;\"/>\n   </g>\n   <g id=\"patch_5\">\n    <path d=\"M 20.5625 235.238437 \nL 355.3625 235.238437 \n\" style=\"fill:none;stroke:#000000;stroke-linecap:square;stroke-linejoin:miter;stroke-width:0.8;\"/>\n   </g>\n   <g id=\"patch_6\">\n    <path d=\"M 20.5625 17.798437 \nL 355.3625 17.798437 \n\" style=\"fill:none;stroke:#000000;stroke-linecap:square;stroke-linejoin:miter;stroke-width:0.8;\"/>\n   </g>\n  </g>\n </g>\n <defs>\n  <clipPath id=\"p8ffc5ca0dd\">\n   <rect height=\"217.44\" width=\"334.8\" x=\"20.5625\" y=\"17.798437\"/>\n  </clipPath>\n </defs>\n</svg>\n",
      "image/png": "[encoded data removed]"
     },
     "metadata": {
      "needs_background": "light"
     }
    }
   ],
   "source": [
    "%matplotlib inline\n",
    "import pandas\n",
    "import matplotlib.pyplot as plt\n",
    "dataset = pandas.read_csv('usa-cases.txt', usecols=[1], engine='python')\n",
    "plt.plot(dataset)\n",
    "plt.show()"
   ]
  },
  {
   "cell_type": "code",
   "execution_count": 2,
   "metadata": {},
   "outputs": [
    {
     "output_type": "stream",
     "name": "stderr",
     "text": [
      "Using TensorFlow backend.\n"
     ]
    }
   ],
   "source": [
    "import numpy\n",
    "import matplotlib.pyplot as plt\n",
    "import pandas\n",
    "import math\n",
    "from keras.models import Sequential\n",
    "from keras.layers import Dense\n",
    "from keras.layers import LSTM\n",
    "from sklearn.preprocessing import MinMaxScaler\n",
    "from sklearn.metrics import mean_squared_error"
   ]
  },
  {
   "cell_type": "code",
   "execution_count": 3,
   "metadata": {},
   "outputs": [],
   "source": [
    "dataframe = pandas.read_csv('usa-cases.txt', usecols=[1], engine='python')\n",
    "dataset = dataframe.values\n",
    "dataset = dataset.astype('float32')"
   ]
  },
  {
   "cell_type": "code",
   "execution_count": 4,
   "metadata": {},
   "outputs": [],
   "source": [
    "scaler = MinMaxScaler(feature_range=(0, 1))\n",
    "dataset = scaler.fit_transform(dataset)"
   ]
  },
  {
   "cell_type": "code",
   "execution_count": 5,
   "metadata": {},
   "outputs": [
    {
     "output_type": "stream",
     "name": "stdout",
     "text": [
      "165 82\n"
     ]
    }
   ],
   "source": [
    "train_size = int(len(dataset) * 0.67)\n",
    "test_size = len(dataset) - train_size\n",
    "train, test = dataset[0:train_size,:], dataset[train_size:len(dataset),:]\n",
    "print(len(train), len(test))"
   ]
  },
  {
   "cell_type": "code",
   "execution_count": 6,
   "metadata": {},
   "outputs": [],
   "source": [
    "def create_dataset(dataset, look_back):\n",
    "    dataX, dataY = [], []\n",
    "    for i in range(len(dataset)-look_back-1):\n",
    "        a = dataset[i:(i+look_back), 0]\n",
    "        dataX.append(a)\n",
    "        dataY.append(dataset[i + look_back, 0])\n",
    "    return numpy.array(dataX), numpy.array(dataY)"
   ]
  },
  {
   "cell_type": "code",
   "execution_count": 7,
   "metadata": {},
   "outputs": [],
   "source": [
    "look_back = 1\n",
    "trainX, trainY = create_dataset(train, look_back)\n",
    "testX, testY = create_dataset(test, look_back)"
   ]
  },
  {
   "cell_type": "code",
   "execution_count": 8,
   "metadata": {},
   "outputs": [],
   "source": [
    "trainX = numpy.reshape(trainX, (trainX.shape[0], look_back, trainX.shape[1]))\n",
    "testX = numpy.reshape(testX, (testX.shape[0], look_back, testX.shape[1]))"
   ]
  },
  {
   "cell_type": "code",
   "execution_count": 9,
   "metadata": {},
   "outputs": [
    {
     "output_type": "stream",
     "name": "stdout",
     "text": [
      "Epoch 1/100\n",
      " - 3s - loss: 0.0103\n",
      "Epoch 2/100\n",
      " - 1s - loss: 0.0063\n",
      "Epoch 3/100\n",
      " - 1s - loss: 0.0040\n",
      "Epoch 4/100\n",
      " - 1s - loss: 0.0021\n",
      "Epoch 5/100\n",
      " - 1s - loss: 8.7693e-04\n",
      "Epoch 6/100\n",
      " - 1s - loss: 2.4314e-04\n",
      "Epoch 7/100\n",
      " - 1s - loss: 5.9326e-05\n",
      "Epoch 8/100\n",
      " - 1s - loss: 2.1272e-05\n",
      "Epoch 9/100\n",
      " - 1s - loss: 1.6475e-05\n",
      "Epoch 10/100\n",
      " - 1s - loss: 1.5653e-05\n",
      "Epoch 11/100\n",
      " - 1s - loss: 1.5522e-05\n",
      "Epoch 12/100\n",
      " - 1s - loss: 1.5682e-05\n",
      "Epoch 13/100\n",
      " - 1s - loss: 1.5195e-05\n",
      "Epoch 14/100\n",
      " - 1s - loss: 1.5292e-05\n",
      "Epoch 15/100\n",
      " - 1s - loss: 1.5654e-05\n",
      "Epoch 16/100\n",
      " - 1s - loss: 1.3959e-05\n",
      "Epoch 17/100\n",
      " - 1s - loss: 1.4200e-05\n",
      "Epoch 18/100\n",
      " - 1s - loss: 1.4125e-05\n",
      "Epoch 19/100\n",
      " - 1s - loss: 1.3131e-05\n",
      "Epoch 20/100\n",
      " - 1s - loss: 1.3470e-05\n",
      "Epoch 21/100\n",
      " - 1s - loss: 1.2595e-05\n",
      "Epoch 22/100\n",
      " - 1s - loss: 1.3962e-05\n",
      "Epoch 23/100\n",
      " - 1s - loss: 1.1594e-05\n",
      "Epoch 24/100\n",
      " - 1s - loss: 1.1784e-05\n",
      "Epoch 25/100\n",
      " - 1s - loss: 1.0970e-05\n",
      "Epoch 26/100\n",
      " - 1s - loss: 1.0463e-05\n",
      "Epoch 27/100\n",
      " - 1s - loss: 1.1019e-05\n",
      "Epoch 28/100\n",
      " - 1s - loss: 9.9794e-06\n",
      "Epoch 29/100\n",
      " - 1s - loss: 9.6456e-06\n",
      "Epoch 30/100\n",
      " - 1s - loss: 1.0182e-05\n",
      "Epoch 31/100\n",
      " - 1s - loss: 8.1105e-06\n",
      "Epoch 32/100\n",
      " - 1s - loss: 7.7613e-06\n",
      "Epoch 33/100\n",
      " - 1s - loss: 7.6557e-06\n",
      "Epoch 34/100\n",
      " - 1s - loss: 7.7708e-06\n",
      "Epoch 35/100\n",
      " - 1s - loss: 6.5490e-06\n",
      "Epoch 36/100\n",
      " - 1s - loss: 6.6193e-06\n",
      "Epoch 37/100\n",
      " - 1s - loss: 7.0023e-06\n",
      "Epoch 38/100\n",
      " - 1s - loss: 6.7180e-06\n",
      "Epoch 39/100\n",
      " - 1s - loss: 5.7092e-06\n",
      "Epoch 40/100\n",
      " - 1s - loss: 5.3640e-06\n",
      "Epoch 41/100\n",
      " - 1s - loss: 5.6992e-06\n",
      "Epoch 42/100\n",
      " - 1s - loss: 4.4961e-06\n",
      "Epoch 43/100\n",
      " - 1s - loss: 5.5378e-06\n",
      "Epoch 44/100\n",
      " - 1s - loss: 5.1482e-06\n",
      "Epoch 45/100\n",
      " - 1s - loss: 4.4830e-06\n",
      "Epoch 46/100\n",
      " - 1s - loss: 5.1907e-06\n",
      "Epoch 47/100\n",
      " - 1s - loss: 5.1534e-06\n",
      "Epoch 48/100\n",
      " - 1s - loss: 4.4868e-06\n",
      "Epoch 49/100\n",
      " - 1s - loss: 4.6600e-06\n",
      "Epoch 50/100\n",
      " - 1s - loss: 4.7180e-06\n",
      "Epoch 51/100\n",
      " - 1s - loss: 5.1832e-06\n",
      "Epoch 52/100\n",
      " - 1s - loss: 4.2525e-06\n",
      "Epoch 53/100\n",
      " - 1s - loss: 4.7435e-06\n",
      "Epoch 54/100\n",
      " - 1s - loss: 5.0296e-06\n",
      "Epoch 55/100\n",
      " - 1s - loss: 4.9533e-06\n",
      "Epoch 56/100\n",
      " - 1s - loss: 4.6638e-06\n",
      "Epoch 57/100\n",
      " - 1s - loss: 4.5531e-06\n",
      "Epoch 58/100\n",
      " - 1s - loss: 5.1046e-06\n",
      "Epoch 59/100\n",
      " - 1s - loss: 4.2357e-06\n",
      "Epoch 60/100\n",
      " - 1s - loss: 5.4095e-06\n",
      "Epoch 61/100\n",
      " - 1s - loss: 4.8444e-06\n",
      "Epoch 62/100\n",
      " - 1s - loss: 4.8762e-06\n",
      "Epoch 63/100\n",
      " - 1s - loss: 4.9790e-06\n",
      "Epoch 64/100\n",
      " - 1s - loss: 3.7093e-06\n",
      "Epoch 65/100\n",
      " - 1s - loss: 4.6083e-06\n",
      "Epoch 66/100\n",
      " - 1s - loss: 5.4877e-06\n",
      "Epoch 67/100\n",
      " - 1s - loss: 4.1366e-06\n",
      "Epoch 68/100\n",
      " - 1s - loss: 4.1593e-06\n",
      "Epoch 69/100\n",
      " - 1s - loss: 5.4615e-06\n",
      "Epoch 70/100\n",
      " - 1s - loss: 7.7704e-06\n",
      "Epoch 71/100\n",
      " - 1s - loss: 4.7594e-06\n",
      "Epoch 72/100\n",
      " - 1s - loss: 4.4320e-06\n",
      "Epoch 73/100\n",
      " - 1s - loss: 4.9955e-06\n",
      "Epoch 74/100\n",
      " - 1s - loss: 5.4171e-06\n",
      "Epoch 75/100\n",
      " - 1s - loss: 4.8677e-06\n",
      "Epoch 76/100\n",
      " - 1s - loss: 6.6785e-06\n",
      "Epoch 77/100\n",
      " - 1s - loss: 5.8184e-06\n",
      "Epoch 78/100\n",
      " - 1s - loss: 4.5844e-06\n",
      "Epoch 79/100\n",
      " - 1s - loss: 4.6036e-06\n",
      "Epoch 80/100\n",
      " - 1s - loss: 5.3885e-06\n",
      "Epoch 81/100\n",
      " - 1s - loss: 5.0986e-06\n",
      "Epoch 82/100\n",
      " - 1s - loss: 6.3693e-06\n",
      "Epoch 83/100\n",
      " - 1s - loss: 4.5695e-06\n",
      "Epoch 84/100\n",
      " - 1s - loss: 6.9675e-06\n",
      "Epoch 85/100\n",
      " - 1s - loss: 5.4773e-06\n",
      "Epoch 86/100\n",
      " - 1s - loss: 3.9490e-06\n",
      "Epoch 87/100\n",
      " - 1s - loss: 6.2787e-06\n",
      "Epoch 88/100\n",
      " - 1s - loss: 4.1464e-06\n",
      "Epoch 89/100\n",
      " - 1s - loss: 4.2539e-06\n",
      "Epoch 90/100\n",
      " - 1s - loss: 6.6266e-06\n",
      "Epoch 91/100\n",
      " - 1s - loss: 4.9172e-06\n",
      "Epoch 92/100\n",
      " - 1s - loss: 4.4419e-06\n",
      "Epoch 93/100\n",
      " - 1s - loss: 4.9630e-06\n",
      "Epoch 94/100\n",
      " - 1s - loss: 6.6329e-06\n",
      "Epoch 95/100\n",
      " - 1s - loss: 3.8718e-06\n",
      "Epoch 96/100\n",
      " - 1s - loss: 4.8076e-06\n",
      "Epoch 97/100\n",
      " - 1s - loss: 5.0095e-06\n",
      "Epoch 98/100\n",
      " - 1s - loss: 6.1548e-06\n",
      "Epoch 99/100\n",
      " - 1s - loss: 5.2358e-06\n",
      "Epoch 100/100\n",
      " - 1s - loss: 6.2431e-06\n"
     ]
    },
    {
     "output_type": "execute_result",
     "data": {
      "text/plain": [
       "<keras.callbacks.callbacks.History at 0x7fc7e195d250>"
      ]
     },
     "metadata": {},
     "execution_count": 9
    }
   ],
   "source": [
    "model = Sequential()\n",
    "model.add(LSTM(4, input_shape=(1, look_back)))\n",
    "model.add(Dense(1))\n",
    "model.compile(loss='mean_squared_error', optimizer='adam')\n",
    "model.fit(trainX, trainY, epochs=100, batch_size=1, verbose=2)"
   ]
  },
  {
   "cell_type": "code",
   "execution_count": 10,
   "metadata": {},
   "outputs": [
    {
     "output_type": "stream",
     "name": "stdout",
     "text": [
      "Train Score: 25279.06 RMSE\nTest Score: 466551.63 RMSE\n"
     ]
    }
   ],
   "source": [
    "trainPredict = model.predict(trainX)\n",
    "testPredict = model.predict(testX)\n",
    "\n",
    "trainPredict = scaler.inverse_transform(trainPredict)\n",
    "trainY = scaler.inverse_transform([trainY])\n",
    "testPredict = scaler.inverse_transform(testPredict)\n",
    "testY = scaler.inverse_transform([testY])\n",
    "\n",
    "trainScore = math.sqrt(mean_squared_error(trainY[0], trainPredict[:,0]))\n",
    "print('Train Score: %.2f RMSE' % (trainScore))\n",
    "testScore = math.sqrt(mean_squared_error(testY[0], testPredict[:,0]))\n",
    "print('Test Score: %.2f RMSE' % (testScore))"
   ]
  },
  {
   "cell_type": "code",
   "execution_count": 11,
   "metadata": {},
   "outputs": [
    {
     "output_type": "display_data",
     "data": {
      "text/plain": "<Figure size 720x576 with 1 Axes>",
      "image/svg+xml": "<?xml version=\"1.0\" encoding=\"utf-8\" standalone=\"no\"?>\n<!DOCTYPE svg PUBLIC \"-//W3C//DTD SVG 1.1//EN\"\n  \"http://www.w3.org/Graphics/SVG/1.1/DTD/svg11.dtd\">\n<!-- Created with matplotlib (https://matplotlib.org/) -->\n<svg height=\"476.556563pt\" version=\"1.1\" viewBox=\"0 0 585.7625 476.556563\" width=\"585.7625pt\" xmlns=\"http://www.w3.org/2000/svg\" xmlns:xlink=\"http://www.w3.org/1999/xlink\">\n <metadata>\n  <rdf:RDF xmlns:cc=\"http://creativecommons.org/ns#\" xmlns:dc=\"http://purl.org/dc/elements/1.1/\" xmlns:rdf=\"http://www.w3.org/1999/02/22-rdf-syntax-ns#\">\n   <cc:Work>\n    <dc:type rdf:resource=\"http://purl.org/dc/dcmitype/StillImage\"/>\n    <dc:date>2020-11-02T14:36:50.805008</dc:date>\n    <dc:format>image/svg+xml</dc:format>\n    <dc:creator>\n     <cc:Agent>\n      <dc:title>Matplotlib v3.3.2, https://matplotlib.org/</dc:title>\n     </cc:Agent>\n    </dc:creator>\n   </cc:Work>\n  </rdf:RDF>\n </metadata>\n <defs>\n  <style type=\"text/css\">*{stroke-linecap:butt;stroke-linejoin:round;}</style>\n </defs>\n <g id=\"figure_1\">\n  <g id=\"patch_1\">\n   <path d=\"M 0 476.556563 \nL 585.7625 476.556563 \nL 585.7625 0 \nL 0 0 \nz\n\" style=\"fill:none;\"/>\n  </g>\n  <g id=\"axes_1\">\n   <g id=\"patch_2\">\n    <path d=\"M 20.5625 452.678438 \nL 578.5625 452.678438 \nL 578.5625 17.798438 \nL 20.5625 17.798438 \nz\n\" style=\"fill:#ffffff;\"/>\n   </g>\n   <g id=\"matplotlib.axis_1\">\n    <g id=\"xtick_1\">\n     <g id=\"line2d_1\">\n      <defs>\n       <path d=\"M 0 0 \nL 0 3.5 \n\" id=\"mc1424f71f5\" style=\"stroke:#000000;stroke-width:0.8;\"/>\n      </defs>\n      <g>\n       <use style=\"stroke:#000000;stroke-width:0.8;\" x=\"45.926136\" xlink:href=\"#mc1424f71f5\" y=\"452.678438\"/>\n      </g>\n     </g>\n     <g id=\"text_1\">\n      <!-- 0 -->\n      <g transform=\"translate(42.744886 467.276875)scale(0.1 -0.1)\">\n       <defs>\n        <path d=\"M 31.78125 66.40625 \nQ 24.171875 66.40625 20.328125 58.90625 \nQ 16.5 51.421875 16.5 36.375 \nQ 16.5 21.390625 20.328125 13.890625 \nQ 24.171875 6.390625 31.78125 6.390625 \nQ 39.453125 6.390625 43.28125 13.890625 \nQ 47.125 21.390625 47.125 36.375 \nQ 47.125 51.421875 43.28125 58.90625 \nQ 39.453125 66.40625 31.78125 66.40625 \nz\nM 31.78125 74.21875 \nQ 44.046875 74.21875 50.515625 64.515625 \nQ 56.984375 54.828125 56.984375 36.375 \nQ 56.984375 17.96875 50.515625 8.265625 \nQ 44.046875 -1.421875 31.78125 -1.421875 \nQ 19.53125 -1.421875 13.0625 8.265625 \nQ 6.59375 17.96875 6.59375 36.375 \nQ 6.59375 54.828125 13.0625 64.515625 \nQ 19.53125 74.21875 31.78125 74.21875 \nz\n\" id=\"DejaVuSans-48\"/>\n       </defs>\n       <use xlink:href=\"#DejaVuSans-48\"/>\n      </g>\n     </g>\n    </g>\n    <g id=\"xtick_2\">\n     <g id=\"line2d_2\">\n      <g>\n       <use style=\"stroke:#000000;stroke-width:0.8;\" x=\"149.030349\" xlink:href=\"#mc1424f71f5\" y=\"452.678438\"/>\n      </g>\n     </g>\n     <g id=\"text_2\">\n      <!-- 50 -->\n      <g transform=\"translate(142.667849 467.276875)scale(0.1 -0.1)\">\n       <defs>\n        <path d=\"M 10.796875 72.90625 \nL 49.515625 72.90625 \nL 49.515625 64.59375 \nL 19.828125 64.59375 \nL 19.828125 46.734375 \nQ 21.96875 47.46875 24.109375 47.828125 \nQ 26.265625 48.1875 28.421875 48.1875 \nQ 40.625 48.1875 47.75 41.5 \nQ 54.890625 34.8125 54.890625 23.390625 \nQ 54.890625 11.625 47.5625 5.09375 \nQ 40.234375 -1.421875 26.90625 -1.421875 \nQ 22.3125 -1.421875 17.546875 -0.640625 \nQ 12.796875 0.140625 7.71875 1.703125 \nL 7.71875 11.625 \nQ 12.109375 9.234375 16.796875 8.0625 \nQ 21.484375 6.890625 26.703125 6.890625 \nQ 35.15625 6.890625 40.078125 11.328125 \nQ 45.015625 15.765625 45.015625 23.390625 \nQ 45.015625 31 40.078125 35.4375 \nQ 35.15625 39.890625 26.703125 39.890625 \nQ 22.75 39.890625 18.8125 39.015625 \nQ 14.890625 38.140625 10.796875 36.28125 \nz\n\" id=\"DejaVuSans-53\"/>\n       </defs>\n       <use xlink:href=\"#DejaVuSans-53\"/>\n       <use x=\"63.623047\" xlink:href=\"#DejaVuSans-48\"/>\n      </g>\n     </g>\n    </g>\n    <g id=\"xtick_3\">\n     <g id=\"line2d_3\">\n      <g>\n       <use style=\"stroke:#000000;stroke-width:0.8;\" x=\"252.134562\" xlink:href=\"#mc1424f71f5\" y=\"452.678438\"/>\n      </g>\n     </g>\n     <g id=\"text_3\">\n      <!-- 100 -->\n      <g transform=\"translate(242.590812 467.276875)scale(0.1 -0.1)\">\n       <defs>\n        <path d=\"M 12.40625 8.296875 \nL 28.515625 8.296875 \nL 28.515625 63.921875 \nL 10.984375 60.40625 \nL 10.984375 69.390625 \nL 28.421875 72.90625 \nL 38.28125 72.90625 \nL 38.28125 8.296875 \nL 54.390625 8.296875 \nL 54.390625 0 \nL 12.40625 0 \nz\n\" id=\"DejaVuSans-49\"/>\n       </defs>\n       <use xlink:href=\"#DejaVuSans-49\"/>\n       <use x=\"63.623047\" xlink:href=\"#DejaVuSans-48\"/>\n       <use x=\"127.246094\" xlink:href=\"#DejaVuSans-48\"/>\n      </g>\n     </g>\n    </g>\n    <g id=\"xtick_4\">\n     <g id=\"line2d_4\">\n      <g>\n       <use style=\"stroke:#000000;stroke-width:0.8;\" x=\"355.238775\" xlink:href=\"#mc1424f71f5\" y=\"452.678438\"/>\n      </g>\n     </g>\n     <g id=\"text_4\">\n      <!-- 150 -->\n      <g transform=\"translate(345.695025 467.276875)scale(0.1 -0.1)\">\n       <use xlink:href=\"#DejaVuSans-49\"/>\n       <use x=\"63.623047\" xlink:href=\"#DejaVuSans-53\"/>\n       <use x=\"127.246094\" xlink:href=\"#DejaVuSans-48\"/>\n      </g>\n     </g>\n    </g>\n    <g id=\"xtick_5\">\n     <g id=\"line2d_5\">\n      <g>\n       <use style=\"stroke:#000000;stroke-width:0.8;\" x=\"458.342988\" xlink:href=\"#mc1424f71f5\" y=\"452.678438\"/>\n      </g>\n     </g>\n     <g id=\"text_5\">\n      <!-- 200 -->\n      <g transform=\"translate(448.799238 467.276875)scale(0.1 -0.1)\">\n       <defs>\n        <path d=\"M 19.1875 8.296875 \nL 53.609375 8.296875 \nL 53.609375 0 \nL 7.328125 0 \nL 7.328125 8.296875 \nQ 12.9375 14.109375 22.625 23.890625 \nQ 32.328125 33.6875 34.8125 36.53125 \nQ 39.546875 41.84375 41.421875 45.53125 \nQ 43.3125 49.21875 43.3125 52.78125 \nQ 43.3125 58.59375 39.234375 62.25 \nQ 35.15625 65.921875 28.609375 65.921875 \nQ 23.96875 65.921875 18.8125 64.3125 \nQ 13.671875 62.703125 7.8125 59.421875 \nL 7.8125 69.390625 \nQ 13.765625 71.78125 18.9375 73 \nQ 24.125 74.21875 28.421875 74.21875 \nQ 39.75 74.21875 46.484375 68.546875 \nQ 53.21875 62.890625 53.21875 53.421875 \nQ 53.21875 48.921875 51.53125 44.890625 \nQ 49.859375 40.875 45.40625 35.40625 \nQ 44.1875 33.984375 37.640625 27.21875 \nQ 31.109375 20.453125 19.1875 8.296875 \nz\n\" id=\"DejaVuSans-50\"/>\n       </defs>\n       <use xlink:href=\"#DejaVuSans-50\"/>\n       <use x=\"63.623047\" xlink:href=\"#DejaVuSans-48\"/>\n       <use x=\"127.246094\" xlink:href=\"#DejaVuSans-48\"/>\n      </g>\n     </g>\n    </g>\n    <g id=\"xtick_6\">\n     <g id=\"line2d_6\">\n      <g>\n       <use style=\"stroke:#000000;stroke-width:0.8;\" x=\"561.447201\" xlink:href=\"#mc1424f71f5\" y=\"452.678438\"/>\n      </g>\n     </g>\n     <g id=\"text_6\">\n      <!-- 250 -->\n      <g transform=\"translate(551.903451 467.276875)scale(0.1 -0.1)\">\n       <use xlink:href=\"#DejaVuSans-50\"/>\n       <use x=\"63.623047\" xlink:href=\"#DejaVuSans-53\"/>\n       <use x=\"127.246094\" xlink:href=\"#DejaVuSans-48\"/>\n      </g>\n     </g>\n    </g>\n   </g>\n   <g id=\"matplotlib.axis_2\">\n    <g id=\"ytick_1\">\n     <g id=\"line2d_7\">\n      <defs>\n       <path d=\"M 0 0 \nL -3.5 0 \n\" id=\"m46661bb3ec\" style=\"stroke:#000000;stroke-width:0.8;\"/>\n      </defs>\n      <g>\n       <use style=\"stroke:#000000;stroke-width:0.8;\" x=\"20.5625\" xlink:href=\"#m46661bb3ec\" y=\"432.911221\"/>\n      </g>\n     </g>\n     <g id=\"text_7\">\n      <!-- 0 -->\n      <g transform=\"translate(7.2 436.71044)scale(0.1 -0.1)\">\n       <use xlink:href=\"#DejaVuSans-48\"/>\n      </g>\n     </g>\n    </g>\n    <g id=\"ytick_2\">\n     <g id=\"line2d_8\">\n      <g>\n       <use style=\"stroke:#000000;stroke-width:0.8;\" x=\"20.5625\" xlink:href=\"#m46661bb3ec\" y=\"376.252453\"/>\n      </g>\n     </g>\n     <g id=\"text_8\">\n      <!-- 1 -->\n      <g transform=\"translate(7.2 380.051671)scale(0.1 -0.1)\">\n       <use xlink:href=\"#DejaVuSans-49\"/>\n      </g>\n     </g>\n    </g>\n    <g id=\"ytick_3\">\n     <g id=\"line2d_9\">\n      <g>\n       <use style=\"stroke:#000000;stroke-width:0.8;\" x=\"20.5625\" xlink:href=\"#m46661bb3ec\" y=\"319.593684\"/>\n      </g>\n     </g>\n     <g id=\"text_9\">\n      <!-- 2 -->\n      <g transform=\"translate(7.2 323.392903)scale(0.1 -0.1)\">\n       <use xlink:href=\"#DejaVuSans-50\"/>\n      </g>\n     </g>\n    </g>\n    <g id=\"ytick_4\">\n     <g id=\"line2d_10\">\n      <g>\n       <use style=\"stroke:#000000;stroke-width:0.8;\" x=\"20.5625\" xlink:href=\"#m46661bb3ec\" y=\"262.934915\"/>\n      </g>\n     </g>\n     <g id=\"text_10\">\n      <!-- 3 -->\n      <g transform=\"translate(7.2 266.734134)scale(0.1 -0.1)\">\n       <defs>\n        <path d=\"M 40.578125 39.3125 \nQ 47.65625 37.796875 51.625 33 \nQ 55.609375 28.21875 55.609375 21.1875 \nQ 55.609375 10.40625 48.1875 4.484375 \nQ 40.765625 -1.421875 27.09375 -1.421875 \nQ 22.515625 -1.421875 17.65625 -0.515625 \nQ 12.796875 0.390625 7.625 2.203125 \nL 7.625 11.71875 \nQ 11.71875 9.328125 16.59375 8.109375 \nQ 21.484375 6.890625 26.8125 6.890625 \nQ 36.078125 6.890625 40.9375 10.546875 \nQ 45.796875 14.203125 45.796875 21.1875 \nQ 45.796875 27.640625 41.28125 31.265625 \nQ 36.765625 34.90625 28.71875 34.90625 \nL 20.21875 34.90625 \nL 20.21875 43.015625 \nL 29.109375 43.015625 \nQ 36.375 43.015625 40.234375 45.921875 \nQ 44.09375 48.828125 44.09375 54.296875 \nQ 44.09375 59.90625 40.109375 62.90625 \nQ 36.140625 65.921875 28.71875 65.921875 \nQ 24.65625 65.921875 20.015625 65.03125 \nQ 15.375 64.15625 9.8125 62.3125 \nL 9.8125 71.09375 \nQ 15.4375 72.65625 20.34375 73.4375 \nQ 25.25 74.21875 29.59375 74.21875 \nQ 40.828125 74.21875 47.359375 69.109375 \nQ 53.90625 64.015625 53.90625 55.328125 \nQ 53.90625 49.265625 50.4375 45.09375 \nQ 46.96875 40.921875 40.578125 39.3125 \nz\n\" id=\"DejaVuSans-51\"/>\n       </defs>\n       <use xlink:href=\"#DejaVuSans-51\"/>\n      </g>\n     </g>\n    </g>\n    <g id=\"ytick_5\">\n     <g id=\"line2d_11\">\n      <g>\n       <use style=\"stroke:#000000;stroke-width:0.8;\" x=\"20.5625\" xlink:href=\"#m46661bb3ec\" y=\"206.276146\"/>\n      </g>\n     </g>\n     <g id=\"text_11\">\n      <!-- 4 -->\n      <g transform=\"translate(7.2 210.075365)scale(0.1 -0.1)\">\n       <defs>\n        <path d=\"M 37.796875 64.3125 \nL 12.890625 25.390625 \nL 37.796875 25.390625 \nz\nM 35.203125 72.90625 \nL 47.609375 72.90625 \nL 47.609375 25.390625 \nL 58.015625 25.390625 \nL 58.015625 17.1875 \nL 47.609375 17.1875 \nL 47.609375 0 \nL 37.796875 0 \nL 37.796875 17.1875 \nL 4.890625 17.1875 \nL 4.890625 26.703125 \nz\n\" id=\"DejaVuSans-52\"/>\n       </defs>\n       <use xlink:href=\"#DejaVuSans-52\"/>\n      </g>\n     </g>\n    </g>\n    <g id=\"ytick_6\">\n     <g id=\"line2d_12\">\n      <g>\n       <use style=\"stroke:#000000;stroke-width:0.8;\" x=\"20.5625\" xlink:href=\"#m46661bb3ec\" y=\"149.617378\"/>\n      </g>\n     </g>\n     <g id=\"text_12\">\n      <!-- 5 -->\n      <g transform=\"translate(7.2 153.416596)scale(0.1 -0.1)\">\n       <use xlink:href=\"#DejaVuSans-53\"/>\n      </g>\n     </g>\n    </g>\n    <g id=\"ytick_7\">\n     <g id=\"line2d_13\">\n      <g>\n       <use style=\"stroke:#000000;stroke-width:0.8;\" x=\"20.5625\" xlink:href=\"#m46661bb3ec\" y=\"92.958609\"/>\n      </g>\n     </g>\n     <g id=\"text_13\">\n      <!-- 6 -->\n      <g transform=\"translate(7.2 96.757828)scale(0.1 -0.1)\">\n       <defs>\n        <path d=\"M 33.015625 40.375 \nQ 26.375 40.375 22.484375 35.828125 \nQ 18.609375 31.296875 18.609375 23.390625 \nQ 18.609375 15.53125 22.484375 10.953125 \nQ 26.375 6.390625 33.015625 6.390625 \nQ 39.65625 6.390625 43.53125 10.953125 \nQ 47.40625 15.53125 47.40625 23.390625 \nQ 47.40625 31.296875 43.53125 35.828125 \nQ 39.65625 40.375 33.015625 40.375 \nz\nM 52.59375 71.296875 \nL 52.59375 62.3125 \nQ 48.875 64.0625 45.09375 64.984375 \nQ 41.3125 65.921875 37.59375 65.921875 \nQ 27.828125 65.921875 22.671875 59.328125 \nQ 17.53125 52.734375 16.796875 39.40625 \nQ 19.671875 43.65625 24.015625 45.921875 \nQ 28.375 48.1875 33.59375 48.1875 \nQ 44.578125 48.1875 50.953125 41.515625 \nQ 57.328125 34.859375 57.328125 23.390625 \nQ 57.328125 12.15625 50.6875 5.359375 \nQ 44.046875 -1.421875 33.015625 -1.421875 \nQ 20.359375 -1.421875 13.671875 8.265625 \nQ 6.984375 17.96875 6.984375 36.375 \nQ 6.984375 53.65625 15.1875 63.9375 \nQ 23.390625 74.21875 37.203125 74.21875 \nQ 40.921875 74.21875 44.703125 73.484375 \nQ 48.484375 72.75 52.59375 71.296875 \nz\n\" id=\"DejaVuSans-54\"/>\n       </defs>\n       <use xlink:href=\"#DejaVuSans-54\"/>\n      </g>\n     </g>\n    </g>\n    <g id=\"ytick_8\">\n     <g id=\"line2d_14\">\n      <g>\n       <use style=\"stroke:#000000;stroke-width:0.8;\" x=\"20.5625\" xlink:href=\"#m46661bb3ec\" y=\"36.29984\"/>\n      </g>\n     </g>\n     <g id=\"text_14\">\n      <!-- 7 -->\n      <g transform=\"translate(7.2 40.099059)scale(0.1 -0.1)\">\n       <defs>\n        <path d=\"M 8.203125 72.90625 \nL 55.078125 72.90625 \nL 55.078125 68.703125 \nL 28.609375 0 \nL 18.3125 0 \nL 43.21875 64.59375 \nL 8.203125 64.59375 \nz\n\" id=\"DejaVuSans-55\"/>\n       </defs>\n       <use xlink:href=\"#DejaVuSans-55\"/>\n      </g>\n     </g>\n    </g>\n    <g id=\"text_15\">\n     <!-- 1e6 -->\n     <g transform=\"translate(20.5625 14.798438)scale(0.1 -0.1)\">\n      <defs>\n       <path d=\"M 56.203125 29.59375 \nL 56.203125 25.203125 \nL 14.890625 25.203125 \nQ 15.484375 15.921875 20.484375 11.0625 \nQ 25.484375 6.203125 34.421875 6.203125 \nQ 39.59375 6.203125 44.453125 7.46875 \nQ 49.3125 8.734375 54.109375 11.28125 \nL 54.109375 2.78125 \nQ 49.265625 0.734375 44.1875 -0.34375 \nQ 39.109375 -1.421875 33.890625 -1.421875 \nQ 20.796875 -1.421875 13.15625 6.1875 \nQ 5.515625 13.8125 5.515625 26.8125 \nQ 5.515625 40.234375 12.765625 48.109375 \nQ 20.015625 56 32.328125 56 \nQ 43.359375 56 49.78125 48.890625 \nQ 56.203125 41.796875 56.203125 29.59375 \nz\nM 47.21875 32.234375 \nQ 47.125 39.59375 43.09375 43.984375 \nQ 39.0625 48.390625 32.421875 48.390625 \nQ 24.90625 48.390625 20.390625 44.140625 \nQ 15.875 39.890625 15.1875 32.171875 \nz\n\" id=\"DejaVuSans-101\"/>\n      </defs>\n      <use xlink:href=\"#DejaVuSans-49\"/>\n      <use x=\"63.623047\" xlink:href=\"#DejaVuSans-101\"/>\n      <use x=\"125.146484\" xlink:href=\"#DejaVuSans-54\"/>\n     </g>\n    </g>\n   </g>\n   <g id=\"line2d_15\">\n    <path clip-path=\"url(#p94856b0ac4)\" d=\"M 45.926136 432.911165 \nL 149.030349 432.821474 \nL 159.340771 432.542203 \nL 163.464939 432.138226 \nL 167.589108 431.438603 \nL 169.651192 430.93927 \nL 175.837445 429.025393 \nL 179.961613 426.956215 \nL 186.147866 423.527679 \nL 190.272034 420.574908 \nL 194.396203 417.036964 \nL 196.458287 415.168301 \nL 200.582456 411.863565 \nL 204.706624 408.271116 \nL 208.830793 404.411521 \nL 210.892877 402.74343 \nL 217.07913 398.12914 \nL 221.203298 394.651765 \nL 223.265382 392.786671 \nL 229.451635 388.143938 \nL 231.51372 386.672 \nL 233.575804 385.014108 \nL 239.762057 379.412259 \nL 241.824141 377.887115 \nL 245.948309 375.178765 \nL 250.072478 371.928085 \nL 252.134562 369.997665 \nL 254.196646 368.401247 \nL 262.444983 362.878887 \nL 266.569152 359.782485 \nL 268.631236 358.368622 \nL 272.755405 356.18726 \nL 276.879573 353.712971 \nL 281.003742 350.754704 \nL 283.065826 349.385601 \nL 285.12791 348.351579 \nL 291.314163 344.595272 \nL 295.438331 341.806811 \nL 299.5625 339.458871 \nL 305.748753 336.272099 \nL 309.872921 333.606021 \nL 311.935006 332.255162 \nL 320.183343 327.841097 \nL 322.245427 326.636426 \nL 324.307511 325.21599 \nL 326.369595 323.95199 \nL 332.555848 320.927205 \nL 336.680017 318.464191 \nL 340.804185 315.60145 \nL 344.928354 313.362749 \nL 349.052522 310.571058 \nL 351.114606 308.996001 \nL 355.238775 305.370293 \nL 357.300859 303.874672 \nL 359.362943 302.13995 \nL 363.487112 298.166301 \nL 365.549196 295.907826 \nL 369.673365 290.938625 \nL 373.797533 286.385243 \nL 375.859618 283.786928 \nL 379.983786 277.801496 \nL 382.04587 274.791159 \nL 384.107955 272.199757 \nL 386.170039 269.374637 \nL 388.232123 266.822727 \nL 394.418376 256.51831 \nL 396.48046 252.675485 \nL 402.666713 242.577023 \nL 406.790881 234.940568 \nL 408.852966 230.562701 \nL 410.91505 226.511316 \nL 419.163387 212.281183 \nL 427.411724 196.440411 \nL 431.535892 190.137859 \nL 433.597977 186.400137 \nL 437.722145 178.547345 \nL 439.784229 174.755117 \nL 441.846314 171.457067 \nL 445.970482 166.197263 \nL 448.032567 162.949696 \nL 450.094651 159.962815 \nL 454.218819 153.281387 \nL 456.280904 150.112122 \nL 462.467156 142.005839 \nL 464.529241 138.820313 \nL 466.591325 135.902783 \nL 468.653409 132.256791 \nL 470.715493 129.558814 \nL 472.777578 127.191894 \nL 474.839662 125.194899 \nL 481.025915 117.504264 \nL 483.087999 114.759996 \nL 485.150083 112.231826 \nL 487.212167 110.266616 \nL 491.336336 105.970635 \nL 495.460504 100.862904 \nL 499.584673 95.594658 \nL 503.708841 91.651378 \nL 505.770926 89.19794 \nL 507.83301 86.944054 \nL 509.895094 84.458887 \nL 511.957178 81.597506 \nL 514.019263 79.07891 \nL 516.081347 77.300108 \nL 520.205516 74.430681 \nL 522.2676 72.54944 \nL 524.329684 70.51607 \nL 526.391768 67.821833 \nL 528.453853 65.472137 \nL 534.640105 59.383529 \nL 536.70219 57.229363 \nL 538.764274 54.694789 \nL 540.826358 51.941456 \nL 542.888442 49.437932 \nL 544.950527 47.358838 \nL 547.012611 44.408616 \nL 553.198864 37.56571 \nL 553.198864 37.56571 \n\" style=\"fill:none;stroke:#0000ff;stroke-linecap:square;stroke-width:1.5;\"/>\n   </g>\n   <g id=\"line2d_16\">\n    <path clip-path=\"url(#p94856b0ac4)\" d=\"M 47.988221 431.515726 \nL 151.092433 431.425987 \nL 161.402855 431.146522 \nL 165.527023 430.742144 \nL 169.651192 430.04149 \nL 171.713276 429.541165 \nL 177.899529 427.621537 \nL 182.023697 425.542749 \nL 188.20995 422.090872 \nL 192.334119 419.110969 \nL 196.458287 415.532502 \nL 198.520371 413.639122 \nL 202.64454 410.28542 \nL 206.768708 406.632672 \nL 210.892877 402.700847 \nL 212.954961 400.99937 \nL 219.141214 396.286593 \nL 223.265382 392.729743 \nL 225.327467 390.82041 \nL 231.51372 386.063404 \nL 233.575804 384.554188 \nL 235.637888 382.853787 \nL 241.824141 377.105224 \nL 243.886225 375.539544 \nL 248.010394 372.758873 \nL 252.134562 369.421126 \nL 254.196646 367.439075 \nL 256.258731 365.800093 \nL 264.507068 360.132289 \nL 268.631236 356.956211 \nL 270.69332 355.506575 \nL 274.817489 353.27087 \nL 278.941657 350.736382 \nL 283.065826 347.708417 \nL 285.12791 346.307982 \nL 287.189994 345.250736 \nL 293.376247 341.413372 \nL 297.500416 338.568422 \nL 301.624584 336.175595 \nL 307.810837 332.93215 \nL 311.935006 330.222699 \nL 313.99709 328.851351 \nL 324.307511 323.159015 \nL 326.369595 321.723126 \nL 328.43168 320.446462 \nL 334.617932 317.395883 \nL 338.742101 314.916694 \nL 342.866269 312.040886 \nL 346.990438 309.796405 \nL 351.114606 307.003199 \nL 353.176691 305.430182 \nL 357.300859 301.817307 \nL 359.362943 300.330411 \nL 361.425028 298.608367 \nL 365.549196 294.674548 \nL 367.61128 292.44555 \nL 371.735449 287.559482 \nL 375.859618 283.105196 \nL 377.921702 280.573654 \nL 382.04587 274.771272 \nL 382.04587 274.771272 \n\" style=\"fill:none;stroke:#008000;stroke-linecap:square;stroke-width:1.5;\"/>\n   </g>\n   <g id=\"line2d_17\">\n    <path clip-path=\"url(#p94856b0ac4)\" d=\"M 388.232123 266.67472 \nL 390.294207 264.240276 \nL 396.48046 254.496781 \nL 398.542544 250.89987 \nL 406.790881 238.051347 \nL 408.852966 234.573434 \nL 410.91505 230.615266 \nL 412.977134 226.978552 \nL 417.101303 220.677049 \nL 421.225471 214.410603 \nL 427.411724 203.998591 \nL 429.473808 200.809099 \nL 433.597977 195.514663 \nL 437.722145 189.106443 \nL 441.846314 182.879049 \nL 443.908398 180.22351 \nL 448.032567 176.027758 \nL 450.094651 173.461456 \nL 452.156735 171.117539 \nL 456.280904 165.931533 \nL 458.342988 163.499173 \nL 464.529241 157.358835 \nL 466.591325 154.97775 \nL 468.653409 152.81279 \nL 470.715493 150.128468 \nL 472.777578 148.157309 \nL 474.839662 146.438651 \nL 476.901746 144.996288 \nL 487.212167 135.804678 \nL 491.336336 132.960436 \nL 493.39842 131.470877 \nL 499.584673 126.222887 \nL 501.646757 124.439609 \nL 505.770926 121.816421 \nL 516.081347 113.631127 \nL 518.143431 112.494807 \nL 522.2676 110.673086 \nL 526.391768 108.210158 \nL 528.453853 106.529999 \nL 530.515937 105.074577 \nL 536.70219 101.345976 \nL 538.764274 100.041436 \nL 544.950527 95.38655 \nL 547.012611 94.161134 \nL 549.074695 92.434289 \nL 551.136779 91.138984 \nL 551.136779 91.138984 \n\" style=\"fill:none;stroke:#ff0000;stroke-linecap:square;stroke-width:1.5;\"/>\n   </g>\n   <g id=\"patch_3\">\n    <path d=\"M 20.5625 452.678438 \nL 20.5625 17.798438 \n\" style=\"fill:none;stroke:#000000;stroke-linecap:square;stroke-linejoin:miter;stroke-width:0.8;\"/>\n   </g>\n   <g id=\"patch_4\">\n    <path d=\"M 578.5625 452.678438 \nL 578.5625 17.798438 \n\" style=\"fill:none;stroke:#000000;stroke-linecap:square;stroke-linejoin:miter;stroke-width:0.8;\"/>\n   </g>\n   <g id=\"patch_5\">\n    <path d=\"M 20.5625 452.678438 \nL 578.5625 452.678438 \n\" style=\"fill:none;stroke:#000000;stroke-linecap:square;stroke-linejoin:miter;stroke-width:0.8;\"/>\n   </g>\n   <g id=\"patch_6\">\n    <path d=\"M 20.5625 17.798438 \nL 578.5625 17.798438 \n\" style=\"fill:none;stroke:#000000;stroke-linecap:square;stroke-linejoin:miter;stroke-width:0.8;\"/>\n   </g>\n  </g>\n </g>\n <defs>\n  <clipPath id=\"p94856b0ac4\">\n   <rect height=\"434.88\" width=\"558\" x=\"20.5625\" y=\"17.798438\"/>\n  </clipPath>\n </defs>\n</svg>\n",
      "image/png": "[encoded data removed]"
     },
     "metadata": {
      "needs_background": "light"
     }
    }
   ],
   "source": [
    "trainPredictPlot = numpy.empty_like(dataset)\n",
    "trainPredictPlot[:, :] = numpy.nan\n",
    "trainPredictPlot[look_back:len(trainPredict)+look_back, :] = trainPredict\n",
    "\n",
    "testPredictPlot = numpy.empty_like(dataset)\n",
    "testPredictPlot[:, :] = numpy.nan\n",
    "testPredictPlot[len(trainPredict)+(look_back*2)+1:len(dataset)-1, :] = testPredict\n",
    "\n",
    "plt.figure(figsize=(10,8))\n",
    "plt.plot(scaler.inverse_transform(dataset),color='b')\n",
    "plt.plot(trainPredictPlot,color='g')\n",
    "plt.plot(testPredictPlot,color='r')\n",
    "plt.show()"
   ]
  }
 ]
}