{
 "cells": [
  {
   "cell_type": "code",
   "execution_count": 80,
   "metadata": {},
   "outputs": [],
   "source": [
    "import pandas as pd\n",
    "import numpy as np\n",
    "from sklearn.model_selection import train_test_split\n",
    "from sklearn.linear_model import LogisticRegression\n",
    "from sklearn.preprocessing import LabelEncoder, OneHotEncoder\n",
    "from sklearn.compose import ColumnTransformer"
   ]
  },
  {
   "cell_type": "code",
   "execution_count": 81,
   "metadata": {},
   "outputs": [],
   "source": [
    "col_names = ['Loan ID', 'Gender', 'Married', 'Dependents', 'Education', 'Self Employed', 'Applicant Income', 'Co-applicant Income', 'Loan Amount', 'Loan Amount Term', 'Credit History', 'Property Area', 'Loan Status']\n",
    "\n",
    "loan_test = pd.read_csv(\"loan_test.csv\", header=None, names=col_names)\n",
    "loan_train = pd.read_csv(\"loan_train.csv\", header=None, names=col_names)"
   ]
  },
  {
   "cell_type": "code",
   "execution_count": 82,
   "metadata": {},
   "outputs": [
    {
     "output_type": "execute_result",
     "data": {
      "text/plain": [
       "    Loan ID  Gender  Married  Dependents     Education  Self Employed  \\\n",
       "0   Loan_ID  Gender  Married  Dependents     Education  Self_Employed   \n",
       "1  LP001008    Male       No           0      Graduate             No   \n",
       "2  LP001011    Male      Yes           2      Graduate            Yes   \n",
       "3  LP001013    Male      Yes           0  Not Graduate             No   \n",
       "4  LP001024    Male      Yes           2      Graduate             No   \n",
       "\n",
       "  Applicant Income Co-applicant Income  Loan Amount  Loan Amount Term  \\\n",
       "0  ApplicantIncome   CoapplicantIncome   LoanAmount  Loan_Amount_Term   \n",
       "1             6000                   0   4.94875989               360   \n",
       "2             5417                4196  5.587248658               360   \n",
       "3             2333                1516  4.553876892               360   \n",
       "4             3200                 700  4.248495242               360   \n",
       "\n",
       "   Credit History  Property Area  Loan Status  \n",
       "0  Credit_History  Property_Area  Loan_Status  \n",
       "1               1          Urban            Y  \n",
       "2               1          Urban            Y  \n",
       "3               1          Urban            Y  \n",
       "4               1          Urban            Y  "
      ],
      "text/html": "<div>\n<style scoped>\n    .dataframe tbody tr th:only-of-type {\n        vertical-align: middle;\n    }\n\n    .dataframe tbody tr th {\n        vertical-align: top;\n    }\n\n    .dataframe thead th {\n        text-align: right;\n    }\n</style>\n<table border=\"1\" class=\"dataframe\">\n  <thead>\n    <tr style=\"text-align: right;\">\n      <th></th>\n      <th>Loan ID</th>\n      <th>Gender</th>\n      <th>Married</th>\n      <th>Dependents</th>\n      <th>Education</th>\n      <th>Self Employed</th>\n      <th>Applicant Income</th>\n      <th>Co-applicant Income</th>\n      <th>Loan Amount</th>\n      <th>Loan Amount Term</th>\n      <th>Credit History</th>\n      <th>Property Area</th>\n      <th>Loan Status</th>\n    </tr>\n  </thead>\n  <tbody>\n    <tr>\n      <th>0</th>\n      <td>Loan_ID</td>\n      <td>Gender</td>\n      <td>Married</td>\n      <td>Dependents</td>\n      <td>Education</td>\n      <td>Self_Employed</td>\n      <td>ApplicantIncome</td>\n      <td>CoapplicantIncome</td>\n      <td>LoanAmount</td>\n      <td>Loan_Amount_Term</td>\n      <td>Credit_History</td>\n      <td>Property_Area</td>\n      <td>Loan_Status</td>\n    </tr>\n    <tr>\n      <th>1</th>\n      <td>LP001008</td>\n      <td>Male</td>\n      <td>No</td>\n      <td>0</td>\n      <td>Graduate</td>\n      <td>No</td>\n      <td>6000</td>\n      <td>0</td>\n      <td>4.94875989</td>\n      <td>360</td>\n      <td>1</td>\n      <td>Urban</td>\n      <td>Y</td>\n    </tr>\n    <tr>\n      <th>2</th>\n      <td>LP001011</td>\n      <td>Male</td>\n      <td>Yes</td>\n      <td>2</td>\n      <td>Graduate</td>\n      <td>Yes</td>\n      <td>5417</td>\n      <td>4196</td>\n      <td>5.587248658</td>\n      <td>360</td>\n      <td>1</td>\n      <td>Urban</td>\n      <td>Y</td>\n    </tr>\n    <tr>\n      <th>3</th>\n      <td>LP001013</td>\n      <td>Male</td>\n      <td>Yes</td>\n      <td>0</td>\n      <td>Not Graduate</td>\n      <td>No</td>\n      <td>2333</td>\n      <td>1516</td>\n      <td>4.553876892</td>\n      <td>360</td>\n      <td>1</td>\n      <td>Urban</td>\n      <td>Y</td>\n    </tr>\n    <tr>\n      <th>4</th>\n      <td>LP001024</td>\n      <td>Male</td>\n      <td>Yes</td>\n      <td>2</td>\n      <td>Graduate</td>\n      <td>No</td>\n      <td>3200</td>\n      <td>700</td>\n      <td>4.248495242</td>\n      <td>360</td>\n      <td>1</td>\n      <td>Urban</td>\n      <td>Y</td>\n    </tr>\n  </tbody>\n</table>\n</div>"
     },
     "metadata": {},
     "execution_count": 82
    }
   ],
   "source": [
    "loan_test.head()"
   ]
  },
  {
   "cell_type": "code",
   "execution_count": 83,
   "metadata": {},
   "outputs": [
    {
     "output_type": "execute_result",
     "data": {
      "text/plain": [
       "    Loan ID Gender Married Dependents     Education Self Employed  \\\n",
       "1  LP001008   Male      No          0      Graduate            No   \n",
       "2  LP001011   Male     Yes          2      Graduate           Yes   \n",
       "3  LP001013   Male     Yes          0  Not Graduate            No   \n",
       "4  LP001024   Male     Yes          2      Graduate            No   \n",
       "5  LP001028   Male     Yes          2      Graduate            No   \n",
       "\n",
       "  Applicant Income Co-applicant Income  Loan Amount Loan Amount Term  \\\n",
       "1             6000                   0   4.94875989              360   \n",
       "2             5417                4196  5.587248658              360   \n",
       "3             2333                1516  4.553876892              360   \n",
       "4             3200                 700  4.248495242              360   \n",
       "5             3073                8106  5.298317367              360   \n",
       "\n",
       "  Credit History Property Area Loan Status  \n",
       "1              1         Urban           Y  \n",
       "2              1         Urban           Y  \n",
       "3              1         Urban           Y  \n",
       "4              1         Urban           Y  \n",
       "5              1         Urban           Y  "
      ],
      "text/html": "<div>\n<style scoped>\n    .dataframe tbody tr th:only-of-type {\n        vertical-align: middle;\n    }\n\n    .dataframe tbody tr th {\n        vertical-align: top;\n    }\n\n    .dataframe thead th {\n        text-align: right;\n    }\n</style>\n<table border=\"1\" class=\"dataframe\">\n  <thead>\n    <tr style=\"text-align: right;\">\n      <th></th>\n      <th>Loan ID</th>\n      <th>Gender</th>\n      <th>Married</th>\n      <th>Dependents</th>\n      <th>Education</th>\n      <th>Self Employed</th>\n      <th>Applicant Income</th>\n      <th>Co-applicant Income</th>\n      <th>Loan Amount</th>\n      <th>Loan Amount Term</th>\n      <th>Credit History</th>\n      <th>Property Area</th>\n      <th>Loan Status</th>\n    </tr>\n  </thead>\n  <tbody>\n    <tr>\n      <th>1</th>\n      <td>LP001008</td>\n      <td>Male</td>\n      <td>No</td>\n      <td>0</td>\n      <td>Graduate</td>\n      <td>No</td>\n      <td>6000</td>\n      <td>0</td>\n      <td>4.94875989</td>\n      <td>360</td>\n      <td>1</td>\n      <td>Urban</td>\n      <td>Y</td>\n    </tr>\n    <tr>\n      <th>2</th>\n      <td>LP001011</td>\n      <td>Male</td>\n      <td>Yes</td>\n      <td>2</td>\n      <td>Graduate</td>\n      <td>Yes</td>\n      <td>5417</td>\n      <td>4196</td>\n      <td>5.587248658</td>\n      <td>360</td>\n      <td>1</td>\n      <td>Urban</td>\n      <td>Y</td>\n    </tr>\n    <tr>\n      <th>3</th>\n      <td>LP001013</td>\n      <td>Male</td>\n      <td>Yes</td>\n      <td>0</td>\n      <td>Not Graduate</td>\n      <td>No</td>\n      <td>2333</td>\n      <td>1516</td>\n      <td>4.553876892</td>\n      <td>360</td>\n      <td>1</td>\n      <td>Urban</td>\n      <td>Y</td>\n    </tr>\n    <tr>\n      <th>4</th>\n      <td>LP001024</td>\n      <td>Male</td>\n      <td>Yes</td>\n      <td>2</td>\n      <td>Graduate</td>\n      <td>No</td>\n      <td>3200</td>\n      <td>700</td>\n      <td>4.248495242</td>\n      <td>360</td>\n      <td>1</td>\n      <td>Urban</td>\n      <td>Y</td>\n    </tr>\n    <tr>\n      <th>5</th>\n      <td>LP001028</td>\n      <td>Male</td>\n      <td>Yes</td>\n      <td>2</td>\n      <td>Graduate</td>\n      <td>No</td>\n      <td>3073</td>\n      <td>8106</td>\n      <td>5.298317367</td>\n      <td>360</td>\n      <td>1</td>\n      <td>Urban</td>\n      <td>Y</td>\n    </tr>\n  </tbody>\n</table>\n</div>"
     },
     "metadata": {},
     "execution_count": 83
    }
   ],
   "source": [
    "loan_test=loan_test.drop(loan_test.index[0])\n",
    "loan_test.head()"
   ]
  },
  {
   "cell_type": "code",
   "execution_count": 84,
   "metadata": {},
   "outputs": [
    {
     "output_type": "execute_result",
     "data": {
      "text/plain": [
       "Loan ID                0\n",
       "Gender                 0\n",
       "Married                0\n",
       "Dependents             0\n",
       "Education              0\n",
       "Self Employed          0\n",
       "Applicant Income       0\n",
       "Co-applicant Income    0\n",
       "Loan Amount            0\n",
       "Loan Amount Term       0\n",
       "Credit History         0\n",
       "Property Area          0\n",
       "Loan Status            0\n",
       "dtype: int64"
      ]
     },
     "metadata": {},
     "execution_count": 84
    }
   ],
   "source": [
    "loan_test.isnull().sum()"
   ]
  },
  {
   "cell_type": "code",
   "execution_count": 85,
   "metadata": {},
   "outputs": [
    {
     "output_type": "execute_result",
     "data": {
      "text/plain": [
       "    Loan ID  Gender  Married  Dependents     Education  Self Employed  \\\n",
       "0   Loan_ID  Gender  Married  Dependents     Education  Self_Employed   \n",
       "1  LP001954  Female      Yes           1      Graduate             No   \n",
       "2  LP001401    Male      Yes           1      Graduate             No   \n",
       "3  LP002004    Male       No           0  Not Graduate             No   \n",
       "4  LP002305  Female       No           0      Graduate             No   \n",
       "\n",
       "  Applicant Income Co-applicant Income  Loan Amount  Loan Amount Term  \\\n",
       "0  ApplicantIncome   CoapplicantIncome   LoanAmount  Loan_Amount_Term   \n",
       "1             4666                   0  4.905274778               360   \n",
       "2            14583                   0  5.220355825               180   \n",
       "3             2927                2405  4.709530201               360   \n",
       "4             4547                   0  4.744932128               360   \n",
       "\n",
       "   Credit History  Property Area  Loan Status  \n",
       "0  Credit_History  Property_Area  Loan_Status  \n",
       "1               1          Urban            Y  \n",
       "2               1          Rural            Y  \n",
       "3               1      Semiurban            Y  \n",
       "4               1      Semiurban            Y  "
      ],
      "text/html": "<div>\n<style scoped>\n    .dataframe tbody tr th:only-of-type {\n        vertical-align: middle;\n    }\n\n    .dataframe tbody tr th {\n        vertical-align: top;\n    }\n\n    .dataframe thead th {\n        text-align: right;\n    }\n</style>\n<table border=\"1\" class=\"dataframe\">\n  <thead>\n    <tr style=\"text-align: right;\">\n      <th></th>\n      <th>Loan ID</th>\n      <th>Gender</th>\n      <th>Married</th>\n      <th>Dependents</th>\n      <th>Education</th>\n      <th>Self Employed</th>\n      <th>Applicant Income</th>\n      <th>Co-applicant Income</th>\n      <th>Loan Amount</th>\n      <th>Loan Amount Term</th>\n      <th>Credit History</th>\n      <th>Property Area</th>\n      <th>Loan Status</th>\n    </tr>\n  </thead>\n  <tbody>\n    <tr>\n      <th>0</th>\n      <td>Loan_ID</td>\n      <td>Gender</td>\n      <td>Married</td>\n      <td>Dependents</td>\n      <td>Education</td>\n      <td>Self_Employed</td>\n      <td>ApplicantIncome</td>\n      <td>CoapplicantIncome</td>\n      <td>LoanAmount</td>\n      <td>Loan_Amount_Term</td>\n      <td>Credit_History</td>\n      <td>Property_Area</td>\n      <td>Loan_Status</td>\n    </tr>\n    <tr>\n      <th>1</th>\n      <td>LP001954</td>\n      <td>Female</td>\n      <td>Yes</td>\n      <td>1</td>\n      <td>Graduate</td>\n      <td>No</td>\n      <td>4666</td>\n      <td>0</td>\n      <td>4.905274778</td>\n      <td>360</td>\n      <td>1</td>\n      <td>Urban</td>\n      <td>Y</td>\n    </tr>\n    <tr>\n      <th>2</th>\n      <td>LP001401</td>\n      <td>Male</td>\n      <td>Yes</td>\n      <td>1</td>\n      <td>Graduate</td>\n      <td>No</td>\n      <td>14583</td>\n      <td>0</td>\n      <td>5.220355825</td>\n      <td>180</td>\n      <td>1</td>\n      <td>Rural</td>\n      <td>Y</td>\n    </tr>\n    <tr>\n      <th>3</th>\n      <td>LP002004</td>\n      <td>Male</td>\n      <td>No</td>\n      <td>0</td>\n      <td>Not Graduate</td>\n      <td>No</td>\n      <td>2927</td>\n      <td>2405</td>\n      <td>4.709530201</td>\n      <td>360</td>\n      <td>1</td>\n      <td>Semiurban</td>\n      <td>Y</td>\n    </tr>\n    <tr>\n      <th>4</th>\n      <td>LP002305</td>\n      <td>Female</td>\n      <td>No</td>\n      <td>0</td>\n      <td>Graduate</td>\n      <td>No</td>\n      <td>4547</td>\n      <td>0</td>\n      <td>4.744932128</td>\n      <td>360</td>\n      <td>1</td>\n      <td>Semiurban</td>\n      <td>Y</td>\n    </tr>\n  </tbody>\n</table>\n</div>"
     },
     "metadata": {},
     "execution_count": 85
    }
   ],
   "source": [
    "loan_train.head()"
   ]
  },
  {
   "cell_type": "code",
   "execution_count": 86,
   "metadata": {},
   "outputs": [
    {
     "output_type": "execute_result",
     "data": {
      "text/plain": [
       "    Loan ID  Gender Married Dependents     Education Self Employed  \\\n",
       "1  LP001954  Female     Yes          1      Graduate            No   \n",
       "2  LP001401    Male     Yes          1      Graduate            No   \n",
       "3  LP002004    Male      No          0  Not Graduate            No   \n",
       "4  LP002305  Female      No          0      Graduate            No   \n",
       "5  LP002314  Female      No          0  Not Graduate            No   \n",
       "\n",
       "  Applicant Income Co-applicant Income  Loan Amount Loan Amount Term  \\\n",
       "1             4666                   0  4.905274778              360   \n",
       "2            14583                   0  5.220355825              180   \n",
       "3             2927                2405  4.709530201              360   \n",
       "4             4547                   0  4.744932128              360   \n",
       "5             2213                   0  4.189654742              360   \n",
       "\n",
       "  Credit History Property Area Loan Status  \n",
       "1              1         Urban           Y  \n",
       "2              1         Rural           Y  \n",
       "3              1     Semiurban           Y  \n",
       "4              1     Semiurban           Y  \n",
       "5              1         Rural           Y  "
      ],
      "text/html": "<div>\n<style scoped>\n    .dataframe tbody tr th:only-of-type {\n        vertical-align: middle;\n    }\n\n    .dataframe tbody tr th {\n        vertical-align: top;\n    }\n\n    .dataframe thead th {\n        text-align: right;\n    }\n</style>\n<table border=\"1\" class=\"dataframe\">\n  <thead>\n    <tr style=\"text-align: right;\">\n      <th></th>\n      <th>Loan ID</th>\n      <th>Gender</th>\n      <th>Married</th>\n      <th>Dependents</th>\n      <th>Education</th>\n      <th>Self Employed</th>\n      <th>Applicant Income</th>\n      <th>Co-applicant Income</th>\n      <th>Loan Amount</th>\n      <th>Loan Amount Term</th>\n      <th>Credit History</th>\n      <th>Property Area</th>\n      <th>Loan Status</th>\n    </tr>\n  </thead>\n  <tbody>\n    <tr>\n      <th>1</th>\n      <td>LP001954</td>\n      <td>Female</td>\n      <td>Yes</td>\n      <td>1</td>\n      <td>Graduate</td>\n      <td>No</td>\n      <td>4666</td>\n      <td>0</td>\n      <td>4.905274778</td>\n      <td>360</td>\n      <td>1</td>\n      <td>Urban</td>\n      <td>Y</td>\n    </tr>\n    <tr>\n      <th>2</th>\n      <td>LP001401</td>\n      <td>Male</td>\n      <td>Yes</td>\n      <td>1</td>\n      <td>Graduate</td>\n      <td>No</td>\n      <td>14583</td>\n      <td>0</td>\n      <td>5.220355825</td>\n      <td>180</td>\n      <td>1</td>\n      <td>Rural</td>\n      <td>Y</td>\n    </tr>\n    <tr>\n      <th>3</th>\n      <td>LP002004</td>\n      <td>Male</td>\n      <td>No</td>\n      <td>0</td>\n      <td>Not Graduate</td>\n      <td>No</td>\n      <td>2927</td>\n      <td>2405</td>\n      <td>4.709530201</td>\n      <td>360</td>\n      <td>1</td>\n      <td>Semiurban</td>\n      <td>Y</td>\n    </tr>\n    <tr>\n      <th>4</th>\n      <td>LP002305</td>\n      <td>Female</td>\n      <td>No</td>\n      <td>0</td>\n      <td>Graduate</td>\n      <td>No</td>\n      <td>4547</td>\n      <td>0</td>\n      <td>4.744932128</td>\n      <td>360</td>\n      <td>1</td>\n      <td>Semiurban</td>\n      <td>Y</td>\n    </tr>\n    <tr>\n      <th>5</th>\n      <td>LP002314</td>\n      <td>Female</td>\n      <td>No</td>\n      <td>0</td>\n      <td>Not Graduate</td>\n      <td>No</td>\n      <td>2213</td>\n      <td>0</td>\n      <td>4.189654742</td>\n      <td>360</td>\n      <td>1</td>\n      <td>Rural</td>\n      <td>Y</td>\n    </tr>\n  </tbody>\n</table>\n</div>"
     },
     "metadata": {},
     "execution_count": 86
    }
   ],
   "source": [
    "loan_train=loan_train.drop(loan_train.index[0])\n",
    "loan_train.head()"
   ]
  },
  {
   "cell_type": "code",
   "execution_count": 87,
   "metadata": {},
   "outputs": [
    {
     "output_type": "execute_result",
     "data": {
      "text/plain": [
       "Loan ID                0\n",
       "Gender                 0\n",
       "Married                0\n",
       "Dependents             0\n",
       "Education              0\n",
       "Self Employed          0\n",
       "Applicant Income       0\n",
       "Co-applicant Income    0\n",
       "Loan Amount            0\n",
       "Loan Amount Term       0\n",
       "Credit History         0\n",
       "Property Area          0\n",
       "Loan Status            0\n",
       "dtype: int64"
      ]
     },
     "metadata": {},
     "execution_count": 87
    }
   ],
   "source": [
    "loan_train.isnull().sum()"
   ]
  },
  {
   "cell_type": "code",
   "execution_count": 88,
   "metadata": {},
   "outputs": [],
   "source": [
    "loan_test['Gender'].fillna(loan_test['Gender'].mode()[0], inplace=True)\n",
    "loan_test['Married'].fillna(loan_test['Married'].mode()[0], inplace=True)\n",
    "loan_test['Education'].fillna(loan_test['Education'].mode()[0], inplace=True)\n",
    "loan_test['Self Employed'].fillna(loan_test['Self Employed'].mode()[0], inplace=True)\n",
    "loan_test['Property Area'].fillna(loan_test['Property Area'].mode()[0], inplace=True)\n",
    "\n",
    "\n",
    "X_test = np.array(loan_test.iloc[:,1:-1])\n",
    "y_test = loan_test['Loan Status']"
   ]
  },
  {
   "cell_type": "code",
   "execution_count": 89,
   "metadata": {},
   "outputs": [],
   "source": [
    "loan_train['Gender'].fillna(loan_train['Gender'].mode()[0], inplace=True)\n",
    "loan_train['Married'].fillna(loan_train['Married'].mode()[0], inplace=True)\n",
    "loan_train['Education'].fillna(loan_train['Education'].mode()[0], inplace=True)\n",
    "loan_train['Self Employed'].fillna(loan_train['Self Employed'].mode()[0], inplace=True)\n",
    "loan_train['Property Area'].fillna(loan_train['Property Area'].mode()[0], inplace=True)\n",
    "\n",
    "\n",
    "X_train = np.array(loan_train.iloc[:,1:-1])\n",
    "y_train = loan_train['Loan Status']"
   ]
  },
  {
   "cell_type": "code",
   "execution_count": 90,
   "metadata": {},
   "outputs": [],
   "source": [
    "from sklearn.preprocessing import LabelEncoder, OneHotEncoder\n",
    "from sklearn.compose import ColumnTransformer\n",
    "\n",
    "#Label Encoder\n",
    "labelencoder_X = LabelEncoder()\n",
    "\n",
    "#Gender\n",
    "X_train[:,0] = labelencoder_X.fit_transform(X_train[:,0])\n",
    "\n",
    "#Marriage\n",
    "X_train[:,1] = labelencoder_X.fit_transform(X_train[:,1])\n",
    "\n",
    "#Education\n",
    "X_train[:,3] = labelencoder_X.fit_transform(X_train[:,3])\n",
    "\n",
    "#Self-Employed\n",
    "X_train[:,4] = labelencoder_X.fit_transform(X_train[:,4])\n",
    "\n",
    "#Property Value\n",
    "X_train[:,-1] = labelencoder_X.fit_transform(X_train[:,-1])\n",
    "\n",
    "#Variables\n",
    "ct = ColumnTransformer([('encoder', OneHotEncoder(), [0])], remainder='passthrough')\n",
    "X_train = ct.fit_transform(X_train)\n",
    "\n",
    "#onehotencoder = OneHotEncoder(categorical_features = [0])\n",
    "#X_train = onehotencoder.fit_transform(X_train).toarray()"
   ]
  },
  {
   "cell_type": "code",
   "execution_count": 91,
   "metadata": {},
   "outputs": [],
   "source": [
    "from sklearn.preprocessing import LabelEncoder, OneHotEncoder\n",
    "from sklearn.compose import ColumnTransformer\n",
    "\n",
    "#Label Encoder\n",
    "labelencoder_X = LabelEncoder()\n",
    "\n",
    "#Gender\n",
    "X_test[:,0] = labelencoder_X.fit_transform(X_test[:,0])\n",
    "\n",
    "#Marriage\n",
    "X_test[:,1] = labelencoder_X.fit_transform(X_test[:,1])\n",
    "\n",
    "#Education\n",
    "X_test[:,3] = labelencoder_X.fit_transform(X_test[:,3])\n",
    "\n",
    "#Self-Employed\n",
    "X_test[:,4] = labelencoder_X.fit_transform(X_test[:,4])\n",
    "\n",
    "#Property Value\n",
    "X_test[:,-1] = labelencoder_X.fit_transform(X_test[:,-1])\n",
    "\n",
    "#Variables\n",
    "ct = ColumnTransformer([('encoder', OneHotEncoder(), [0])], remainder='passthrough')\n",
    "X_test = ct.fit_transform(X_test)"
   ]
  },
  {
   "cell_type": "code",
   "execution_count": 92,
   "metadata": {},
   "outputs": [],
   "source": [
    "logreg = LogisticRegression()\n",
    "\n",
    "logreg.fit(X_train, y_train)\n",
    "\n",
    "y_pred = logreg.predict(X_test)"
   ]
  },
  {
   "cell_type": "code",
   "execution_count": 93,
   "metadata": {},
   "outputs": [
    {
     "output_type": "stream",
     "name": "stdout",
     "text": [
      "The accuracy on test data is: 0.911504\n"
     ]
    }
   ],
   "source": [
    "accuracy = np.sum(y_pred == y_test) / len(y_test)\n",
    "\n",
    "print(\"%s: %f\" % (\"The accuracy on test data is\", accuracy))"
   ]
  },
  {
   "cell_type": "code",
   "execution_count": 94,
   "metadata": {},
   "outputs": [
    {
     "output_type": "stream",
     "name": "stdout",
     "text": [
      "X=[1.0 0.0 1 '1' 0 0 '4666' '0' '4.905274778' '360' '1' 2], Predicted=Y\nX=[0.0 1.0 1 '1' 0 0 '14583' '0' '5.220355825' '180' '1' 0], Predicted=Y\nX=[0.0 1.0 0 '0' 1 0 '2927' '2405' '4.709530201' '360' '1' 1], Predicted=Y\nX=[1.0 0.0 0 '0' 0 0 '4547' '0' '4.744932128' '360' '1' 1], Predicted=Y\nX=[1.0 0.0 0 '0' 1 0 '2213' '0' '4.189654742' '360' '1' 0], Predicted=Y\nX=[0.0 1.0 0 '0' 0 1 '6950' '0' '5.164785974' '180' '1' 1], Predicted=Y\nX=[0.0 1.0 0 '0' 0 0 '2500' '0' '4.007333185' '360' '1' 1], Predicted=Y\nX=[0.0 1.0 1 '2' 0 0 '3159' '461' '4.682131227' '84' '1' 2], Predicted=Y\nX=[0.0 1.0 1 '0' 1 1 '4344' '736' '4.465908119' '360' '1' 1], Predicted=Y\nX=[0.0 1.0 1 '0' 0 0 '3887' '2669' '5.087596335' '360' '1' 1], Predicted=Y\nX=[0.0 1.0 1 '0' 0 0 '3927' '800' '4.718498871' '360' '1' 1], Predicted=Y\nX=[0.0 1.0 1 '3' 0 0 '5167' '3167' '5.298317367' '360' '1' 1], Predicted=Y\nX=[0.0 1.0 0 '0' 0 0 '12000' '0' '5.099866428' '360' '1' 1], Predicted=Y\nX=[0.0 1.0 0 '0' 1 0 '7333' '0' '4.787491743' '360' '1' 0], Predicted=Y\nX=[0.0 1.0 1 '0' 1 1 '2609' '3449' '5.105945474' '180' '0' 0], Predicted=Y\nX=[0.0 1.0 1 '0' 0 0 '5116' '1451' '5.105945474' '360' '0' 2], Predicted=Y\nX=[0.0 1.0 0 '0' 0 0 '4166' '7210' '5.214935758' '360' '1' 2], Predicted=Y\nX=[0.0 1.0 1 '1' 0 1 '7787' '0' '5.480638923' '360' '1' 2], Predicted=Y\nX=[0.0 1.0 1 '2' 0 0 '4865' '5624' '5.33753808' '360' '1' 1], Predicted=Y\nX=[0.0 1.0 1 '1' 1 0 '2661' '7101' '5.631211782' '180' '1' 1], Predicted=Y\nX=[0.0 1.0 1 '0' 0 0 '2221' '0' '4.094344562' '360' '0' 2], Predicted=Y\nX=[0.0 1.0 0 '0' 1 0 '3691' '0' '4.700480366' '360' '1' 0], Predicted=Y\nX=[0.0 1.0 1 '0' 0 0 '10833' '0' '5.455321115' '360' '1' 1], Predicted=Y\nX=[0.0 1.0 1 '1' 0 1 '2395' '0' '4.852030264' '360' '1' 1], Predicted=Y\nX=[0.0 1.0 0 '0' 0 0 '5849' '0' '4.852030264' '360' '1' 2], Predicted=Y\nX=[1.0 0.0 0 '0' 0 0 '5417' '0' '4.96284463' '480' '0' 2], Predicted=Y\nX=[1.0 0.0 0 '2' 0 0 '3750' '2083' '4.787491743' '360' '1' 1], Predicted=Y\nX=[0.0 1.0 1 '1' 0 0 '6400' '7250' '5.192956851' '360' '0' 2], Predicted=Y\nX=[0.0 1.0 1 '0' 1 0 '3572' '4114' '5.023880521' '360' '0' 0], Predicted=Y\nX=[0.0 1.0 1 '0' 0 0 '3707' '3166' '5.204006687' '360' '1' 0], Predicted=Y\nX=[1.0 0.0 1 '2' 0 0 '1378' '1881' '5.117993812' '360' '1' 2], Predicted=Y\nX=[0.0 1.0 1 '0' 0 0 '2297' '1522' '4.644390899' '360' '1' 2], Predicted=N\nX=[0.0 1.0 0 '0' 1 0 '2699' '2785' '4.564348191' '360' '1' 1], Predicted=Y\nX=[0.0 1.0 0 '2' 0 0 '4923' '0' '5.111987788' '360' '0' 1], Predicted=Y\nX=[0.0 1.0 1 '0' 0 0 '3015' '2188' '5.030437921' '360' '1' 0], Predicted=N\nX=[0.0 1.0 1 '1' 0 0 '9538' '0' '5.231108617' '360' '1' 2], Predicted=Y\nX=[0.0 1.0 1 '2' 0 0 '2500' '1840' '4.691347882' '360' '1' 2], Predicted=Y\nX=[0.0 1.0 1 '0' 0 0 '2620' '2223' '5.010635294' '360' '1' 1], Predicted=Y\nX=[0.0 1.0 1 '1' 1 0 '2600' '2500' '4.49980967' '360' '1' 1], Predicted=Y\nX=[1.0 0.0 0 '0' 0 0 '2507' '0' '4.025351691' '360' '1' 0], Predicted=Y\nX=[1.0 0.0 0 '0' 0 0 '4160' '0' '4.262679877' '360' '1' 1], Predicted=Y\nX=[0.0 1.0 1 '1' 0 0 '6325' '0' '5.164785974' '360' '1' 1], Predicted=Y\nX=[0.0 1.0 0 '1' 1 0 '2679' '1302' '4.543294782' '360' '1' 1], Predicted=Y\nX=[0.0 1.0 1 '3' 0 0 '5250' '0' '4.543294782' '360' '1' 2], Predicted=Y\nX=[0.0 1.0 1 '1' 0 0 '3315' '0' '4.564348191' '360' '1' 1], Predicted=Y\nX=[0.0 1.0 1 '3' 1 0 '2071' '754' '4.543294782' '480' '1' 1], Predicted=Y\nX=[0.0 1.0 1 '2' 0 0 '3510' '4416' '5.493061443' '360' '1' 0], Predicted=Y\nX=[0.0 1.0 1 '3' 0 0 '7740' '0' '4.852030264' '180' '1' 2], Predicted=Y\nX=[0.0 1.0 1 '1' 0 0 '3155' '1779' '4.941642423' '360' '1' 1], Predicted=Y\nX=[0.0 1.0 1 '2' 0 0 '2873' '1872' '4.882801923' '360' '0' 1], Predicted=Y\nX=[0.0 1.0 1 '2' 0 0 '11417' '1126' '5.416100402' '360' '1' 2], Predicted=Y\nX=[0.0 1.0 1 '0' 0 0 '14683' '2100' '5.717027701' '360' '1' 0], Predicted=Y\nX=[0.0 1.0 1 '2' 0 0 '2301' '985.7999878' '4.356708827' '180' '1' 2], Predicted=Y\nX=[0.0 1.0 1 '0' 0 0 '3816' '754' '5.075173815' '360' '1' 2], Predicted=Y\nX=[1.0 0.0 0 '2' 0 0 '3427' '0' '4.927253685' '360' '1' 2], Predicted=N\nX=[0.0 1.0 1 '0' 0 0 '4817' '923' '4.787491743' '180' '1' 2], Predicted=Y\nX=[0.0 1.0 1 '1' 0 0 '2787' '1917' '4.983606622' '360' '0' 0], Predicted=Y\nX=[0.0 1.0 1 '2' 0 0 '1299' '1086' '2.833213344' '120' '1' 2], Predicted=Y\nX=[1.0 0.0 0 '0' 0 0 '8333' '0' '5.634789603' '360' '1' 1], Predicted=Y\nX=[0.0 1.0 0 '0' 0 0 '3254' '0' '3.912023005' '360' '1' 2], Predicted=N\nX=[1.0 0.0 0 '1' 1 1 '3867' '0' '4.127134385' '360' '1' 1], Predicted=N\nX=[0.0 1.0 1 '3' 0 0 '6417' '0' '5.056245805' '180' '1' 0], Predicted=Y\nX=[0.0 1.0 1 '0' 0 0 '2600' '3500' '4.744932128' '360' '1' 2], Predicted=Y\nX=[0.0 1.0 1 '3' 0 0 '4333' '1811' '5.075173815' '360' '0' 2], Predicted=Y\nX=[0.0 1.0 0 '0' 0 0 '9166' '0' '5.497168225' '360' '1' 2], Predicted=N\nX=[0.0 1.0 0 '0' 0 0 '5316' '0' '4.912654886' '360' '1' 2], Predicted=Y\nX=[0.0 1.0 1 '1' 1 0 '4050' '5302' '4.927253685' '360' '1' 0], Predicted=Y\nX=[0.0 1.0 0 '0' 0 0 '4950' '0' '4.828313737' '360' '1' 2], Predicted=Y\nX=[0.0 1.0 1 '0' 0 0 '2799' '2253' '4.804021045' '360' '1' 1], Predicted=N\nX=[0.0 1.0 1 '0' 0 0 '3775' '0' '4.700480366' '360' '1' 1], Predicted=N\nX=[0.0 1.0 1 '2' 1 0 '3083' '2168' '4.836281907' '360' '1' 2], Predicted=Y\nX=[0.0 1.0 1 '0' 0 1 '39147' '4750' '4.787491743' '360' '1' 1], Predicted=Y\nX=[0.0 1.0 1 '1' 0 0 '33846' '0' '5.560681631' '360' '1' 1], Predicted=Y\nX=[0.0 1.0 1 '0' 1 0 '2454' '2333' '5.198497031' '360' '0' 2], Predicted=N\nX=[0.0 1.0 1 '0' 0 1 '2577' '3750' '5.023880521' '360' '1' 0], Predicted=Y\nX=[0.0 1.0 1 '3' 1 1 '3333' '2166' '4.86753445' '360' '1' 1], Predicted=N\nX=[1.0 0.0 0 '0' 0 0 '4230' '0' '4.718498871' '360' '1' 1], Predicted=Y\nX=[0.0 1.0 1 '2' 1 0 '2192' '1742' '3.80666249' '360' '1' 1], Predicted=Y\nX=[0.0 1.0 1 '0' 0 0 '2583' '2115' '4.787491743' '360' '1' 2], Predicted=N\nX=[0.0 1.0 1 '1' 1 0 '3500' '1083' '4.905274778' '360' '1' 2], Predicted=Y\nX=[0.0 1.0 0 '0' 0 0 '2833' '1857' '4.836281907' '360' '1' 0], Predicted=N\nX=[0.0 1.0 1 '0' 1 0 '1820' '1769' '4.553876892' '360' '1' 0], Predicted=N\nX=[0.0 1.0 1 '2' 0 0 '3717' '0' '4.787491743' '360' '1' 1], Predicted=Y\nX=[0.0 1.0 0 '0' 0 1 '16250' '0' '5.257495372' '360' '0' 2], Predicted=Y\nX=[0.0 1.0 1 '2' 0 0 '2957' '0' '4.394449155' '360' '1' 1], Predicted=Y\nX=[0.0 1.0 0 '0' 1 0 '2755' '0' '4.17438727' '300' '1' 0], Predicted=Y\nX=[0.0 1.0 1 '0' 1 0 '2600' '1911' '4.753590191' '360' '0' 1], Predicted=N\nX=[0.0 1.0 0 '0' 0 0 '4750' '0' '4.543294782' '360' '1' 1], Predicted=Y\nX=[0.0 1.0 0 '0' 0 0 '2965' '5701' '5.043425117' '60' '1' 2], Predicted=Y\nX=[0.0 1.0 1 '1' 1 0 '5333' '1131' '5.225746674' '360' '1' 2], Predicted=Y\nX=[1.0 0.0 1 '0' 1 1 '7142' '0' '4.927253685' '360' '1' 0], Predicted=Y\nX=[0.0 1.0 1 '1' 0 0 '3875' '0' '4.204692619' '360' '1' 2], Predicted=Y\nX=[0.0 1.0 1 '0' 0 0 '3173' '3021' '4.919980926' '360' '1' 2], Predicted=Y\nX=[0.0 1.0 1 '0' 0 0 '11146' '0' '4.912654886' '360' '1' 2], Predicted=Y\nX=[0.0 1.0 1 '0' 0 0 '3366' '2200' '4.905274778' '360' '1' 0], Predicted=Y\nX=[0.0 1.0 1 '2' 0 1 '7948' '7166' '6.173786104' '360' '1' 0], Predicted=Y\nX=[0.0 1.0 1 '2' 0 0 '2708' '1167' '4.574710979' '360' '1' 1], Predicted=Y\nX=[0.0 1.0 1 '3' 0 0 '23803' '0' '5.913503006' '360' '1' 0], Predicted=Y\nX=[1.0 0.0 1 '1' 0 0 '4608' '2845' '4.941642423' '180' '1' 1], Predicted=Y\nX=[0.0 1.0 1 '3' 0 0 '81000' '0' '5.886104031' '360' '0' 0], Predicted=Y\nX=[0.0 1.0 1 '0' 0 0 '1820' '1719' '4.605170186' '360' '1' 2], Predicted=Y\nX=[0.0 1.0 1 '1' 0 0 '2882' '1843' '4.812184355' '480' '1' 1], Predicted=Y\nX=[1.0 0.0 0 '0' 0 0 '5000' '0' '4.882801923' '360' '1' 0], Predicted=Y\nX=[0.0 1.0 0 '0' 0 0 '3418' '0' '4.844187086' '360' '1' 1], Predicted=Y\nX=[0.0 1.0 1 '1' 0 1 '8666' '4983' '5.929589143' '360' '0' 0], Predicted=N\nX=[0.0 1.0 1 '0' 1 0 '3074' '1800' '4.812184355' '360' '0' 1], Predicted=Y\nX=[0.0 1.0 1 '1' 0 1 '2895' '0' '4.553876892' '360' '1' 1], Predicted=Y\nX=[0.0 1.0 0 '0' 0 1 '6050' '4333' '4.787491743' '180' '1' 2], Predicted=Y\nX=[0.0 1.0 1 '1' 0 1 '10000' '0' '5.043425117' '360' '1' 0], Predicted=Y\nX=[1.0 0.0 1 '1' 0 1 '11500' '0' '5.655991811' '360' '0' 2], Predicted=Y\nX=[0.0 1.0 1 '3' 0 0 '3430' '1250' '4.852030264' '360' '0' 1], Predicted=Y\nX=[0.0 1.0 1 '1' 0 0 '1625' '1803' '4.564348191' '360' '1' 2], Predicted=Y\nX=[1.0 0.0 0 '3' 0 0 '3083' '0' '5.541263545' '360' '1' 0], Predicted=N\n"
     ]
    }
   ],
   "source": [
    "for i in range(len(y_pred)):\n",
    "\tprint(\"X=%s, Predicted=%s\" % (X_train[i], y_pred[i]))"
   ]
  }
 ],
 "metadata": {
  "kernelspec": {
   "display_name": "Python 3",
   "language": "python",
   "name": "python3"
  },
  "language_info": {
   "codemirror_mode": {
    "name": "ipython",
    "version": 3
   },
   "file_extension": ".py",
   "mimetype": "text/x-python",
   "name": "python",
   "nbconvert_exporter": "python",
   "pygments_lexer": "ipython3",
   "version": "3.8.3-final"
  }
 },
 "nbformat": 4,
 "nbformat_minor": 2
}