{
 "metadata": {
  "language_info": {
   "codemirror_mode": {
    "name": "ipython",
    "version": 3
   },
   "file_extension": ".py",
   "mimetype": "text/x-python",
   "name": "python",
   "nbconvert_exporter": "python",
   "pygments_lexer": "ipython3",
   "version": "3.7.9-final"
  },
  "orig_nbformat": 2,
  "kernelspec": {
   "name": "Python 3.7.9 64-bit ('Python 37 Anaconda': conda)",
   "display_name": "Python 3.7.9 64-bit ('Python 37 Anaconda': conda)",
   "metadata": {
    "interpreter": {
     "hash": "67efbfe733ab373187d9f14648bd4e9c3d9501b513dd6ef959e7087828da832d"
    }
   }
  }
 },
 "nbformat": 4,
 "nbformat_minor": 2,
 "cells": [
  {
   "cell_type": "code",
   "execution_count": 86,
   "metadata": {},
   "outputs": [],
   "source": [
    "from keras.models import Sequential \n",
    "from keras.layers import Dense\n",
    "import matplotlib.pyplot as plt  \n",
    "import pandas as pd\n",
    "import numpy as np"
   ]
  },
  {
   "cell_type": "code",
   "execution_count": 87,
   "metadata": {},
   "outputs": [],
   "source": [
    "col_names = ['Loan ID', 'Gender', 'Married', 'Dependents', 'Education', 'Self Employed', 'Applicant Income', 'Co-applicant Income', 'Loan Amount', 'Loan Amount Term', 'Credit History', 'Property Area', 'Loan Status']\n",
    "\n",
    "loan_test = pd.read_csv(\"loan_test.csv\", header=None, names=col_names)\n",
    "loan_train = pd.read_csv(\"loan_train.csv\", header=None, names=col_names)"
   ]
  },
  {
   "cell_type": "code",
   "execution_count": 88,
   "metadata": {},
   "outputs": [],
   "source": [
    "loan_test=loan_test.drop(loan_test.index[0])"
   ]
  },
  {
   "cell_type": "code",
   "execution_count": 89,
   "metadata": {},
   "outputs": [],
   "source": [
    "loan_train=loan_train.drop(loan_train.index[0])"
   ]
  },
  {
   "cell_type": "code",
   "execution_count": 90,
   "metadata": {},
   "outputs": [
    {
     "output_type": "execute_result",
     "data": {
      "text/plain": [
       "    Loan ID Gender Married Dependents     Education Self Employed  \\\n",
       "1  LP001008   Male      No          0      Graduate            No   \n",
       "2  LP001011   Male     Yes          2      Graduate           Yes   \n",
       "3  LP001013   Male     Yes          0  Not Graduate            No   \n",
       "4  LP001024   Male     Yes          2      Graduate            No   \n",
       "5  LP001028   Male     Yes          2      Graduate            No   \n",
       "\n",
       "  Applicant Income Co-applicant Income  Loan Amount Loan Amount Term  \\\n",
       "1             6000                   0   4.94875989              360   \n",
       "2             5417                4196  5.587248658              360   \n",
       "3             2333                1516  4.553876892              360   \n",
       "4             3200                 700  4.248495242              360   \n",
       "5             3073                8106  5.298317367              360   \n",
       "\n",
       "  Credit History Property Area Loan Status  \n",
       "1              1         Urban           Y  \n",
       "2              1         Urban           Y  \n",
       "3              1         Urban           Y  \n",
       "4              1         Urban           Y  \n",
       "5              1         Urban           Y  "
      ],
      "text/html": "<div>\n<style scoped>\n    .dataframe tbody tr th:only-of-type {\n        vertical-align: middle;\n    }\n\n    .dataframe tbody tr th {\n        vertical-align: top;\n    }\n\n    .dataframe thead th {\n        text-align: right;\n    }\n</style>\n<table border=\"1\" class=\"dataframe\">\n  <thead>\n    <tr style=\"text-align: right;\">\n      <th></th>\n      <th>Loan ID</th>\n      <th>Gender</th>\n      <th>Married</th>\n      <th>Dependents</th>\n      <th>Education</th>\n      <th>Self Employed</th>\n      <th>Applicant Income</th>\n      <th>Co-applicant Income</th>\n      <th>Loan Amount</th>\n      <th>Loan Amount Term</th>\n      <th>Credit History</th>\n      <th>Property Area</th>\n      <th>Loan Status</th>\n    </tr>\n  </thead>\n  <tbody>\n    <tr>\n      <th>1</th>\n      <td>LP001008</td>\n      <td>Male</td>\n      <td>No</td>\n      <td>0</td>\n      <td>Graduate</td>\n      <td>No</td>\n      <td>6000</td>\n      <td>0</td>\n      <td>4.94875989</td>\n      <td>360</td>\n      <td>1</td>\n      <td>Urban</td>\n      <td>Y</td>\n    </tr>\n    <tr>\n      <th>2</th>\n      <td>LP001011</td>\n      <td>Male</td>\n      <td>Yes</td>\n      <td>2</td>\n      <td>Graduate</td>\n      <td>Yes</td>\n      <td>5417</td>\n      <td>4196</td>\n      <td>5.587248658</td>\n      <td>360</td>\n      <td>1</td>\n      <td>Urban</td>\n      <td>Y</td>\n    </tr>\n    <tr>\n      <th>3</th>\n      <td>LP001013</td>\n      <td>Male</td>\n      <td>Yes</td>\n      <td>0</td>\n      <td>Not Graduate</td>\n      <td>No</td>\n      <td>2333</td>\n      <td>1516</td>\n      <td>4.553876892</td>\n      <td>360</td>\n      <td>1</td>\n      <td>Urban</td>\n      <td>Y</td>\n    </tr>\n    <tr>\n      <th>4</th>\n      <td>LP001024</td>\n      <td>Male</td>\n      <td>Yes</td>\n      <td>2</td>\n      <td>Graduate</td>\n      <td>No</td>\n      <td>3200</td>\n      <td>700</td>\n      <td>4.248495242</td>\n      <td>360</td>\n      <td>1</td>\n      <td>Urban</td>\n      <td>Y</td>\n    </tr>\n    <tr>\n      <th>5</th>\n      <td>LP001028</td>\n      <td>Male</td>\n      <td>Yes</td>\n      <td>2</td>\n      <td>Graduate</td>\n      <td>No</td>\n      <td>3073</td>\n      <td>8106</td>\n      <td>5.298317367</td>\n      <td>360</td>\n      <td>1</td>\n      <td>Urban</td>\n      <td>Y</td>\n    </tr>\n  </tbody>\n</table>\n</div>"
     },
     "metadata": {},
     "execution_count": 90
    }
   ],
   "source": [
    "loan_test.head()"
   ]
  },
  {
   "cell_type": "code",
   "execution_count": 91,
   "metadata": {},
   "outputs": [
    {
     "output_type": "execute_result",
     "data": {
      "text/plain": [
       "    Loan ID  Gender Married Dependents     Education Self Employed  \\\n",
       "1  LP001954  Female     Yes          1      Graduate            No   \n",
       "2  LP001401    Male     Yes          1      Graduate            No   \n",
       "3  LP002004    Male      No          0  Not Graduate            No   \n",
       "4  LP002305  Female      No          0      Graduate            No   \n",
       "5  LP002314  Female      No          0  Not Graduate            No   \n",
       "\n",
       "  Applicant Income Co-applicant Income  Loan Amount Loan Amount Term  \\\n",
       "1             4666                   0  4.905274778              360   \n",
       "2            14583                   0  5.220355825              180   \n",
       "3             2927                2405  4.709530201              360   \n",
       "4             4547                   0  4.744932128              360   \n",
       "5             2213                   0  4.189654742              360   \n",
       "\n",
       "  Credit History Property Area Loan Status  \n",
       "1              1         Urban           Y  \n",
       "2              1         Rural           Y  \n",
       "3              1     Semiurban           Y  \n",
       "4              1     Semiurban           Y  \n",
       "5              1         Rural           Y  "
      ],
      "text/html": "<div>\n<style scoped>\n    .dataframe tbody tr th:only-of-type {\n        vertical-align: middle;\n    }\n\n    .dataframe tbody tr th {\n        vertical-align: top;\n    }\n\n    .dataframe thead th {\n        text-align: right;\n    }\n</style>\n<table border=\"1\" class=\"dataframe\">\n  <thead>\n    <tr style=\"text-align: right;\">\n      <th></th>\n      <th>Loan ID</th>\n      <th>Gender</th>\n      <th>Married</th>\n      <th>Dependents</th>\n      <th>Education</th>\n      <th>Self Employed</th>\n      <th>Applicant Income</th>\n      <th>Co-applicant Income</th>\n      <th>Loan Amount</th>\n      <th>Loan Amount Term</th>\n      <th>Credit History</th>\n      <th>Property Area</th>\n      <th>Loan Status</th>\n    </tr>\n  </thead>\n  <tbody>\n    <tr>\n      <th>1</th>\n      <td>LP001954</td>\n      <td>Female</td>\n      <td>Yes</td>\n      <td>1</td>\n      <td>Graduate</td>\n      <td>No</td>\n      <td>4666</td>\n      <td>0</td>\n      <td>4.905274778</td>\n      <td>360</td>\n      <td>1</td>\n      <td>Urban</td>\n      <td>Y</td>\n    </tr>\n    <tr>\n      <th>2</th>\n      <td>LP001401</td>\n      <td>Male</td>\n      <td>Yes</td>\n      <td>1</td>\n      <td>Graduate</td>\n      <td>No</td>\n      <td>14583</td>\n      <td>0</td>\n      <td>5.220355825</td>\n      <td>180</td>\n      <td>1</td>\n      <td>Rural</td>\n      <td>Y</td>\n    </tr>\n    <tr>\n      <th>3</th>\n      <td>LP002004</td>\n      <td>Male</td>\n      <td>No</td>\n      <td>0</td>\n      <td>Not Graduate</td>\n      <td>No</td>\n      <td>2927</td>\n      <td>2405</td>\n      <td>4.709530201</td>\n      <td>360</td>\n      <td>1</td>\n      <td>Semiurban</td>\n      <td>Y</td>\n    </tr>\n    <tr>\n      <th>4</th>\n      <td>LP002305</td>\n      <td>Female</td>\n      <td>No</td>\n      <td>0</td>\n      <td>Graduate</td>\n      <td>No</td>\n      <td>4547</td>\n      <td>0</td>\n      <td>4.744932128</td>\n      <td>360</td>\n      <td>1</td>\n      <td>Semiurban</td>\n      <td>Y</td>\n    </tr>\n    <tr>\n      <th>5</th>\n      <td>LP002314</td>\n      <td>Female</td>\n      <td>No</td>\n      <td>0</td>\n      <td>Not Graduate</td>\n      <td>No</td>\n      <td>2213</td>\n      <td>0</td>\n      <td>4.189654742</td>\n      <td>360</td>\n      <td>1</td>\n      <td>Rural</td>\n      <td>Y</td>\n    </tr>\n  </tbody>\n</table>\n</div>"
     },
     "metadata": {},
     "execution_count": 91
    }
   ],
   "source": [
    "loan_train.head()"
   ]
  },
  {
   "cell_type": "code",
   "execution_count": 92,
   "metadata": {},
   "outputs": [],
   "source": [
    "#y = loan_test[0]\n",
    "#X = loan_train(0, axis = 1)"
   ]
  },
  {
   "cell_type": "code",
   "execution_count": 93,
   "metadata": {},
   "outputs": [],
   "source": [
    "#from sklearn.preprocessing import MinMaxScaler\n",
    "#scalar = MinMaxScaler()\n",
    "#scalar.fit(X_test)\n",
    "#X_train = scalar.transform(X_train)"
   ]
  },
  {
   "cell_type": "code",
   "execution_count": 94,
   "metadata": {},
   "outputs": [],
   "source": [
    "loan_test['Gender'].fillna(loan_test['Gender'].mode()[0], inplace=True)\n",
    "loan_test['Married'].fillna(loan_test['Married'].mode()[0], inplace=True)\n",
    "loan_test['Education'].fillna(loan_test['Education'].mode()[0], inplace=True)\n",
    "loan_test['Self Employed'].fillna(loan_test['Self Employed'].mode()[0], inplace=True)\n",
    "loan_test['Property Area'].fillna(loan_test['Property Area'].mode()[0], inplace=True)\n",
    "\n",
    "\n",
    "X_test = np.array(loan_test.iloc[:,1:-1])\n",
    "y_test = loan_test['Loan Status']"
   ]
  },
  {
   "cell_type": "code",
   "execution_count": 95,
   "metadata": {},
   "outputs": [],
   "source": [
    "loan_train['Gender'].fillna(loan_train['Gender'].mode()[0], inplace=True)\n",
    "loan_train['Married'].fillna(loan_train['Married'].mode()[0], inplace=True)\n",
    "loan_train['Education'].fillna(loan_train['Education'].mode()[0], inplace=True)\n",
    "loan_train['Self Employed'].fillna(loan_train['Self Employed'].mode()[0], inplace=True)\n",
    "loan_train['Property Area'].fillna(loan_train['Property Area'].mode()[0], inplace=True)\n",
    "\n",
    "\n",
    "X_train = np.array(loan_train.iloc[:,1:-1])\n",
    "y_train = loan_train['Loan Status']"
   ]
  },
  {
   "cell_type": "code",
   "execution_count": 96,
   "metadata": {},
   "outputs": [
    {
     "output_type": "execute_result",
     "data": {
      "text/plain": [
       "(491, 11)"
      ]
     },
     "metadata": {},
     "execution_count": 96
    }
   ],
   "source": [
    "X_train.shape"
   ]
  },
  {
   "cell_type": "code",
   "execution_count": 97,
   "metadata": {},
   "outputs": [],
   "source": [
    "from sklearn.preprocessing import LabelEncoder, OneHotEncoder\n",
    "from sklearn.compose import ColumnTransformer\n",
    "\n",
    "#Label Encoder\n",
    "labelencoder_X = LabelEncoder()\n",
    "\n",
    "#Gender\n",
    "X_train[:,0] = labelencoder_X.fit_transform(X_train[:,0])\n",
    "\n",
    "#Marriage\n",
    "X_train[:,1] = labelencoder_X.fit_transform(X_train[:,1])\n",
    "\n",
    "#Education\n",
    "X_train[:,3] = labelencoder_X.fit_transform(X_train[:,3])\n",
    "\n",
    "#Self-Employed\n",
    "X_train[:,4] = labelencoder_X.fit_transform(X_train[:,4])\n",
    "\n",
    "#Property Value\n",
    "X_train[:,-1] = labelencoder_X.fit_transform(X_train[:,-1])\n",
    "\n",
    "#Variables\n",
    "ct = ColumnTransformer([('encoder', OneHotEncoder(), [0])], remainder='passthrough')\n",
    "X_train = ct.fit_transform(X_train)"
   ]
  },
  {
   "cell_type": "code",
   "execution_count": 98,
   "metadata": {},
   "outputs": [],
   "source": [
    "from sklearn.preprocessing import LabelEncoder, OneHotEncoder\n",
    "from sklearn.compose import ColumnTransformer\n",
    "\n",
    "#Label Encoder\n",
    "labelencoder_X = LabelEncoder()\n",
    "\n",
    "#Gender\n",
    "X_test[:,0] = labelencoder_X.fit_transform(X_test[:,0])\n",
    "\n",
    "#Marriage\n",
    "X_test[:,1] = labelencoder_X.fit_transform(X_test[:,1])\n",
    "\n",
    "#Education\n",
    "X_test[:,3] = labelencoder_X.fit_transform(X_test[:,3])\n",
    "\n",
    "#Self-Employed\n",
    "X_test[:,4] = labelencoder_X.fit_transform(X_test[:,4])\n",
    "\n",
    "#Property Value\n",
    "X_test[:,-1] = labelencoder_X.fit_transform(X_test[:,-1])\n",
    "\n",
    "#Variables\n",
    "ct = ColumnTransformer([('encoder', OneHotEncoder(), [0])], remainder='passthrough')\n",
    "X_test = ct.fit_transform(X_test)"
   ]
  },
  {
   "cell_type": "code",
   "execution_count": 99,
   "metadata": {},
   "outputs": [],
   "source": [
    "y_test = labelencoder_X.fit_transform(y_test)"
   ]
  },
  {
   "cell_type": "code",
   "execution_count": 100,
   "metadata": {},
   "outputs": [],
   "source": [
    "y_train = labelencoder_X.fit_transform(y_train)"
   ]
  },
  {
   "cell_type": "code",
   "execution_count": 101,
   "metadata": {},
   "outputs": [],
   "source": [
    "model = Sequential()\n",
    "model.add(Dense(12, input_dim=12, activation='relu'))\n",
    "model.add(Dense(10, activation='relu'))\n",
    "model.add(Dense(8, activation='relu'))\n",
    "model.add(Dense(5, activation='relu'))\n",
    "model.add(Dense(1, activation='sigmoid'))"
   ]
  },
  {
   "cell_type": "code",
   "execution_count": 102,
   "metadata": {},
   "outputs": [],
   "source": [
    "model.compile(loss='binary_crossentropy', optimizer='adam', metrics=['accuracy'])\n",
    "#model.compile(loss='categorical_crossentropy', optimizer='adam', metrics=['accuracy'])"
   ]
  },
  {
   "cell_type": "code",
   "execution_count": 103,
   "metadata": {},
   "outputs": [
    {
     "output_type": "stream",
     "name": "stdout",
     "text": [
      "Model: \"sequential_3\"\n_________________________________________________________________\nLayer (type)                 Output Shape              Param #   \n=================================================================\ndense_11 (Dense)             (None, 12)                156       \n_________________________________________________________________\ndense_12 (Dense)             (None, 10)                130       \n_________________________________________________________________\ndense_13 (Dense)             (None, 8)                 88        \n_________________________________________________________________\ndense_14 (Dense)             (None, 5)                 45        \n_________________________________________________________________\ndense_15 (Dense)             (None, 1)                 6         \n=================================================================\nTotal params: 425\nTrainable params: 425\nNon-trainable params: 0\n_________________________________________________________________\n"
     ]
    }
   ],
   "source": [
    "model.summary()"
   ]
  },
  {
   "cell_type": "code",
   "execution_count": 104,
   "metadata": {
    "tags": [
     "outputPrepend"
    ]
   },
   "outputs": [
    {
     "output_type": "stream",
     "name": "stdout",
     "text": [
      "- 0s 312us/step - loss: 0.6172 - accuracy: 0.6925\n",
      "Epoch 111/300\n",
      "491/491 [==============================] - 0s 319us/step - loss: 0.6172 - accuracy: 0.6925\n",
      "Epoch 112/300\n",
      "491/491 [==============================] - 0s 301us/step - loss: 0.6172 - accuracy: 0.6925\n",
      "Epoch 113/300\n",
      "491/491 [==============================] - 0s 350us/step - loss: 0.6172 - accuracy: 0.6925\n",
      "Epoch 114/300\n",
      "491/491 [==============================] - 0s 319us/step - loss: 0.6171 - accuracy: 0.6925\n",
      "Epoch 115/300\n",
      "491/491 [==============================] - 0s 308us/step - loss: 0.6172 - accuracy: 0.6925\n",
      "Epoch 116/300\n",
      "491/491 [==============================] - 0s 309us/step - loss: 0.6172 - accuracy: 0.6925\n",
      "Epoch 117/300\n",
      "491/491 [==============================] - 0s 313us/step - loss: 0.6172 - accuracy: 0.6925\n",
      "Epoch 118/300\n",
      "491/491 [==============================] - 0s 297us/step - loss: 0.6172 - accuracy: 0.6925\n",
      "Epoch 119/300\n",
      "491/491 [==============================] - 0s 310us/step - loss: 0.6171 - accuracy: 0.6925\n",
      "Epoch 120/300\n",
      "491/491 [==============================] - 0s 312us/step - loss: 0.6172 - accuracy: 0.6925\n",
      "Epoch 121/300\n",
      "491/491 [==============================] - 0s 312us/step - loss: 0.6172 - accuracy: 0.6925\n",
      "Epoch 122/300\n",
      "491/491 [==============================] - 0s 362us/step - loss: 0.6172 - accuracy: 0.6925\n",
      "Epoch 123/300\n",
      "491/491 [==============================] - 0s 312us/step - loss: 0.6171 - accuracy: 0.6925\n",
      "Epoch 124/300\n",
      "491/491 [==============================] - 0s 340us/step - loss: 0.6172 - accuracy: 0.6925\n",
      "Epoch 125/300\n",
      "491/491 [==============================] - 0s 348us/step - loss: 0.6171 - accuracy: 0.6925\n",
      "Epoch 126/300\n",
      "491/491 [==============================] - 0s 352us/step - loss: 0.6171 - accuracy: 0.6925\n",
      "Epoch 127/300\n",
      "491/491 [==============================] - 0s 353us/step - loss: 0.6172 - accuracy: 0.6925\n",
      "Epoch 128/300\n",
      "491/491 [==============================] - 0s 350us/step - loss: 0.6172 - accuracy: 0.6925\n",
      "Epoch 129/300\n",
      "491/491 [==============================] - 0s 346us/step - loss: 0.6172 - accuracy: 0.6925\n",
      "Epoch 130/300\n",
      "491/491 [==============================] - 0s 358us/step - loss: 0.6171 - accuracy: 0.6925\n",
      "Epoch 131/300\n",
      "491/491 [==============================] - 0s 352us/step - loss: 0.6171 - accuracy: 0.6925\n",
      "Epoch 132/300\n",
      "491/491 [==============================] - 0s 369us/step - loss: 0.6172 - accuracy: 0.6925\n",
      "Epoch 133/300\n",
      "491/491 [==============================] - 0s 332us/step - loss: 0.6172 - accuracy: 0.6925\n",
      "Epoch 134/300\n",
      "491/491 [==============================] - 0s 346us/step - loss: 0.6171 - accuracy: 0.6925\n",
      "Epoch 135/300\n",
      "491/491 [==============================] - 0s 322us/step - loss: 0.6172 - accuracy: 0.6925\n",
      "Epoch 136/300\n",
      "491/491 [==============================] - 0s 358us/step - loss: 0.6172 - accuracy: 0.6925\n",
      "Epoch 137/300\n",
      "491/491 [==============================] - 0s 318us/step - loss: 0.6172 - accuracy: 0.6925\n",
      "Epoch 138/300\n",
      "491/491 [==============================] - 0s 347us/step - loss: 0.6172 - accuracy: 0.6925\n",
      "Epoch 139/300\n",
      "491/491 [==============================] - 0s 336us/step - loss: 0.6172 - accuracy: 0.6925\n",
      "Epoch 140/300\n",
      "491/491 [==============================] - 0s 339us/step - loss: 0.6172 - accuracy: 0.6925\n",
      "Epoch 141/300\n",
      "491/491 [==============================] - 0s 357us/step - loss: 0.6172 - accuracy: 0.6925\n",
      "Epoch 142/300\n",
      "491/491 [==============================] - 0s 399us/step - loss: 0.6172 - accuracy: 0.6925\n",
      "Epoch 143/300\n",
      "491/491 [==============================] - 0s 341us/step - loss: 0.6172 - accuracy: 0.6925\n",
      "Epoch 144/300\n",
      "491/491 [==============================] - 0s 352us/step - loss: 0.6172 - accuracy: 0.6925\n",
      "Epoch 145/300\n",
      "491/491 [==============================] - 0s 393us/step - loss: 0.6171 - accuracy: 0.6925\n",
      "Epoch 146/300\n",
      "491/491 [==============================] - 0s 346us/step - loss: 0.6172 - accuracy: 0.6925\n",
      "Epoch 147/300\n",
      "491/491 [==============================] - 0s 340us/step - loss: 0.6172 - accuracy: 0.6925\n",
      "Epoch 148/300\n",
      "491/491 [==============================] - 0s 353us/step - loss: 0.6173 - accuracy: 0.6925\n",
      "Epoch 149/300\n",
      "491/491 [==============================] - 0s 301us/step - loss: 0.6172 - accuracy: 0.6925\n",
      "Epoch 150/300\n",
      "491/491 [==============================] - 0s 369us/step - loss: 0.6171 - accuracy: 0.6925\n",
      "Epoch 151/300\n",
      "491/491 [==============================] - 0s 378us/step - loss: 0.6172 - accuracy: 0.6925\n",
      "Epoch 152/300\n",
      "491/491 [==============================] - 0s 362us/step - loss: 0.6172 - accuracy: 0.6925\n",
      "Epoch 153/300\n",
      "491/491 [==============================] - 0s 350us/step - loss: 0.6172 - accuracy: 0.6925\n",
      "Epoch 154/300\n",
      "491/491 [==============================] - 0s 334us/step - loss: 0.6172 - accuracy: 0.6925\n",
      "Epoch 155/300\n",
      "491/491 [==============================] - 0s 337us/step - loss: 0.6172 - accuracy: 0.6925\n",
      "Epoch 156/300\n",
      "491/491 [==============================] - 0s 373us/step - loss: 0.6172 - accuracy: 0.6925\n",
      "Epoch 157/300\n",
      "491/491 [==============================] - 0s 329us/step - loss: 0.6173 - accuracy: 0.6925\n",
      "Epoch 158/300\n",
      "491/491 [==============================] - 0s 385us/step - loss: 0.6172 - accuracy: 0.6925\n",
      "Epoch 159/300\n",
      "491/491 [==============================] - 0s 336us/step - loss: 0.6172 - accuracy: 0.6925\n",
      "Epoch 160/300\n",
      "491/491 [==============================] - 0s 321us/step - loss: 0.6172 - accuracy: 0.6925\n",
      "Epoch 161/300\n",
      "491/491 [==============================] - 0s 321us/step - loss: 0.6172 - accuracy: 0.6925\n",
      "Epoch 162/300\n",
      "491/491 [==============================] - 0s 347us/step - loss: 0.6172 - accuracy: 0.6925\n",
      "Epoch 163/300\n",
      "491/491 [==============================] - 0s 360us/step - loss: 0.6171 - accuracy: 0.6925\n",
      "Epoch 164/300\n",
      "491/491 [==============================] - 0s 314us/step - loss: 0.6172 - accuracy: 0.6925\n",
      "Epoch 165/300\n",
      "491/491 [==============================] - 0s 333us/step - loss: 0.6171 - accuracy: 0.6925\n",
      "Epoch 166/300\n",
      "491/491 [==============================] - 0s 418us/step - loss: 0.6171 - accuracy: 0.6925\n",
      "Epoch 167/300\n",
      "491/491 [==============================] - 0s 349us/step - loss: 0.6172 - accuracy: 0.6925\n",
      "Epoch 168/300\n",
      "491/491 [==============================] - 0s 334us/step - loss: 0.6171 - accuracy: 0.6925\n",
      "Epoch 169/300\n",
      "491/491 [==============================] - 0s 321us/step - loss: 0.6171 - accuracy: 0.6925\n",
      "Epoch 170/300\n",
      "491/491 [==============================] - 0s 319us/step - loss: 0.6171 - accuracy: 0.6925\n",
      "Epoch 171/300\n",
      "491/491 [==============================] - 0s 324us/step - loss: 0.6172 - accuracy: 0.6925\n",
      "Epoch 172/300\n",
      "491/491 [==============================] - 0s 320us/step - loss: 0.6172 - accuracy: 0.6925\n",
      "Epoch 173/300\n",
      "491/491 [==============================] - 0s 311us/step - loss: 0.6171 - accuracy: 0.6925\n",
      "Epoch 174/300\n",
      "491/491 [==============================] - 0s 406us/step - loss: 0.6171 - accuracy: 0.6925\n",
      "Epoch 175/300\n",
      "491/491 [==============================] - 0s 310us/step - loss: 0.6171 - accuracy: 0.6925\n",
      "Epoch 176/300\n",
      "491/491 [==============================] - 0s 307us/step - loss: 0.6172 - accuracy: 0.6925\n",
      "Epoch 177/300\n",
      "491/491 [==============================] - 0s 315us/step - loss: 0.6171 - accuracy: 0.6925\n",
      "Epoch 178/300\n",
      "491/491 [==============================] - 0s 317us/step - loss: 0.6171 - accuracy: 0.6925\n",
      "Epoch 179/300\n",
      "491/491 [==============================] - 0s 322us/step - loss: 0.6172 - accuracy: 0.6925\n",
      "Epoch 180/300\n",
      "491/491 [==============================] - 0s 328us/step - loss: 0.6172 - accuracy: 0.6925\n",
      "Epoch 181/300\n",
      "491/491 [==============================] - 0s 315us/step - loss: 0.6171 - accuracy: 0.6925\n",
      "Epoch 182/300\n",
      "491/491 [==============================] - 0s 311us/step - loss: 0.6172 - accuracy: 0.6925\n",
      "Epoch 183/300\n",
      "491/491 [==============================] - 0s 307us/step - loss: 0.6172 - accuracy: 0.6925\n",
      "Epoch 184/300\n",
      "491/491 [==============================] - 0s 311us/step - loss: 0.6172 - accuracy: 0.6925\n",
      "Epoch 185/300\n",
      "491/491 [==============================] - 0s 330us/step - loss: 0.6171 - accuracy: 0.6925\n",
      "Epoch 186/300\n",
      "491/491 [==============================] - 0s 352us/step - loss: 0.6172 - accuracy: 0.6925\n",
      "Epoch 187/300\n",
      "491/491 [==============================] - 0s 314us/step - loss: 0.6172 - accuracy: 0.6925\n",
      "Epoch 188/300\n",
      "491/491 [==============================] - 0s 310us/step - loss: 0.6171 - accuracy: 0.6925\n",
      "Epoch 189/300\n",
      "491/491 [==============================] - 0s 317us/step - loss: 0.6172 - accuracy: 0.6925\n",
      "Epoch 190/300\n",
      "491/491 [==============================] - 0s 316us/step - loss: 0.6172 - accuracy: 0.6925\n",
      "Epoch 191/300\n",
      "491/491 [==============================] - 0s 326us/step - loss: 0.6172 - accuracy: 0.6925\n",
      "Epoch 192/300\n",
      "491/491 [==============================] - 0s 350us/step - loss: 0.6172 - accuracy: 0.6925\n",
      "Epoch 193/300\n",
      "491/491 [==============================] - 0s 348us/step - loss: 0.6172 - accuracy: 0.6925\n",
      "Epoch 194/300\n",
      "491/491 [==============================] - 0s 318us/step - loss: 0.6171 - accuracy: 0.6925\n",
      "Epoch 195/300\n",
      "491/491 [==============================] - 0s 318us/step - loss: 0.6172 - accuracy: 0.6925\n",
      "Epoch 196/300\n",
      "491/491 [==============================] - 0s 329us/step - loss: 0.6172 - accuracy: 0.6925\n",
      "Epoch 197/300\n",
      "491/491 [==============================] - 0s 320us/step - loss: 0.6171 - accuracy: 0.6925\n",
      "Epoch 198/300\n",
      "491/491 [==============================] - 0s 324us/step - loss: 0.6172 - accuracy: 0.6925\n",
      "Epoch 199/300\n",
      "491/491 [==============================] - 0s 370us/step - loss: 0.6171 - accuracy: 0.6925\n",
      "Epoch 200/300\n",
      "491/491 [==============================] - 0s 312us/step - loss: 0.6172 - accuracy: 0.6925\n",
      "Epoch 201/300\n",
      "491/491 [==============================] - 0s 320us/step - loss: 0.6171 - accuracy: 0.6925\n",
      "Epoch 202/300\n",
      "491/491 [==============================] - 0s 315us/step - loss: 0.6171 - accuracy: 0.6925\n",
      "Epoch 203/300\n",
      "491/491 [==============================] - 0s 323us/step - loss: 0.6172 - accuracy: 0.6925\n",
      "Epoch 204/300\n",
      "491/491 [==============================] - 0s 319us/step - loss: 0.6172 - accuracy: 0.6925\n",
      "Epoch 205/300\n",
      "491/491 [==============================] - 0s 318us/step - loss: 0.6173 - accuracy: 0.6925\n",
      "Epoch 206/300\n",
      "491/491 [==============================] - 0s 307us/step - loss: 0.6171 - accuracy: 0.6925\n",
      "Epoch 207/300\n",
      "491/491 [==============================] - 0s 306us/step - loss: 0.6172 - accuracy: 0.6925\n",
      "Epoch 208/300\n",
      "491/491 [==============================] - 0s 319us/step - loss: 0.6172 - accuracy: 0.6925\n",
      "Epoch 209/300\n",
      "491/491 [==============================] - 0s 318us/step - loss: 0.6171 - accuracy: 0.6925\n",
      "Epoch 210/300\n",
      "491/491 [==============================] - 0s 369us/step - loss: 0.6172 - accuracy: 0.6925\n",
      "Epoch 211/300\n",
      "491/491 [==============================] - 0s 323us/step - loss: 0.6172 - accuracy: 0.6925\n",
      "Epoch 212/300\n",
      "491/491 [==============================] - 0s 309us/step - loss: 0.6172 - accuracy: 0.6925\n",
      "Epoch 213/300\n",
      "491/491 [==============================] - 0s 315us/step - loss: 0.6171 - accuracy: 0.6925\n",
      "Epoch 214/300\n",
      "491/491 [==============================] - 0s 315us/step - loss: 0.6172 - accuracy: 0.6925\n",
      "Epoch 215/300\n",
      "491/491 [==============================] - 0s 314us/step - loss: 0.6172 - accuracy: 0.6925\n",
      "Epoch 216/300\n",
      "491/491 [==============================] - 0s 319us/step - loss: 0.6171 - accuracy: 0.6925\n",
      "Epoch 217/300\n",
      "491/491 [==============================] - 0s 312us/step - loss: 0.6172 - accuracy: 0.6925\n",
      "Epoch 218/300\n",
      "491/491 [==============================] - 0s 311us/step - loss: 0.6171 - accuracy: 0.6925\n",
      "Epoch 219/300\n",
      "491/491 [==============================] - 0s 315us/step - loss: 0.6171 - accuracy: 0.6925\n",
      "Epoch 220/300\n",
      "491/491 [==============================] - 0s 333us/step - loss: 0.6172 - accuracy: 0.6925\n",
      "Epoch 221/300\n",
      "491/491 [==============================] - 0s 323us/step - loss: 0.6172 - accuracy: 0.6925\n",
      "Epoch 222/300\n",
      "491/491 [==============================] - 0s 335us/step - loss: 0.6172 - accuracy: 0.6925\n",
      "Epoch 223/300\n",
      "491/491 [==============================] - 0s 324us/step - loss: 0.6172 - accuracy: 0.6925\n",
      "Epoch 224/300\n",
      "491/491 [==============================] - 0s 364us/step - loss: 0.6172 - accuracy: 0.6925\n",
      "Epoch 225/300\n",
      "491/491 [==============================] - 0s 320us/step - loss: 0.6172 - accuracy: 0.6925\n",
      "Epoch 226/300\n",
      "491/491 [==============================] - 0s 310us/step - loss: 0.6171 - accuracy: 0.6925\n",
      "Epoch 227/300\n",
      "491/491 [==============================] - 0s 304us/step - loss: 0.6172 - accuracy: 0.6925\n",
      "Epoch 228/300\n",
      "491/491 [==============================] - 0s 318us/step - loss: 0.6172 - accuracy: 0.6925\n",
      "Epoch 229/300\n",
      "491/491 [==============================] - 0s 313us/step - loss: 0.6172 - accuracy: 0.6925\n",
      "Epoch 230/300\n",
      "491/491 [==============================] - 0s 340us/step - loss: 0.6172 - accuracy: 0.6925\n",
      "Epoch 231/300\n",
      "491/491 [==============================] - 0s 315us/step - loss: 0.6171 - accuracy: 0.6925\n",
      "Epoch 232/300\n",
      "491/491 [==============================] - 0s 312us/step - loss: 0.6171 - accuracy: 0.6925\n",
      "Epoch 233/300\n",
      "491/491 [==============================] - 0s 306us/step - loss: 0.6171 - accuracy: 0.6925\n",
      "Epoch 234/300\n",
      "491/491 [==============================] - 0s 311us/step - loss: 0.6171 - accuracy: 0.6925\n",
      "Epoch 235/300\n",
      "491/491 [==============================] - 0s 317us/step - loss: 0.6172 - accuracy: 0.6925\n",
      "Epoch 236/300\n",
      "491/491 [==============================] - 0s 331us/step - loss: 0.6172 - accuracy: 0.6925\n",
      "Epoch 237/300\n",
      "491/491 [==============================] - 0s 405us/step - loss: 0.6171 - accuracy: 0.6925\n",
      "Epoch 238/300\n",
      "491/491 [==============================] - 0s 325us/step - loss: 0.6172 - accuracy: 0.6925\n",
      "Epoch 239/300\n",
      "491/491 [==============================] - 0s 321us/step - loss: 0.6171 - accuracy: 0.6925\n",
      "Epoch 240/300\n",
      "491/491 [==============================] - 0s 308us/step - loss: 0.6171 - accuracy: 0.6925\n",
      "Epoch 241/300\n",
      "491/491 [==============================] - 0s 314us/step - loss: 0.6171 - accuracy: 0.6925\n",
      "Epoch 242/300\n",
      "491/491 [==============================] - 0s 317us/step - loss: 0.6172 - accuracy: 0.6925\n",
      "Epoch 243/300\n",
      "491/491 [==============================] - 0s 319us/step - loss: 0.6171 - accuracy: 0.6925\n",
      "Epoch 244/300\n",
      "491/491 [==============================] - 0s 313us/step - loss: 0.6172 - accuracy: 0.6925\n",
      "Epoch 245/300\n",
      "491/491 [==============================] - 0s 319us/step - loss: 0.6172 - accuracy: 0.6925\n",
      "Epoch 246/300\n",
      "491/491 [==============================] - 0s 312us/step - loss: 0.6171 - accuracy: 0.6925\n",
      "Epoch 247/300\n",
      "491/491 [==============================] - 0s 314us/step - loss: 0.6172 - accuracy: 0.6925\n",
      "Epoch 248/300\n",
      "491/491 [==============================] - 0s 321us/step - loss: 0.6172 - accuracy: 0.6925\n",
      "Epoch 249/300\n",
      "491/491 [==============================] - 0s 395us/step - loss: 0.6171 - accuracy: 0.6925\n",
      "Epoch 250/300\n",
      "491/491 [==============================] - 0s 358us/step - loss: 0.6173 - accuracy: 0.6925\n",
      "Epoch 251/300\n",
      "491/491 [==============================] - 0s 314us/step - loss: 0.6172 - accuracy: 0.6925\n",
      "Epoch 252/300\n",
      "491/491 [==============================] - 0s 308us/step - loss: 0.6171 - accuracy: 0.6925\n",
      "Epoch 253/300\n",
      "491/491 [==============================] - 0s 315us/step - loss: 0.6172 - accuracy: 0.6925\n",
      "Epoch 254/300\n",
      "491/491 [==============================] - 0s 327us/step - loss: 0.6172 - accuracy: 0.6925\n",
      "Epoch 255/300\n",
      "491/491 [==============================] - 0s 317us/step - loss: 0.6171 - accuracy: 0.6925\n",
      "Epoch 256/300\n",
      "491/491 [==============================] - 0s 310us/step - loss: 0.6172 - accuracy: 0.6925\n",
      "Epoch 257/300\n",
      "491/491 [==============================] - 0s 314us/step - loss: 0.6172 - accuracy: 0.6925\n",
      "Epoch 258/300\n",
      "491/491 [==============================] - 0s 310us/step - loss: 0.6172 - accuracy: 0.6925\n",
      "Epoch 259/300\n",
      "491/491 [==============================] - 0s 314us/step - loss: 0.6172 - accuracy: 0.6925\n",
      "Epoch 260/300\n",
      "491/491 [==============================] - 0s 320us/step - loss: 0.6171 - accuracy: 0.6925\n",
      "Epoch 261/300\n",
      "491/491 [==============================] - 0s 392us/step - loss: 0.6172 - accuracy: 0.6925\n",
      "Epoch 262/300\n",
      "491/491 [==============================] - 0s 336us/step - loss: 0.6172 - accuracy: 0.6925\n",
      "Epoch 263/300\n",
      "491/491 [==============================] - 0s 361us/step - loss: 0.6171 - accuracy: 0.6925\n",
      "Epoch 264/300\n",
      "491/491 [==============================] - 0s 354us/step - loss: 0.6171 - accuracy: 0.6925\n",
      "Epoch 265/300\n",
      "491/491 [==============================] - 0s 326us/step - loss: 0.6171 - accuracy: 0.6925\n",
      "Epoch 266/300\n",
      "491/491 [==============================] - 0s 337us/step - loss: 0.6171 - accuracy: 0.6925\n",
      "Epoch 267/300\n",
      "491/491 [==============================] - 0s 323us/step - loss: 0.6171 - accuracy: 0.6925\n",
      "Epoch 268/300\n",
      "491/491 [==============================] - 0s 316us/step - loss: 0.6172 - accuracy: 0.6925\n",
      "Epoch 269/300\n",
      "491/491 [==============================] - 0s 314us/step - loss: 0.6172 - accuracy: 0.6925\n",
      "Epoch 270/300\n",
      "491/491 [==============================] - 0s 338us/step - loss: 0.6172 - accuracy: 0.6925\n",
      "Epoch 271/300\n",
      "491/491 [==============================] - 0s 338us/step - loss: 0.6172 - accuracy: 0.6925\n",
      "Epoch 272/300\n",
      "491/491 [==============================] - 0s 312us/step - loss: 0.6172 - accuracy: 0.6925\n",
      "Epoch 273/300\n",
      "491/491 [==============================] - 0s 322us/step - loss: 0.6172 - accuracy: 0.6925\n",
      "Epoch 274/300\n",
      "491/491 [==============================] - 0s 355us/step - loss: 0.6172 - accuracy: 0.6925\n",
      "Epoch 275/300\n",
      "491/491 [==============================] - 0s 360us/step - loss: 0.6172 - accuracy: 0.6925\n",
      "Epoch 276/300\n",
      "491/491 [==============================] - 0s 340us/step - loss: 0.6171 - accuracy: 0.6925\n",
      "Epoch 277/300\n",
      "491/491 [==============================] - 0s 371us/step - loss: 0.6172 - accuracy: 0.6925\n",
      "Epoch 278/300\n",
      "491/491 [==============================] - 0s 346us/step - loss: 0.6172 - accuracy: 0.6925\n",
      "Epoch 279/300\n",
      "491/491 [==============================] - 0s 319us/step - loss: 0.6172 - accuracy: 0.6925\n",
      "Epoch 280/300\n",
      "491/491 [==============================] - 0s 363us/step - loss: 0.6172 - accuracy: 0.6925\n",
      "Epoch 281/300\n",
      "491/491 [==============================] - 0s 323us/step - loss: 0.6172 - accuracy: 0.6925\n",
      "Epoch 282/300\n",
      "491/491 [==============================] - 0s 343us/step - loss: 0.6171 - accuracy: 0.6925\n",
      "Epoch 283/300\n",
      "491/491 [==============================] - 0s 331us/step - loss: 0.6172 - accuracy: 0.6925\n",
      "Epoch 284/300\n",
      "491/491 [==============================] - 0s 328us/step - loss: 0.6171 - accuracy: 0.6925\n",
      "Epoch 285/300\n",
      "491/491 [==============================] - 0s 327us/step - loss: 0.6172 - accuracy: 0.6925\n",
      "Epoch 286/300\n",
      "491/491 [==============================] - 0s 333us/step - loss: 0.6172 - accuracy: 0.6925\n",
      "Epoch 287/300\n",
      "491/491 [==============================] - 0s 336us/step - loss: 0.6172 - accuracy: 0.6925\n",
      "Epoch 288/300\n",
      "491/491 [==============================] - 0s 342us/step - loss: 0.6172 - accuracy: 0.6925\n",
      "Epoch 289/300\n",
      "491/491 [==============================] - 0s 396us/step - loss: 0.6172 - accuracy: 0.6925\n",
      "Epoch 290/300\n",
      "491/491 [==============================] - 0s 377us/step - loss: 0.6171 - accuracy: 0.6925\n",
      "Epoch 291/300\n",
      "491/491 [==============================] - 0s 419us/step - loss: 0.6172 - accuracy: 0.6925\n",
      "Epoch 292/300\n",
      "491/491 [==============================] - 0s 342us/step - loss: 0.6171 - accuracy: 0.6925\n",
      "Epoch 293/300\n",
      "491/491 [==============================] - 0s 338us/step - loss: 0.6172 - accuracy: 0.6925\n",
      "Epoch 294/300\n",
      "491/491 [==============================] - 0s 348us/step - loss: 0.6172 - accuracy: 0.6925\n",
      "Epoch 295/300\n",
      "491/491 [==============================] - 0s 320us/step - loss: 0.6172 - accuracy: 0.6925\n",
      "Epoch 296/300\n",
      "491/491 [==============================] - 0s 324us/step - loss: 0.6172 - accuracy: 0.6925\n",
      "Epoch 297/300\n",
      "491/491 [==============================] - 0s 348us/step - loss: 0.6172 - accuracy: 0.6925\n",
      "Epoch 298/300\n",
      "491/491 [==============================] - 0s 339us/step - loss: 0.6172 - accuracy: 0.6925\n",
      "Epoch 299/300\n",
      "491/491 [==============================] - 0s 332us/step - loss: 0.6172 - accuracy: 0.6925\n",
      "Epoch 300/300\n",
      "491/491 [==============================] - 0s 338us/step - loss: 0.6172 - accuracy: 0.6925\n"
     ]
    },
    {
     "output_type": "execute_result",
     "data": {
      "text/plain": [
       "<keras.callbacks.callbacks.History at 0x7ff854418fd0>"
      ]
     },
     "metadata": {},
     "execution_count": 104
    }
   ],
   "source": [
    "model.fit(X_train, y_train, epochs=300, batch_size=10)"
   ]
  },
  {
   "cell_type": "code",
   "execution_count": 105,
   "metadata": {},
   "outputs": [
    {
     "output_type": "execute_result",
     "data": {
      "text/plain": [
       "array([[1],\n",
       "       [1],\n",
       "       [1],\n",
       "       [1],\n",
       "       [1],\n",
       "       [1],\n",
       "       [1],\n",
       "       [1],\n",
       "       [1],\n",
       "       [1],\n",
       "       [1],\n",
       "       [1],\n",
       "       [1],\n",
       "       [1],\n",
       "       [1],\n",
       "       [1],\n",
       "       [1],\n",
       "       [1],\n",
       "       [1],\n",
       "       [1],\n",
       "       [1],\n",
       "       [1],\n",
       "       [1],\n",
       "       [1],\n",
       "       [1],\n",
       "       [1],\n",
       "       [1],\n",
       "       [1],\n",
       "       [1],\n",
       "       [1],\n",
       "       [1],\n",
       "       [1],\n",
       "       [1],\n",
       "       [1],\n",
       "       [1],\n",
       "       [1],\n",
       "       [1],\n",
       "       [1],\n",
       "       [1],\n",
       "       [1],\n",
       "       [1],\n",
       "       [1],\n",
       "       [1],\n",
       "       [1],\n",
       "       [1],\n",
       "       [1],\n",
       "       [1],\n",
       "       [1],\n",
       "       [1],\n",
       "       [1],\n",
       "       [1],\n",
       "       [1],\n",
       "       [1],\n",
       "       [1],\n",
       "       [1],\n",
       "       [1],\n",
       "       [1],\n",
       "       [1],\n",
       "       [1],\n",
       "       [1],\n",
       "       [1],\n",
       "       [1],\n",
       "       [1],\n",
       "       [1],\n",
       "       [1],\n",
       "       [1],\n",
       "       [1],\n",
       "       [1],\n",
       "       [1],\n",
       "       [1],\n",
       "       [1],\n",
       "       [1],\n",
       "       [1],\n",
       "       [1],\n",
       "       [1],\n",
       "       [1],\n",
       "       [1],\n",
       "       [1],\n",
       "       [1],\n",
       "       [1],\n",
       "       [1],\n",
       "       [1],\n",
       "       [1],\n",
       "       [1],\n",
       "       [1],\n",
       "       [1],\n",
       "       [1],\n",
       "       [1],\n",
       "       [1],\n",
       "       [1],\n",
       "       [1],\n",
       "       [1],\n",
       "       [1],\n",
       "       [1],\n",
       "       [1],\n",
       "       [1],\n",
       "       [1],\n",
       "       [1],\n",
       "       [1],\n",
       "       [1],\n",
       "       [1],\n",
       "       [1],\n",
       "       [1],\n",
       "       [1],\n",
       "       [1],\n",
       "       [1],\n",
       "       [1],\n",
       "       [1],\n",
       "       [1],\n",
       "       [1],\n",
       "       [1],\n",
       "       [1],\n",
       "       [1]], dtype=int32)"
      ]
     },
     "metadata": {},
     "execution_count": 105
    }
   ],
   "source": [
    "model.predict_classes(X_test)"
   ]
  },
  {
   "cell_type": "code",
   "execution_count": 106,
   "metadata": {},
   "outputs": [
    {
     "output_type": "stream",
     "name": "stdout",
     "text": [
      "113/113 [==============================] - 0s 1ms/step\n"
     ]
    },
    {
     "output_type": "execute_result",
     "data": {
      "text/plain": [
       "0.7876105904579163"
      ]
     },
     "metadata": {},
     "execution_count": 106
    }
   ],
   "source": [
    "model.evaluate(X_test, y_test)[1]"
   ]
  },
  {
   "cell_type": "code",
   "execution_count": 107,
   "metadata": {},
   "outputs": [
    {
     "output_type": "execute_result",
     "data": {
      "text/plain": [
       "<keras.callbacks.callbacks.History at 0x7ff854418fd0>"
      ]
     },
     "metadata": {},
     "execution_count": 107
    }
   ],
   "source": [
    "model.history"
   ]
  },
  {
   "cell_type": "code",
   "execution_count": 108,
   "metadata": {},
   "outputs": [
    {
     "output_type": "execute_result",
     "data": {
      "text/plain": [
       "Text(0, 0.5, 'accuracy')"
      ]
     },
     "metadata": {},
     "execution_count": 108
    },
    {
     "output_type": "display_data",
     "data": {
      "text/plain": "<Figure size 432x288 with 1 Axes>",
      "image/svg+xml": "<?xml version=\"1.0\" encoding=\"utf-8\" standalone=\"no\"?>\n<!DOCTYPE svg PUBLIC \"-//W3C//DTD SVG 1.1//EN\"\n  \"http://www.w3.org/Graphics/SVG/1.1/DTD/svg11.dtd\">\n<!-- Created with matplotlib (https://matplotlib.org/) -->\n<svg height=\"262.19625pt\" version=\"1.1\" viewBox=\"0 0 392.14375 262.19625\" width=\"392.14375pt\" xmlns=\"http://www.w3.org/2000/svg\" xmlns:xlink=\"http://www.w3.org/1999/xlink\">\n <metadata>\n  <rdf:RDF xmlns:cc=\"http://creativecommons.org/ns#\" xmlns:dc=\"http://purl.org/dc/elements/1.1/\" xmlns:rdf=\"http://www.w3.org/1999/02/22-rdf-syntax-ns#\">\n   <cc:Work>\n    <dc:type rdf:resource=\"http://purl.org/dc/dcmitype/StillImage\"/>\n    <dc:date>2020-11-10T16:48:10.102449</dc:date>\n    <dc:format>image/svg+xml</dc:format>\n    <dc:creator>\n     <cc:Agent>\n      <dc:title>Matplotlib v3.3.2, https://matplotlib.org/</dc:title>\n     </cc:Agent>\n    </dc:creator>\n   </cc:Work>\n  </rdf:RDF>\n </metadata>\n <defs>\n  <style type=\"text/css\">*{stroke-linecap:butt;stroke-linejoin:round;}</style>\n </defs>\n <g id=\"figure_1\">\n  <g id=\"patch_1\">\n   <path d=\"M 0 262.19625 \nL 392.14375 262.19625 \nL 392.14375 0 \nL 0 0 \nz\n\" style=\"fill:none;\"/>\n  </g>\n  <g id=\"axes_1\">\n   <g id=\"patch_2\">\n    <path d=\"M 50.14375 224.64 \nL 384.94375 224.64 \nL 384.94375 7.2 \nL 50.14375 7.2 \nz\n\" style=\"fill:#ffffff;\"/>\n   </g>\n   <g id=\"matplotlib.axis_1\">\n    <g id=\"xtick_1\">\n     <g id=\"line2d_1\">\n      <defs>\n       <path d=\"M 0 0 \nL 0 3.5 \n\" id=\"m95ddf09ac1\" style=\"stroke:#000000;stroke-width:0.8;\"/>\n      </defs>\n      <g>\n       <use style=\"stroke:#000000;stroke-width:0.8;\" x=\"65.361932\" xlink:href=\"#m95ddf09ac1\" y=\"224.64\"/>\n      </g>\n     </g>\n     <g id=\"text_1\">\n      <!-- 0 -->\n      <g transform=\"translate(62.180682 239.238437)scale(0.1 -0.1)\">\n       <defs>\n        <path d=\"M 31.78125 66.40625 \nQ 24.171875 66.40625 20.328125 58.90625 \nQ 16.5 51.421875 16.5 36.375 \nQ 16.5 21.390625 20.328125 13.890625 \nQ 24.171875 6.390625 31.78125 6.390625 \nQ 39.453125 6.390625 43.28125 13.890625 \nQ 47.125 21.390625 47.125 36.375 \nQ 47.125 51.421875 43.28125 58.90625 \nQ 39.453125 66.40625 31.78125 66.40625 \nz\nM 31.78125 74.21875 \nQ 44.046875 74.21875 50.515625 64.515625 \nQ 56.984375 54.828125 56.984375 36.375 \nQ 56.984375 17.96875 50.515625 8.265625 \nQ 44.046875 -1.421875 31.78125 -1.421875 \nQ 19.53125 -1.421875 13.0625 8.265625 \nQ 6.59375 17.96875 6.59375 36.375 \nQ 6.59375 54.828125 13.0625 64.515625 \nQ 19.53125 74.21875 31.78125 74.21875 \nz\n\" id=\"DejaVuSans-48\"/>\n       </defs>\n       <use xlink:href=\"#DejaVuSans-48\"/>\n      </g>\n     </g>\n    </g>\n    <g id=\"xtick_2\">\n     <g id=\"line2d_2\">\n      <g>\n       <use style=\"stroke:#000000;stroke-width:0.8;\" x=\"116.258861\" xlink:href=\"#m95ddf09ac1\" y=\"224.64\"/>\n      </g>\n     </g>\n     <g id=\"text_2\">\n      <!-- 50 -->\n      <g transform=\"translate(109.896361 239.238437)scale(0.1 -0.1)\">\n       <defs>\n        <path d=\"M 10.796875 72.90625 \nL 49.515625 72.90625 \nL 49.515625 64.59375 \nL 19.828125 64.59375 \nL 19.828125 46.734375 \nQ 21.96875 47.46875 24.109375 47.828125 \nQ 26.265625 48.1875 28.421875 48.1875 \nQ 40.625 48.1875 47.75 41.5 \nQ 54.890625 34.8125 54.890625 23.390625 \nQ 54.890625 11.625 47.5625 5.09375 \nQ 40.234375 -1.421875 26.90625 -1.421875 \nQ 22.3125 -1.421875 17.546875 -0.640625 \nQ 12.796875 0.140625 7.71875 1.703125 \nL 7.71875 11.625 \nQ 12.109375 9.234375 16.796875 8.0625 \nQ 21.484375 6.890625 26.703125 6.890625 \nQ 35.15625 6.890625 40.078125 11.328125 \nQ 45.015625 15.765625 45.015625 23.390625 \nQ 45.015625 31 40.078125 35.4375 \nQ 35.15625 39.890625 26.703125 39.890625 \nQ 22.75 39.890625 18.8125 39.015625 \nQ 14.890625 38.140625 10.796875 36.28125 \nz\n\" id=\"DejaVuSans-53\"/>\n       </defs>\n       <use xlink:href=\"#DejaVuSans-53\"/>\n       <use x=\"63.623047\" xlink:href=\"#DejaVuSans-48\"/>\n      </g>\n     </g>\n    </g>\n    <g id=\"xtick_3\">\n     <g id=\"line2d_3\">\n      <g>\n       <use style=\"stroke:#000000;stroke-width:0.8;\" x=\"167.15579\" xlink:href=\"#m95ddf09ac1\" y=\"224.64\"/>\n      </g>\n     </g>\n     <g id=\"text_3\">\n      <!-- 100 -->\n      <g transform=\"translate(157.61204 239.238437)scale(0.1 -0.1)\">\n       <defs>\n        <path d=\"M 12.40625 8.296875 \nL 28.515625 8.296875 \nL 28.515625 63.921875 \nL 10.984375 60.40625 \nL 10.984375 69.390625 \nL 28.421875 72.90625 \nL 38.28125 72.90625 \nL 38.28125 8.296875 \nL 54.390625 8.296875 \nL 54.390625 0 \nL 12.40625 0 \nz\n\" id=\"DejaVuSans-49\"/>\n       </defs>\n       <use xlink:href=\"#DejaVuSans-49\"/>\n       <use x=\"63.623047\" xlink:href=\"#DejaVuSans-48\"/>\n       <use x=\"127.246094\" xlink:href=\"#DejaVuSans-48\"/>\n      </g>\n     </g>\n    </g>\n    <g id=\"xtick_4\">\n     <g id=\"line2d_4\">\n      <g>\n       <use style=\"stroke:#000000;stroke-width:0.8;\" x=\"218.052719\" xlink:href=\"#m95ddf09ac1\" y=\"224.64\"/>\n      </g>\n     </g>\n     <g id=\"text_4\">\n      <!-- 150 -->\n      <g transform=\"translate(208.508969 239.238437)scale(0.1 -0.1)\">\n       <use xlink:href=\"#DejaVuSans-49\"/>\n       <use x=\"63.623047\" xlink:href=\"#DejaVuSans-53\"/>\n       <use x=\"127.246094\" xlink:href=\"#DejaVuSans-48\"/>\n      </g>\n     </g>\n    </g>\n    <g id=\"xtick_5\">\n     <g id=\"line2d_5\">\n      <g>\n       <use style=\"stroke:#000000;stroke-width:0.8;\" x=\"268.949648\" xlink:href=\"#m95ddf09ac1\" y=\"224.64\"/>\n      </g>\n     </g>\n     <g id=\"text_5\">\n      <!-- 200 -->\n      <g transform=\"translate(259.405898 239.238437)scale(0.1 -0.1)\">\n       <defs>\n        <path d=\"M 19.1875 8.296875 \nL 53.609375 8.296875 \nL 53.609375 0 \nL 7.328125 0 \nL 7.328125 8.296875 \nQ 12.9375 14.109375 22.625 23.890625 \nQ 32.328125 33.6875 34.8125 36.53125 \nQ 39.546875 41.84375 41.421875 45.53125 \nQ 43.3125 49.21875 43.3125 52.78125 \nQ 43.3125 58.59375 39.234375 62.25 \nQ 35.15625 65.921875 28.609375 65.921875 \nQ 23.96875 65.921875 18.8125 64.3125 \nQ 13.671875 62.703125 7.8125 59.421875 \nL 7.8125 69.390625 \nQ 13.765625 71.78125 18.9375 73 \nQ 24.125 74.21875 28.421875 74.21875 \nQ 39.75 74.21875 46.484375 68.546875 \nQ 53.21875 62.890625 53.21875 53.421875 \nQ 53.21875 48.921875 51.53125 44.890625 \nQ 49.859375 40.875 45.40625 35.40625 \nQ 44.1875 33.984375 37.640625 27.21875 \nQ 31.109375 20.453125 19.1875 8.296875 \nz\n\" id=\"DejaVuSans-50\"/>\n       </defs>\n       <use xlink:href=\"#DejaVuSans-50\"/>\n       <use x=\"63.623047\" xlink:href=\"#DejaVuSans-48\"/>\n       <use x=\"127.246094\" xlink:href=\"#DejaVuSans-48\"/>\n      </g>\n     </g>\n    </g>\n    <g id=\"xtick_6\">\n     <g id=\"line2d_6\">\n      <g>\n       <use style=\"stroke:#000000;stroke-width:0.8;\" x=\"319.846578\" xlink:href=\"#m95ddf09ac1\" y=\"224.64\"/>\n      </g>\n     </g>\n     <g id=\"text_6\">\n      <!-- 250 -->\n      <g transform=\"translate(310.302828 239.238437)scale(0.1 -0.1)\">\n       <use xlink:href=\"#DejaVuSans-50\"/>\n       <use x=\"63.623047\" xlink:href=\"#DejaVuSans-53\"/>\n       <use x=\"127.246094\" xlink:href=\"#DejaVuSans-48\"/>\n      </g>\n     </g>\n    </g>\n    <g id=\"xtick_7\">\n     <g id=\"line2d_7\">\n      <g>\n       <use style=\"stroke:#000000;stroke-width:0.8;\" x=\"370.743507\" xlink:href=\"#m95ddf09ac1\" y=\"224.64\"/>\n      </g>\n     </g>\n     <g id=\"text_7\">\n      <!-- 300 -->\n      <g transform=\"translate(361.199757 239.238437)scale(0.1 -0.1)\">\n       <defs>\n        <path d=\"M 40.578125 39.3125 \nQ 47.65625 37.796875 51.625 33 \nQ 55.609375 28.21875 55.609375 21.1875 \nQ 55.609375 10.40625 48.1875 4.484375 \nQ 40.765625 -1.421875 27.09375 -1.421875 \nQ 22.515625 -1.421875 17.65625 -0.515625 \nQ 12.796875 0.390625 7.625 2.203125 \nL 7.625 11.71875 \nQ 11.71875 9.328125 16.59375 8.109375 \nQ 21.484375 6.890625 26.8125 6.890625 \nQ 36.078125 6.890625 40.9375 10.546875 \nQ 45.796875 14.203125 45.796875 21.1875 \nQ 45.796875 27.640625 41.28125 31.265625 \nQ 36.765625 34.90625 28.71875 34.90625 \nL 20.21875 34.90625 \nL 20.21875 43.015625 \nL 29.109375 43.015625 \nQ 36.375 43.015625 40.234375 45.921875 \nQ 44.09375 48.828125 44.09375 54.296875 \nQ 44.09375 59.90625 40.109375 62.90625 \nQ 36.140625 65.921875 28.71875 65.921875 \nQ 24.65625 65.921875 20.015625 65.03125 \nQ 15.375 64.15625 9.8125 62.3125 \nL 9.8125 71.09375 \nQ 15.4375 72.65625 20.34375 73.4375 \nQ 25.25 74.21875 29.59375 74.21875 \nQ 40.828125 74.21875 47.359375 69.109375 \nQ 53.90625 64.015625 53.90625 55.328125 \nQ 53.90625 49.265625 50.4375 45.09375 \nQ 46.96875 40.921875 40.578125 39.3125 \nz\n\" id=\"DejaVuSans-51\"/>\n       </defs>\n       <use xlink:href=\"#DejaVuSans-51\"/>\n       <use x=\"63.623047\" xlink:href=\"#DejaVuSans-48\"/>\n       <use x=\"127.246094\" xlink:href=\"#DejaVuSans-48\"/>\n      </g>\n     </g>\n    </g>\n    <g id=\"text_8\">\n     <!-- epochs -->\n     <g transform=\"translate(199.710938 252.916562)scale(0.1 -0.1)\">\n      <defs>\n       <path d=\"M 56.203125 29.59375 \nL 56.203125 25.203125 \nL 14.890625 25.203125 \nQ 15.484375 15.921875 20.484375 11.0625 \nQ 25.484375 6.203125 34.421875 6.203125 \nQ 39.59375 6.203125 44.453125 7.46875 \nQ 49.3125 8.734375 54.109375 11.28125 \nL 54.109375 2.78125 \nQ 49.265625 0.734375 44.1875 -0.34375 \nQ 39.109375 -1.421875 33.890625 -1.421875 \nQ 20.796875 -1.421875 13.15625 6.1875 \nQ 5.515625 13.8125 5.515625 26.8125 \nQ 5.515625 40.234375 12.765625 48.109375 \nQ 20.015625 56 32.328125 56 \nQ 43.359375 56 49.78125 48.890625 \nQ 56.203125 41.796875 56.203125 29.59375 \nz\nM 47.21875 32.234375 \nQ 47.125 39.59375 43.09375 43.984375 \nQ 39.0625 48.390625 32.421875 48.390625 \nQ 24.90625 48.390625 20.390625 44.140625 \nQ 15.875 39.890625 15.1875 32.171875 \nz\n\" id=\"DejaVuSans-101\"/>\n       <path d=\"M 18.109375 8.203125 \nL 18.109375 -20.796875 \nL 9.078125 -20.796875 \nL 9.078125 54.6875 \nL 18.109375 54.6875 \nL 18.109375 46.390625 \nQ 20.953125 51.265625 25.265625 53.625 \nQ 29.59375 56 35.59375 56 \nQ 45.5625 56 51.78125 48.09375 \nQ 58.015625 40.1875 58.015625 27.296875 \nQ 58.015625 14.40625 51.78125 6.484375 \nQ 45.5625 -1.421875 35.59375 -1.421875 \nQ 29.59375 -1.421875 25.265625 0.953125 \nQ 20.953125 3.328125 18.109375 8.203125 \nz\nM 48.6875 27.296875 \nQ 48.6875 37.203125 44.609375 42.84375 \nQ 40.53125 48.484375 33.40625 48.484375 \nQ 26.265625 48.484375 22.1875 42.84375 \nQ 18.109375 37.203125 18.109375 27.296875 \nQ 18.109375 17.390625 22.1875 11.75 \nQ 26.265625 6.109375 33.40625 6.109375 \nQ 40.53125 6.109375 44.609375 11.75 \nQ 48.6875 17.390625 48.6875 27.296875 \nz\n\" id=\"DejaVuSans-112\"/>\n       <path d=\"M 30.609375 48.390625 \nQ 23.390625 48.390625 19.1875 42.75 \nQ 14.984375 37.109375 14.984375 27.296875 \nQ 14.984375 17.484375 19.15625 11.84375 \nQ 23.34375 6.203125 30.609375 6.203125 \nQ 37.796875 6.203125 41.984375 11.859375 \nQ 46.1875 17.53125 46.1875 27.296875 \nQ 46.1875 37.015625 41.984375 42.703125 \nQ 37.796875 48.390625 30.609375 48.390625 \nz\nM 30.609375 56 \nQ 42.328125 56 49.015625 48.375 \nQ 55.71875 40.765625 55.71875 27.296875 \nQ 55.71875 13.875 49.015625 6.21875 \nQ 42.328125 -1.421875 30.609375 -1.421875 \nQ 18.84375 -1.421875 12.171875 6.21875 \nQ 5.515625 13.875 5.515625 27.296875 \nQ 5.515625 40.765625 12.171875 48.375 \nQ 18.84375 56 30.609375 56 \nz\n\" id=\"DejaVuSans-111\"/>\n       <path d=\"M 48.78125 52.59375 \nL 48.78125 44.1875 \nQ 44.96875 46.296875 41.140625 47.34375 \nQ 37.3125 48.390625 33.40625 48.390625 \nQ 24.65625 48.390625 19.8125 42.84375 \nQ 14.984375 37.3125 14.984375 27.296875 \nQ 14.984375 17.28125 19.8125 11.734375 \nQ 24.65625 6.203125 33.40625 6.203125 \nQ 37.3125 6.203125 41.140625 7.25 \nQ 44.96875 8.296875 48.78125 10.40625 \nL 48.78125 2.09375 \nQ 45.015625 0.34375 40.984375 -0.53125 \nQ 36.96875 -1.421875 32.421875 -1.421875 \nQ 20.0625 -1.421875 12.78125 6.34375 \nQ 5.515625 14.109375 5.515625 27.296875 \nQ 5.515625 40.671875 12.859375 48.328125 \nQ 20.21875 56 33.015625 56 \nQ 37.15625 56 41.109375 55.140625 \nQ 45.0625 54.296875 48.78125 52.59375 \nz\n\" id=\"DejaVuSans-99\"/>\n       <path d=\"M 54.890625 33.015625 \nL 54.890625 0 \nL 45.90625 0 \nL 45.90625 32.71875 \nQ 45.90625 40.484375 42.875 44.328125 \nQ 39.84375 48.1875 33.796875 48.1875 \nQ 26.515625 48.1875 22.3125 43.546875 \nQ 18.109375 38.921875 18.109375 30.90625 \nL 18.109375 0 \nL 9.078125 0 \nL 9.078125 75.984375 \nL 18.109375 75.984375 \nL 18.109375 46.1875 \nQ 21.34375 51.125 25.703125 53.5625 \nQ 30.078125 56 35.796875 56 \nQ 45.21875 56 50.046875 50.171875 \nQ 54.890625 44.34375 54.890625 33.015625 \nz\n\" id=\"DejaVuSans-104\"/>\n       <path d=\"M 44.28125 53.078125 \nL 44.28125 44.578125 \nQ 40.484375 46.53125 36.375 47.5 \nQ 32.28125 48.484375 27.875 48.484375 \nQ 21.1875 48.484375 17.84375 46.4375 \nQ 14.5 44.390625 14.5 40.28125 \nQ 14.5 37.15625 16.890625 35.375 \nQ 19.28125 33.59375 26.515625 31.984375 \nL 29.59375 31.296875 \nQ 39.15625 29.25 43.1875 25.515625 \nQ 47.21875 21.78125 47.21875 15.09375 \nQ 47.21875 7.46875 41.1875 3.015625 \nQ 35.15625 -1.421875 24.609375 -1.421875 \nQ 20.21875 -1.421875 15.453125 -0.5625 \nQ 10.6875 0.296875 5.421875 2 \nL 5.421875 11.28125 \nQ 10.40625 8.6875 15.234375 7.390625 \nQ 20.0625 6.109375 24.8125 6.109375 \nQ 31.15625 6.109375 34.5625 8.28125 \nQ 37.984375 10.453125 37.984375 14.40625 \nQ 37.984375 18.0625 35.515625 20.015625 \nQ 33.0625 21.96875 24.703125 23.78125 \nL 21.578125 24.515625 \nQ 13.234375 26.265625 9.515625 29.90625 \nQ 5.8125 33.546875 5.8125 39.890625 \nQ 5.8125 47.609375 11.28125 51.796875 \nQ 16.75 56 26.8125 56 \nQ 31.78125 56 36.171875 55.265625 \nQ 40.578125 54.546875 44.28125 53.078125 \nz\n\" id=\"DejaVuSans-115\"/>\n      </defs>\n      <use xlink:href=\"#DejaVuSans-101\"/>\n      <use x=\"61.523438\" xlink:href=\"#DejaVuSans-112\"/>\n      <use x=\"125\" xlink:href=\"#DejaVuSans-111\"/>\n      <use x=\"186.181641\" xlink:href=\"#DejaVuSans-99\"/>\n      <use x=\"241.162109\" xlink:href=\"#DejaVuSans-104\"/>\n      <use x=\"304.541016\" xlink:href=\"#DejaVuSans-115\"/>\n     </g>\n    </g>\n   </g>\n   <g id=\"matplotlib.axis_2\">\n    <g id=\"ytick_1\">\n     <g id=\"line2d_8\">\n      <defs>\n       <path d=\"M 0 0 \nL -3.5 0 \n\" id=\"m54c9e5651d\" style=\"stroke:#000000;stroke-width:0.8;\"/>\n      </defs>\n      <g>\n       <use style=\"stroke:#000000;stroke-width:0.8;\" x=\"50.14375\" xlink:href=\"#m54c9e5651d\" y=\"224.145801\"/>\n      </g>\n     </g>\n     <g id=\"text_9\">\n      <!-- 0.56 -->\n      <g transform=\"translate(20.878125 227.94502)scale(0.1 -0.1)\">\n       <defs>\n        <path d=\"M 10.6875 12.40625 \nL 21 12.40625 \nL 21 0 \nL 10.6875 0 \nz\n\" id=\"DejaVuSans-46\"/>\n        <path d=\"M 33.015625 40.375 \nQ 26.375 40.375 22.484375 35.828125 \nQ 18.609375 31.296875 18.609375 23.390625 \nQ 18.609375 15.53125 22.484375 10.953125 \nQ 26.375 6.390625 33.015625 6.390625 \nQ 39.65625 6.390625 43.53125 10.953125 \nQ 47.40625 15.53125 47.40625 23.390625 \nQ 47.40625 31.296875 43.53125 35.828125 \nQ 39.65625 40.375 33.015625 40.375 \nz\nM 52.59375 71.296875 \nL 52.59375 62.3125 \nQ 48.875 64.0625 45.09375 64.984375 \nQ 41.3125 65.921875 37.59375 65.921875 \nQ 27.828125 65.921875 22.671875 59.328125 \nQ 17.53125 52.734375 16.796875 39.40625 \nQ 19.671875 43.65625 24.015625 45.921875 \nQ 28.375 48.1875 33.59375 48.1875 \nQ 44.578125 48.1875 50.953125 41.515625 \nQ 57.328125 34.859375 57.328125 23.390625 \nQ 57.328125 12.15625 50.6875 5.359375 \nQ 44.046875 -1.421875 33.015625 -1.421875 \nQ 20.359375 -1.421875 13.671875 8.265625 \nQ 6.984375 17.96875 6.984375 36.375 \nQ 6.984375 53.65625 15.1875 63.9375 \nQ 23.390625 74.21875 37.203125 74.21875 \nQ 40.921875 74.21875 44.703125 73.484375 \nQ 48.484375 72.75 52.59375 71.296875 \nz\n\" id=\"DejaVuSans-54\"/>\n       </defs>\n       <use xlink:href=\"#DejaVuSans-48\"/>\n       <use x=\"63.623047\" xlink:href=\"#DejaVuSans-46\"/>\n       <use x=\"95.410156\" xlink:href=\"#DejaVuSans-53\"/>\n       <use x=\"159.033203\" xlink:href=\"#DejaVuSans-54\"/>\n      </g>\n     </g>\n    </g>\n    <g id=\"ytick_2\">\n     <g id=\"line2d_9\">\n      <g>\n       <use style=\"stroke:#000000;stroke-width:0.8;\" x=\"50.14375\" xlink:href=\"#m54c9e5651d\" y=\"193.815393\"/>\n      </g>\n     </g>\n     <g id=\"text_10\">\n      <!-- 0.58 -->\n      <g transform=\"translate(20.878125 197.614612)scale(0.1 -0.1)\">\n       <defs>\n        <path d=\"M 31.78125 34.625 \nQ 24.75 34.625 20.71875 30.859375 \nQ 16.703125 27.09375 16.703125 20.515625 \nQ 16.703125 13.921875 20.71875 10.15625 \nQ 24.75 6.390625 31.78125 6.390625 \nQ 38.8125 6.390625 42.859375 10.171875 \nQ 46.921875 13.96875 46.921875 20.515625 \nQ 46.921875 27.09375 42.890625 30.859375 \nQ 38.875 34.625 31.78125 34.625 \nz\nM 21.921875 38.8125 \nQ 15.578125 40.375 12.03125 44.71875 \nQ 8.5 49.078125 8.5 55.328125 \nQ 8.5 64.0625 14.71875 69.140625 \nQ 20.953125 74.21875 31.78125 74.21875 \nQ 42.671875 74.21875 48.875 69.140625 \nQ 55.078125 64.0625 55.078125 55.328125 \nQ 55.078125 49.078125 51.53125 44.71875 \nQ 48 40.375 41.703125 38.8125 \nQ 48.828125 37.15625 52.796875 32.3125 \nQ 56.78125 27.484375 56.78125 20.515625 \nQ 56.78125 9.90625 50.3125 4.234375 \nQ 43.84375 -1.421875 31.78125 -1.421875 \nQ 19.734375 -1.421875 13.25 4.234375 \nQ 6.78125 9.90625 6.78125 20.515625 \nQ 6.78125 27.484375 10.78125 32.3125 \nQ 14.796875 37.15625 21.921875 38.8125 \nz\nM 18.3125 54.390625 \nQ 18.3125 48.734375 21.84375 45.5625 \nQ 25.390625 42.390625 31.78125 42.390625 \nQ 38.140625 42.390625 41.71875 45.5625 \nQ 45.3125 48.734375 45.3125 54.390625 \nQ 45.3125 60.0625 41.71875 63.234375 \nQ 38.140625 66.40625 31.78125 66.40625 \nQ 25.390625 66.40625 21.84375 63.234375 \nQ 18.3125 60.0625 18.3125 54.390625 \nz\n\" id=\"DejaVuSans-56\"/>\n       </defs>\n       <use xlink:href=\"#DejaVuSans-48\"/>\n       <use x=\"63.623047\" xlink:href=\"#DejaVuSans-46\"/>\n       <use x=\"95.410156\" xlink:href=\"#DejaVuSans-53\"/>\n       <use x=\"159.033203\" xlink:href=\"#DejaVuSans-56\"/>\n      </g>\n     </g>\n    </g>\n    <g id=\"ytick_3\">\n     <g id=\"line2d_10\">\n      <g>\n       <use style=\"stroke:#000000;stroke-width:0.8;\" x=\"50.14375\" xlink:href=\"#m54c9e5651d\" y=\"163.484986\"/>\n      </g>\n     </g>\n     <g id=\"text_11\">\n      <!-- 0.60 -->\n      <g transform=\"translate(20.878125 167.284204)scale(0.1 -0.1)\">\n       <use xlink:href=\"#DejaVuSans-48\"/>\n       <use x=\"63.623047\" xlink:href=\"#DejaVuSans-46\"/>\n       <use x=\"95.410156\" xlink:href=\"#DejaVuSans-54\"/>\n       <use x=\"159.033203\" xlink:href=\"#DejaVuSans-48\"/>\n      </g>\n     </g>\n    </g>\n    <g id=\"ytick_4\">\n     <g id=\"line2d_11\">\n      <g>\n       <use style=\"stroke:#000000;stroke-width:0.8;\" x=\"50.14375\" xlink:href=\"#m54c9e5651d\" y=\"133.154578\"/>\n      </g>\n     </g>\n     <g id=\"text_12\">\n      <!-- 0.62 -->\n      <g transform=\"translate(20.878125 136.953797)scale(0.1 -0.1)\">\n       <use xlink:href=\"#DejaVuSans-48\"/>\n       <use x=\"63.623047\" xlink:href=\"#DejaVuSans-46\"/>\n       <use x=\"95.410156\" xlink:href=\"#DejaVuSans-54\"/>\n       <use x=\"159.033203\" xlink:href=\"#DejaVuSans-50\"/>\n      </g>\n     </g>\n    </g>\n    <g id=\"ytick_5\">\n     <g id=\"line2d_12\">\n      <g>\n       <use style=\"stroke:#000000;stroke-width:0.8;\" x=\"50.14375\" xlink:href=\"#m54c9e5651d\" y=\"102.82417\"/>\n      </g>\n     </g>\n     <g id=\"text_13\">\n      <!-- 0.64 -->\n      <g transform=\"translate(20.878125 106.623389)scale(0.1 -0.1)\">\n       <defs>\n        <path d=\"M 37.796875 64.3125 \nL 12.890625 25.390625 \nL 37.796875 25.390625 \nz\nM 35.203125 72.90625 \nL 47.609375 72.90625 \nL 47.609375 25.390625 \nL 58.015625 25.390625 \nL 58.015625 17.1875 \nL 47.609375 17.1875 \nL 47.609375 0 \nL 37.796875 0 \nL 37.796875 17.1875 \nL 4.890625 17.1875 \nL 4.890625 26.703125 \nz\n\" id=\"DejaVuSans-52\"/>\n       </defs>\n       <use xlink:href=\"#DejaVuSans-48\"/>\n       <use x=\"63.623047\" xlink:href=\"#DejaVuSans-46\"/>\n       <use x=\"95.410156\" xlink:href=\"#DejaVuSans-54\"/>\n       <use x=\"159.033203\" xlink:href=\"#DejaVuSans-52\"/>\n      </g>\n     </g>\n    </g>\n    <g id=\"ytick_6\">\n     <g id=\"line2d_13\">\n      <g>\n       <use style=\"stroke:#000000;stroke-width:0.8;\" x=\"50.14375\" xlink:href=\"#m54c9e5651d\" y=\"72.493763\"/>\n      </g>\n     </g>\n     <g id=\"text_14\">\n      <!-- 0.66 -->\n      <g transform=\"translate(20.878125 76.292982)scale(0.1 -0.1)\">\n       <use xlink:href=\"#DejaVuSans-48\"/>\n       <use x=\"63.623047\" xlink:href=\"#DejaVuSans-46\"/>\n       <use x=\"95.410156\" xlink:href=\"#DejaVuSans-54\"/>\n       <use x=\"159.033203\" xlink:href=\"#DejaVuSans-54\"/>\n      </g>\n     </g>\n    </g>\n    <g id=\"ytick_7\">\n     <g id=\"line2d_14\">\n      <g>\n       <use style=\"stroke:#000000;stroke-width:0.8;\" x=\"50.14375\" xlink:href=\"#m54c9e5651d\" y=\"42.163355\"/>\n      </g>\n     </g>\n     <g id=\"text_15\">\n      <!-- 0.68 -->\n      <g transform=\"translate(20.878125 45.962574)scale(0.1 -0.1)\">\n       <use xlink:href=\"#DejaVuSans-48\"/>\n       <use x=\"63.623047\" xlink:href=\"#DejaVuSans-46\"/>\n       <use x=\"95.410156\" xlink:href=\"#DejaVuSans-54\"/>\n       <use x=\"159.033203\" xlink:href=\"#DejaVuSans-56\"/>\n      </g>\n     </g>\n    </g>\n    <g id=\"ytick_8\">\n     <g id=\"line2d_15\">\n      <g>\n       <use style=\"stroke:#000000;stroke-width:0.8;\" x=\"50.14375\" xlink:href=\"#m54c9e5651d\" y=\"11.832948\"/>\n      </g>\n     </g>\n     <g id=\"text_16\">\n      <!-- 0.70 -->\n      <g transform=\"translate(20.878125 15.632166)scale(0.1 -0.1)\">\n       <defs>\n        <path d=\"M 8.203125 72.90625 \nL 55.078125 72.90625 \nL 55.078125 68.703125 \nL 28.609375 0 \nL 18.3125 0 \nL 43.21875 64.59375 \nL 8.203125 64.59375 \nz\n\" id=\"DejaVuSans-55\"/>\n       </defs>\n       <use xlink:href=\"#DejaVuSans-48\"/>\n       <use x=\"63.623047\" xlink:href=\"#DejaVuSans-46\"/>\n       <use x=\"95.410156\" xlink:href=\"#DejaVuSans-55\"/>\n       <use x=\"159.033203\" xlink:href=\"#DejaVuSans-48\"/>\n      </g>\n     </g>\n    </g>\n    <g id=\"text_17\">\n     <!-- accuracy -->\n     <g transform=\"translate(14.798438 138.479375)rotate(-90)scale(0.1 -0.1)\">\n      <defs>\n       <path d=\"M 34.28125 27.484375 \nQ 23.390625 27.484375 19.1875 25 \nQ 14.984375 22.515625 14.984375 16.5 \nQ 14.984375 11.71875 18.140625 8.90625 \nQ 21.296875 6.109375 26.703125 6.109375 \nQ 34.1875 6.109375 38.703125 11.40625 \nQ 43.21875 16.703125 43.21875 25.484375 \nL 43.21875 27.484375 \nz\nM 52.203125 31.203125 \nL 52.203125 0 \nL 43.21875 0 \nL 43.21875 8.296875 \nQ 40.140625 3.328125 35.546875 0.953125 \nQ 30.953125 -1.421875 24.3125 -1.421875 \nQ 15.921875 -1.421875 10.953125 3.296875 \nQ 6 8.015625 6 15.921875 \nQ 6 25.140625 12.171875 29.828125 \nQ 18.359375 34.515625 30.609375 34.515625 \nL 43.21875 34.515625 \nL 43.21875 35.40625 \nQ 43.21875 41.609375 39.140625 45 \nQ 35.0625 48.390625 27.6875 48.390625 \nQ 23 48.390625 18.546875 47.265625 \nQ 14.109375 46.140625 10.015625 43.890625 \nL 10.015625 52.203125 \nQ 14.9375 54.109375 19.578125 55.046875 \nQ 24.21875 56 28.609375 56 \nQ 40.484375 56 46.34375 49.84375 \nQ 52.203125 43.703125 52.203125 31.203125 \nz\n\" id=\"DejaVuSans-97\"/>\n       <path d=\"M 8.5 21.578125 \nL 8.5 54.6875 \nL 17.484375 54.6875 \nL 17.484375 21.921875 \nQ 17.484375 14.15625 20.5 10.265625 \nQ 23.53125 6.390625 29.59375 6.390625 \nQ 36.859375 6.390625 41.078125 11.03125 \nQ 45.3125 15.671875 45.3125 23.6875 \nL 45.3125 54.6875 \nL 54.296875 54.6875 \nL 54.296875 0 \nL 45.3125 0 \nL 45.3125 8.40625 \nQ 42.046875 3.421875 37.71875 1 \nQ 33.40625 -1.421875 27.6875 -1.421875 \nQ 18.265625 -1.421875 13.375 4.4375 \nQ 8.5 10.296875 8.5 21.578125 \nz\nM 31.109375 56 \nz\n\" id=\"DejaVuSans-117\"/>\n       <path d=\"M 41.109375 46.296875 \nQ 39.59375 47.171875 37.8125 47.578125 \nQ 36.03125 48 33.890625 48 \nQ 26.265625 48 22.1875 43.046875 \nQ 18.109375 38.09375 18.109375 28.8125 \nL 18.109375 0 \nL 9.078125 0 \nL 9.078125 54.6875 \nL 18.109375 54.6875 \nL 18.109375 46.1875 \nQ 20.953125 51.171875 25.484375 53.578125 \nQ 30.03125 56 36.53125 56 \nQ 37.453125 56 38.578125 55.875 \nQ 39.703125 55.765625 41.0625 55.515625 \nz\n\" id=\"DejaVuSans-114\"/>\n       <path d=\"M 32.171875 -5.078125 \nQ 28.375 -14.84375 24.75 -17.8125 \nQ 21.140625 -20.796875 15.09375 -20.796875 \nL 7.90625 -20.796875 \nL 7.90625 -13.28125 \nL 13.1875 -13.28125 \nQ 16.890625 -13.28125 18.9375 -11.515625 \nQ 21 -9.765625 23.484375 -3.21875 \nL 25.09375 0.875 \nL 2.984375 54.6875 \nL 12.5 54.6875 \nL 29.59375 11.921875 \nL 46.6875 54.6875 \nL 56.203125 54.6875 \nz\n\" id=\"DejaVuSans-121\"/>\n      </defs>\n      <use xlink:href=\"#DejaVuSans-97\"/>\n      <use x=\"61.279297\" xlink:href=\"#DejaVuSans-99\"/>\n      <use x=\"116.259766\" xlink:href=\"#DejaVuSans-99\"/>\n      <use x=\"171.240234\" xlink:href=\"#DejaVuSans-117\"/>\n      <use x=\"234.619141\" xlink:href=\"#DejaVuSans-114\"/>\n      <use x=\"275.732422\" xlink:href=\"#DejaVuSans-97\"/>\n      <use x=\"337.011719\" xlink:href=\"#DejaVuSans-99\"/>\n      <use x=\"391.992188\" xlink:href=\"#DejaVuSans-121\"/>\n     </g>\n    </g>\n   </g>\n   <g id=\"line2d_16\">\n    <path clip-path=\"url(#p3320adf26f)\" d=\"M 65.361932 214.756364 \nL 66.37987 159.160884 \nL 67.397809 109.742679 \nL 68.415748 112.831362 \nL 69.433686 97.388128 \nL 70.451625 69.590433 \nL 71.469563 51.058607 \nL 72.487502 134.451781 \nL 73.50544 125.185913 \nL 74.523379 47.970014 \nL 75.541318 32.52678 \nL 76.559256 63.413158 \nL 77.577195 23.260912 \nL 78.595133 17.083636 \nL 79.613072 32.52678 \nL 80.631011 35.615463 \nL 81.648949 23.260912 \nL 90.810396 23.260912 \nL 91.828335 20.172229 \nL 93.864212 26.349504 \nL 94.882151 23.260912 \nL 369.725568 23.260912 \nL 369.725568 23.260912 \n\" style=\"fill:none;stroke:#1f77b4;stroke-linecap:square;stroke-width:1.5;\"/>\n   </g>\n   <g id=\"patch_3\">\n    <path d=\"M 50.14375 224.64 \nL 50.14375 7.2 \n\" style=\"fill:none;stroke:#000000;stroke-linecap:square;stroke-linejoin:miter;stroke-width:0.8;\"/>\n   </g>\n   <g id=\"patch_4\">\n    <path d=\"M 384.94375 224.64 \nL 384.94375 7.2 \n\" style=\"fill:none;stroke:#000000;stroke-linecap:square;stroke-linejoin:miter;stroke-width:0.8;\"/>\n   </g>\n   <g id=\"patch_5\">\n    <path d=\"M 50.14375 224.64 \nL 384.94375 224.64 \n\" style=\"fill:none;stroke:#000000;stroke-linecap:square;stroke-linejoin:miter;stroke-width:0.8;\"/>\n   </g>\n   <g id=\"patch_6\">\n    <path d=\"M 50.14375 7.2 \nL 384.94375 7.2 \n\" style=\"fill:none;stroke:#000000;stroke-linecap:square;stroke-linejoin:miter;stroke-width:0.8;\"/>\n   </g>\n  </g>\n </g>\n <defs>\n  <clipPath id=\"p3320adf26f\">\n   <rect height=\"217.44\" width=\"334.8\" x=\"50.14375\" y=\"7.2\"/>\n  </clipPath>\n </defs>\n</svg>\n",
      "image/png": "[encoded data removed]"
     },
     "metadata": {
      "needs_background": "light"
     }
    }
   ],
   "source": [
    "plt.plot(model.history.epoch, model.history.history['accuracy'])\n",
    "plt.xlabel('epochs')\n",
    "plt.ylabel('accuracy')"
   ]
  },
  {
   "cell_type": "code",
   "execution_count": 109,
   "metadata": {},
   "outputs": [
    {
     "output_type": "execute_result",
     "data": {
      "text/plain": [
       "Text(0, 0.5, 'loss')"
      ]
     },
     "metadata": {},
     "execution_count": 109
    },
    {
     "output_type": "display_data",
     "data": {
      "text/plain": "<Figure size 432x288 with 1 Axes>",
      "image/svg+xml": "<?xml version=\"1.0\" encoding=\"utf-8\" standalone=\"no\"?>\n<!DOCTYPE svg PUBLIC \"-//W3C//DTD SVG 1.1//EN\"\n  \"http://www.w3.org/Graphics/SVG/1.1/DTD/svg11.dtd\">\n<!-- Created with matplotlib (https://matplotlib.org/) -->\n<svg height=\"262.19625pt\" version=\"1.1\" viewBox=\"0 0 376.240625 262.19625\" width=\"376.240625pt\" xmlns=\"http://www.w3.org/2000/svg\" xmlns:xlink=\"http://www.w3.org/1999/xlink\">\n <metadata>\n  <rdf:RDF xmlns:cc=\"http://creativecommons.org/ns#\" xmlns:dc=\"http://purl.org/dc/elements/1.1/\" xmlns:rdf=\"http://www.w3.org/1999/02/22-rdf-syntax-ns#\">\n   <cc:Work>\n    <dc:type rdf:resource=\"http://purl.org/dc/dcmitype/StillImage\"/>\n    <dc:date>2020-11-10T16:48:10.541896</dc:date>\n    <dc:format>image/svg+xml</dc:format>\n    <dc:creator>\n     <cc:Agent>\n      <dc:title>Matplotlib v3.3.2, https://matplotlib.org/</dc:title>\n     </cc:Agent>\n    </dc:creator>\n   </cc:Work>\n  </rdf:RDF>\n </metadata>\n <defs>\n  <style type=\"text/css\">*{stroke-linecap:butt;stroke-linejoin:round;}</style>\n </defs>\n <g id=\"figure_1\">\n  <g id=\"patch_1\">\n   <path d=\"M 0 262.19625 \nL 376.240625 262.19625 \nL 376.240625 0 \nL 0 0 \nz\n\" style=\"fill:none;\"/>\n  </g>\n  <g id=\"axes_1\">\n   <g id=\"patch_2\">\n    <path d=\"M 34.240625 224.64 \nL 369.040625 224.64 \nL 369.040625 7.2 \nL 34.240625 7.2 \nz\n\" style=\"fill:#ffffff;\"/>\n   </g>\n   <g id=\"matplotlib.axis_1\">\n    <g id=\"xtick_1\">\n     <g id=\"line2d_1\">\n      <defs>\n       <path d=\"M 0 0 \nL 0 3.5 \n\" id=\"m2abf5471a7\" style=\"stroke:#000000;stroke-width:0.8;\"/>\n      </defs>\n      <g>\n       <use style=\"stroke:#000000;stroke-width:0.8;\" x=\"49.458807\" xlink:href=\"#m2abf5471a7\" y=\"224.64\"/>\n      </g>\n     </g>\n     <g id=\"text_1\">\n      <!-- 0 -->\n      <g transform=\"translate(46.277557 239.238437)scale(0.1 -0.1)\">\n       <defs>\n        <path d=\"M 31.78125 66.40625 \nQ 24.171875 66.40625 20.328125 58.90625 \nQ 16.5 51.421875 16.5 36.375 \nQ 16.5 21.390625 20.328125 13.890625 \nQ 24.171875 6.390625 31.78125 6.390625 \nQ 39.453125 6.390625 43.28125 13.890625 \nQ 47.125 21.390625 47.125 36.375 \nQ 47.125 51.421875 43.28125 58.90625 \nQ 39.453125 66.40625 31.78125 66.40625 \nz\nM 31.78125 74.21875 \nQ 44.046875 74.21875 50.515625 64.515625 \nQ 56.984375 54.828125 56.984375 36.375 \nQ 56.984375 17.96875 50.515625 8.265625 \nQ 44.046875 -1.421875 31.78125 -1.421875 \nQ 19.53125 -1.421875 13.0625 8.265625 \nQ 6.59375 17.96875 6.59375 36.375 \nQ 6.59375 54.828125 13.0625 64.515625 \nQ 19.53125 74.21875 31.78125 74.21875 \nz\n\" id=\"DejaVuSans-48\"/>\n       </defs>\n       <use xlink:href=\"#DejaVuSans-48\"/>\n      </g>\n     </g>\n    </g>\n    <g id=\"xtick_2\">\n     <g id=\"line2d_2\">\n      <g>\n       <use style=\"stroke:#000000;stroke-width:0.8;\" x=\"100.355736\" xlink:href=\"#m2abf5471a7\" y=\"224.64\"/>\n      </g>\n     </g>\n     <g id=\"text_2\">\n      <!-- 50 -->\n      <g transform=\"translate(93.993236 239.238437)scale(0.1 -0.1)\">\n       <defs>\n        <path d=\"M 10.796875 72.90625 \nL 49.515625 72.90625 \nL 49.515625 64.59375 \nL 19.828125 64.59375 \nL 19.828125 46.734375 \nQ 21.96875 47.46875 24.109375 47.828125 \nQ 26.265625 48.1875 28.421875 48.1875 \nQ 40.625 48.1875 47.75 41.5 \nQ 54.890625 34.8125 54.890625 23.390625 \nQ 54.890625 11.625 47.5625 5.09375 \nQ 40.234375 -1.421875 26.90625 -1.421875 \nQ 22.3125 -1.421875 17.546875 -0.640625 \nQ 12.796875 0.140625 7.71875 1.703125 \nL 7.71875 11.625 \nQ 12.109375 9.234375 16.796875 8.0625 \nQ 21.484375 6.890625 26.703125 6.890625 \nQ 35.15625 6.890625 40.078125 11.328125 \nQ 45.015625 15.765625 45.015625 23.390625 \nQ 45.015625 31 40.078125 35.4375 \nQ 35.15625 39.890625 26.703125 39.890625 \nQ 22.75 39.890625 18.8125 39.015625 \nQ 14.890625 38.140625 10.796875 36.28125 \nz\n\" id=\"DejaVuSans-53\"/>\n       </defs>\n       <use xlink:href=\"#DejaVuSans-53\"/>\n       <use x=\"63.623047\" xlink:href=\"#DejaVuSans-48\"/>\n      </g>\n     </g>\n    </g>\n    <g id=\"xtick_3\">\n     <g id=\"line2d_3\">\n      <g>\n       <use style=\"stroke:#000000;stroke-width:0.8;\" x=\"151.252665\" xlink:href=\"#m2abf5471a7\" y=\"224.64\"/>\n      </g>\n     </g>\n     <g id=\"text_3\">\n      <!-- 100 -->\n      <g transform=\"translate(141.708915 239.238437)scale(0.1 -0.1)\">\n       <defs>\n        <path d=\"M 12.40625 8.296875 \nL 28.515625 8.296875 \nL 28.515625 63.921875 \nL 10.984375 60.40625 \nL 10.984375 69.390625 \nL 28.421875 72.90625 \nL 38.28125 72.90625 \nL 38.28125 8.296875 \nL 54.390625 8.296875 \nL 54.390625 0 \nL 12.40625 0 \nz\n\" id=\"DejaVuSans-49\"/>\n       </defs>\n       <use xlink:href=\"#DejaVuSans-49\"/>\n       <use x=\"63.623047\" xlink:href=\"#DejaVuSans-48\"/>\n       <use x=\"127.246094\" xlink:href=\"#DejaVuSans-48\"/>\n      </g>\n     </g>\n    </g>\n    <g id=\"xtick_4\">\n     <g id=\"line2d_4\">\n      <g>\n       <use style=\"stroke:#000000;stroke-width:0.8;\" x=\"202.149594\" xlink:href=\"#m2abf5471a7\" y=\"224.64\"/>\n      </g>\n     </g>\n     <g id=\"text_4\">\n      <!-- 150 -->\n      <g transform=\"translate(192.605844 239.238437)scale(0.1 -0.1)\">\n       <use xlink:href=\"#DejaVuSans-49\"/>\n       <use x=\"63.623047\" xlink:href=\"#DejaVuSans-53\"/>\n       <use x=\"127.246094\" xlink:href=\"#DejaVuSans-48\"/>\n      </g>\n     </g>\n    </g>\n    <g id=\"xtick_5\">\n     <g id=\"line2d_5\">\n      <g>\n       <use style=\"stroke:#000000;stroke-width:0.8;\" x=\"253.046523\" xlink:href=\"#m2abf5471a7\" y=\"224.64\"/>\n      </g>\n     </g>\n     <g id=\"text_5\">\n      <!-- 200 -->\n      <g transform=\"translate(243.502773 239.238437)scale(0.1 -0.1)\">\n       <defs>\n        <path d=\"M 19.1875 8.296875 \nL 53.609375 8.296875 \nL 53.609375 0 \nL 7.328125 0 \nL 7.328125 8.296875 \nQ 12.9375 14.109375 22.625 23.890625 \nQ 32.328125 33.6875 34.8125 36.53125 \nQ 39.546875 41.84375 41.421875 45.53125 \nQ 43.3125 49.21875 43.3125 52.78125 \nQ 43.3125 58.59375 39.234375 62.25 \nQ 35.15625 65.921875 28.609375 65.921875 \nQ 23.96875 65.921875 18.8125 64.3125 \nQ 13.671875 62.703125 7.8125 59.421875 \nL 7.8125 69.390625 \nQ 13.765625 71.78125 18.9375 73 \nQ 24.125 74.21875 28.421875 74.21875 \nQ 39.75 74.21875 46.484375 68.546875 \nQ 53.21875 62.890625 53.21875 53.421875 \nQ 53.21875 48.921875 51.53125 44.890625 \nQ 49.859375 40.875 45.40625 35.40625 \nQ 44.1875 33.984375 37.640625 27.21875 \nQ 31.109375 20.453125 19.1875 8.296875 \nz\n\" id=\"DejaVuSans-50\"/>\n       </defs>\n       <use xlink:href=\"#DejaVuSans-50\"/>\n       <use x=\"63.623047\" xlink:href=\"#DejaVuSans-48\"/>\n       <use x=\"127.246094\" xlink:href=\"#DejaVuSans-48\"/>\n      </g>\n     </g>\n    </g>\n    <g id=\"xtick_6\">\n     <g id=\"line2d_6\">\n      <g>\n       <use style=\"stroke:#000000;stroke-width:0.8;\" x=\"303.943453\" xlink:href=\"#m2abf5471a7\" y=\"224.64\"/>\n      </g>\n     </g>\n     <g id=\"text_6\">\n      <!-- 250 -->\n      <g transform=\"translate(294.399703 239.238437)scale(0.1 -0.1)\">\n       <use xlink:href=\"#DejaVuSans-50\"/>\n       <use x=\"63.623047\" xlink:href=\"#DejaVuSans-53\"/>\n       <use x=\"127.246094\" xlink:href=\"#DejaVuSans-48\"/>\n      </g>\n     </g>\n    </g>\n    <g id=\"xtick_7\">\n     <g id=\"line2d_7\">\n      <g>\n       <use style=\"stroke:#000000;stroke-width:0.8;\" x=\"354.840382\" xlink:href=\"#m2abf5471a7\" y=\"224.64\"/>\n      </g>\n     </g>\n     <g id=\"text_7\">\n      <!-- 300 -->\n      <g transform=\"translate(345.296632 239.238437)scale(0.1 -0.1)\">\n       <defs>\n        <path d=\"M 40.578125 39.3125 \nQ 47.65625 37.796875 51.625 33 \nQ 55.609375 28.21875 55.609375 21.1875 \nQ 55.609375 10.40625 48.1875 4.484375 \nQ 40.765625 -1.421875 27.09375 -1.421875 \nQ 22.515625 -1.421875 17.65625 -0.515625 \nQ 12.796875 0.390625 7.625 2.203125 \nL 7.625 11.71875 \nQ 11.71875 9.328125 16.59375 8.109375 \nQ 21.484375 6.890625 26.8125 6.890625 \nQ 36.078125 6.890625 40.9375 10.546875 \nQ 45.796875 14.203125 45.796875 21.1875 \nQ 45.796875 27.640625 41.28125 31.265625 \nQ 36.765625 34.90625 28.71875 34.90625 \nL 20.21875 34.90625 \nL 20.21875 43.015625 \nL 29.109375 43.015625 \nQ 36.375 43.015625 40.234375 45.921875 \nQ 44.09375 48.828125 44.09375 54.296875 \nQ 44.09375 59.90625 40.109375 62.90625 \nQ 36.140625 65.921875 28.71875 65.921875 \nQ 24.65625 65.921875 20.015625 65.03125 \nQ 15.375 64.15625 9.8125 62.3125 \nL 9.8125 71.09375 \nQ 15.4375 72.65625 20.34375 73.4375 \nQ 25.25 74.21875 29.59375 74.21875 \nQ 40.828125 74.21875 47.359375 69.109375 \nQ 53.90625 64.015625 53.90625 55.328125 \nQ 53.90625 49.265625 50.4375 45.09375 \nQ 46.96875 40.921875 40.578125 39.3125 \nz\n\" id=\"DejaVuSans-51\"/>\n       </defs>\n       <use xlink:href=\"#DejaVuSans-51\"/>\n       <use x=\"63.623047\" xlink:href=\"#DejaVuSans-48\"/>\n       <use x=\"127.246094\" xlink:href=\"#DejaVuSans-48\"/>\n      </g>\n     </g>\n    </g>\n    <g id=\"text_8\">\n     <!-- epochs -->\n     <g transform=\"translate(183.807813 252.916562)scale(0.1 -0.1)\">\n      <defs>\n       <path d=\"M 56.203125 29.59375 \nL 56.203125 25.203125 \nL 14.890625 25.203125 \nQ 15.484375 15.921875 20.484375 11.0625 \nQ 25.484375 6.203125 34.421875 6.203125 \nQ 39.59375 6.203125 44.453125 7.46875 \nQ 49.3125 8.734375 54.109375 11.28125 \nL 54.109375 2.78125 \nQ 49.265625 0.734375 44.1875 -0.34375 \nQ 39.109375 -1.421875 33.890625 -1.421875 \nQ 20.796875 -1.421875 13.15625 6.1875 \nQ 5.515625 13.8125 5.515625 26.8125 \nQ 5.515625 40.234375 12.765625 48.109375 \nQ 20.015625 56 32.328125 56 \nQ 43.359375 56 49.78125 48.890625 \nQ 56.203125 41.796875 56.203125 29.59375 \nz\nM 47.21875 32.234375 \nQ 47.125 39.59375 43.09375 43.984375 \nQ 39.0625 48.390625 32.421875 48.390625 \nQ 24.90625 48.390625 20.390625 44.140625 \nQ 15.875 39.890625 15.1875 32.171875 \nz\n\" id=\"DejaVuSans-101\"/>\n       <path d=\"M 18.109375 8.203125 \nL 18.109375 -20.796875 \nL 9.078125 -20.796875 \nL 9.078125 54.6875 \nL 18.109375 54.6875 \nL 18.109375 46.390625 \nQ 20.953125 51.265625 25.265625 53.625 \nQ 29.59375 56 35.59375 56 \nQ 45.5625 56 51.78125 48.09375 \nQ 58.015625 40.1875 58.015625 27.296875 \nQ 58.015625 14.40625 51.78125 6.484375 \nQ 45.5625 -1.421875 35.59375 -1.421875 \nQ 29.59375 -1.421875 25.265625 0.953125 \nQ 20.953125 3.328125 18.109375 8.203125 \nz\nM 48.6875 27.296875 \nQ 48.6875 37.203125 44.609375 42.84375 \nQ 40.53125 48.484375 33.40625 48.484375 \nQ 26.265625 48.484375 22.1875 42.84375 \nQ 18.109375 37.203125 18.109375 27.296875 \nQ 18.109375 17.390625 22.1875 11.75 \nQ 26.265625 6.109375 33.40625 6.109375 \nQ 40.53125 6.109375 44.609375 11.75 \nQ 48.6875 17.390625 48.6875 27.296875 \nz\n\" id=\"DejaVuSans-112\"/>\n       <path d=\"M 30.609375 48.390625 \nQ 23.390625 48.390625 19.1875 42.75 \nQ 14.984375 37.109375 14.984375 27.296875 \nQ 14.984375 17.484375 19.15625 11.84375 \nQ 23.34375 6.203125 30.609375 6.203125 \nQ 37.796875 6.203125 41.984375 11.859375 \nQ 46.1875 17.53125 46.1875 27.296875 \nQ 46.1875 37.015625 41.984375 42.703125 \nQ 37.796875 48.390625 30.609375 48.390625 \nz\nM 30.609375 56 \nQ 42.328125 56 49.015625 48.375 \nQ 55.71875 40.765625 55.71875 27.296875 \nQ 55.71875 13.875 49.015625 6.21875 \nQ 42.328125 -1.421875 30.609375 -1.421875 \nQ 18.84375 -1.421875 12.171875 6.21875 \nQ 5.515625 13.875 5.515625 27.296875 \nQ 5.515625 40.765625 12.171875 48.375 \nQ 18.84375 56 30.609375 56 \nz\n\" id=\"DejaVuSans-111\"/>\n       <path d=\"M 48.78125 52.59375 \nL 48.78125 44.1875 \nQ 44.96875 46.296875 41.140625 47.34375 \nQ 37.3125 48.390625 33.40625 48.390625 \nQ 24.65625 48.390625 19.8125 42.84375 \nQ 14.984375 37.3125 14.984375 27.296875 \nQ 14.984375 17.28125 19.8125 11.734375 \nQ 24.65625 6.203125 33.40625 6.203125 \nQ 37.3125 6.203125 41.140625 7.25 \nQ 44.96875 8.296875 48.78125 10.40625 \nL 48.78125 2.09375 \nQ 45.015625 0.34375 40.984375 -0.53125 \nQ 36.96875 -1.421875 32.421875 -1.421875 \nQ 20.0625 -1.421875 12.78125 6.34375 \nQ 5.515625 14.109375 5.515625 27.296875 \nQ 5.515625 40.671875 12.859375 48.328125 \nQ 20.21875 56 33.015625 56 \nQ 37.15625 56 41.109375 55.140625 \nQ 45.0625 54.296875 48.78125 52.59375 \nz\n\" id=\"DejaVuSans-99\"/>\n       <path d=\"M 54.890625 33.015625 \nL 54.890625 0 \nL 45.90625 0 \nL 45.90625 32.71875 \nQ 45.90625 40.484375 42.875 44.328125 \nQ 39.84375 48.1875 33.796875 48.1875 \nQ 26.515625 48.1875 22.3125 43.546875 \nQ 18.109375 38.921875 18.109375 30.90625 \nL 18.109375 0 \nL 9.078125 0 \nL 9.078125 75.984375 \nL 18.109375 75.984375 \nL 18.109375 46.1875 \nQ 21.34375 51.125 25.703125 53.5625 \nQ 30.078125 56 35.796875 56 \nQ 45.21875 56 50.046875 50.171875 \nQ 54.890625 44.34375 54.890625 33.015625 \nz\n\" id=\"DejaVuSans-104\"/>\n       <path d=\"M 44.28125 53.078125 \nL 44.28125 44.578125 \nQ 40.484375 46.53125 36.375 47.5 \nQ 32.28125 48.484375 27.875 48.484375 \nQ 21.1875 48.484375 17.84375 46.4375 \nQ 14.5 44.390625 14.5 40.28125 \nQ 14.5 37.15625 16.890625 35.375 \nQ 19.28125 33.59375 26.515625 31.984375 \nL 29.59375 31.296875 \nQ 39.15625 29.25 43.1875 25.515625 \nQ 47.21875 21.78125 47.21875 15.09375 \nQ 47.21875 7.46875 41.1875 3.015625 \nQ 35.15625 -1.421875 24.609375 -1.421875 \nQ 20.21875 -1.421875 15.453125 -0.5625 \nQ 10.6875 0.296875 5.421875 2 \nL 5.421875 11.28125 \nQ 10.40625 8.6875 15.234375 7.390625 \nQ 20.0625 6.109375 24.8125 6.109375 \nQ 31.15625 6.109375 34.5625 8.28125 \nQ 37.984375 10.453125 37.984375 14.40625 \nQ 37.984375 18.0625 35.515625 20.015625 \nQ 33.0625 21.96875 24.703125 23.78125 \nL 21.578125 24.515625 \nQ 13.234375 26.265625 9.515625 29.90625 \nQ 5.8125 33.546875 5.8125 39.890625 \nQ 5.8125 47.609375 11.28125 51.796875 \nQ 16.75 56 26.8125 56 \nQ 31.78125 56 36.171875 55.265625 \nQ 40.578125 54.546875 44.28125 53.078125 \nz\n\" id=\"DejaVuSans-115\"/>\n      </defs>\n      <use xlink:href=\"#DejaVuSans-101\"/>\n      <use x=\"61.523438\" xlink:href=\"#DejaVuSans-112\"/>\n      <use x=\"125\" xlink:href=\"#DejaVuSans-111\"/>\n      <use x=\"186.181641\" xlink:href=\"#DejaVuSans-99\"/>\n      <use x=\"241.162109\" xlink:href=\"#DejaVuSans-104\"/>\n      <use x=\"304.541016\" xlink:href=\"#DejaVuSans-115\"/>\n     </g>\n    </g>\n   </g>\n   <g id=\"matplotlib.axis_2\">\n    <g id=\"ytick_1\">\n     <g id=\"line2d_8\">\n      <defs>\n       <path d=\"M 0 0 \nL -3.5 0 \n\" id=\"m661a1b3808\" style=\"stroke:#000000;stroke-width:0.8;\"/>\n      </defs>\n      <g>\n       <use style=\"stroke:#000000;stroke-width:0.8;\" x=\"34.240625\" xlink:href=\"#m661a1b3808\" y=\"204.502443\"/>\n      </g>\n     </g>\n     <g id=\"text_9\">\n      <!-- 1 -->\n      <g transform=\"translate(20.878125 208.301661)scale(0.1 -0.1)\">\n       <use xlink:href=\"#DejaVuSans-49\"/>\n      </g>\n     </g>\n    </g>\n    <g id=\"ytick_2\">\n     <g id=\"line2d_9\">\n      <g>\n       <use style=\"stroke:#000000;stroke-width:0.8;\" x=\"34.240625\" xlink:href=\"#m661a1b3808\" y=\"177.722208\"/>\n      </g>\n     </g>\n     <g id=\"text_10\">\n      <!-- 2 -->\n      <g transform=\"translate(20.878125 181.521427)scale(0.1 -0.1)\">\n       <use xlink:href=\"#DejaVuSans-50\"/>\n      </g>\n     </g>\n    </g>\n    <g id=\"ytick_3\">\n     <g id=\"line2d_10\">\n      <g>\n       <use style=\"stroke:#000000;stroke-width:0.8;\" x=\"34.240625\" xlink:href=\"#m661a1b3808\" y=\"150.941974\"/>\n      </g>\n     </g>\n     <g id=\"text_11\">\n      <!-- 3 -->\n      <g transform=\"translate(20.878125 154.741193)scale(0.1 -0.1)\">\n       <use xlink:href=\"#DejaVuSans-51\"/>\n      </g>\n     </g>\n    </g>\n    <g id=\"ytick_4\">\n     <g id=\"line2d_11\">\n      <g>\n       <use style=\"stroke:#000000;stroke-width:0.8;\" x=\"34.240625\" xlink:href=\"#m661a1b3808\" y=\"124.16174\"/>\n      </g>\n     </g>\n     <g id=\"text_12\">\n      <!-- 4 -->\n      <g transform=\"translate(20.878125 127.960958)scale(0.1 -0.1)\">\n       <defs>\n        <path d=\"M 37.796875 64.3125 \nL 12.890625 25.390625 \nL 37.796875 25.390625 \nz\nM 35.203125 72.90625 \nL 47.609375 72.90625 \nL 47.609375 25.390625 \nL 58.015625 25.390625 \nL 58.015625 17.1875 \nL 47.609375 17.1875 \nL 47.609375 0 \nL 37.796875 0 \nL 37.796875 17.1875 \nL 4.890625 17.1875 \nL 4.890625 26.703125 \nz\n\" id=\"DejaVuSans-52\"/>\n       </defs>\n       <use xlink:href=\"#DejaVuSans-52\"/>\n      </g>\n     </g>\n    </g>\n    <g id=\"ytick_5\">\n     <g id=\"line2d_12\">\n      <g>\n       <use style=\"stroke:#000000;stroke-width:0.8;\" x=\"34.240625\" xlink:href=\"#m661a1b3808\" y=\"97.381505\"/>\n      </g>\n     </g>\n     <g id=\"text_13\">\n      <!-- 5 -->\n      <g transform=\"translate(20.878125 101.180724)scale(0.1 -0.1)\">\n       <use xlink:href=\"#DejaVuSans-53\"/>\n      </g>\n     </g>\n    </g>\n    <g id=\"ytick_6\">\n     <g id=\"line2d_13\">\n      <g>\n       <use style=\"stroke:#000000;stroke-width:0.8;\" x=\"34.240625\" xlink:href=\"#m661a1b3808\" y=\"70.601271\"/>\n      </g>\n     </g>\n     <g id=\"text_14\">\n      <!-- 6 -->\n      <g transform=\"translate(20.878125 74.40049)scale(0.1 -0.1)\">\n       <defs>\n        <path d=\"M 33.015625 40.375 \nQ 26.375 40.375 22.484375 35.828125 \nQ 18.609375 31.296875 18.609375 23.390625 \nQ 18.609375 15.53125 22.484375 10.953125 \nQ 26.375 6.390625 33.015625 6.390625 \nQ 39.65625 6.390625 43.53125 10.953125 \nQ 47.40625 15.53125 47.40625 23.390625 \nQ 47.40625 31.296875 43.53125 35.828125 \nQ 39.65625 40.375 33.015625 40.375 \nz\nM 52.59375 71.296875 \nL 52.59375 62.3125 \nQ 48.875 64.0625 45.09375 64.984375 \nQ 41.3125 65.921875 37.59375 65.921875 \nQ 27.828125 65.921875 22.671875 59.328125 \nQ 17.53125 52.734375 16.796875 39.40625 \nQ 19.671875 43.65625 24.015625 45.921875 \nQ 28.375 48.1875 33.59375 48.1875 \nQ 44.578125 48.1875 50.953125 41.515625 \nQ 57.328125 34.859375 57.328125 23.390625 \nQ 57.328125 12.15625 50.6875 5.359375 \nQ 44.046875 -1.421875 33.015625 -1.421875 \nQ 20.359375 -1.421875 13.671875 8.265625 \nQ 6.984375 17.96875 6.984375 36.375 \nQ 6.984375 53.65625 15.1875 63.9375 \nQ 23.390625 74.21875 37.203125 74.21875 \nQ 40.921875 74.21875 44.703125 73.484375 \nQ 48.484375 72.75 52.59375 71.296875 \nz\n\" id=\"DejaVuSans-54\"/>\n       </defs>\n       <use xlink:href=\"#DejaVuSans-54\"/>\n      </g>\n     </g>\n    </g>\n    <g id=\"ytick_7\">\n     <g id=\"line2d_14\">\n      <g>\n       <use style=\"stroke:#000000;stroke-width:0.8;\" x=\"34.240625\" xlink:href=\"#m661a1b3808\" y=\"43.821037\"/>\n      </g>\n     </g>\n     <g id=\"text_15\">\n      <!-- 7 -->\n      <g transform=\"translate(20.878125 47.620256)scale(0.1 -0.1)\">\n       <defs>\n        <path d=\"M 8.203125 72.90625 \nL 55.078125 72.90625 \nL 55.078125 68.703125 \nL 28.609375 0 \nL 18.3125 0 \nL 43.21875 64.59375 \nL 8.203125 64.59375 \nz\n\" id=\"DejaVuSans-55\"/>\n       </defs>\n       <use xlink:href=\"#DejaVuSans-55\"/>\n      </g>\n     </g>\n    </g>\n    <g id=\"ytick_8\">\n     <g id=\"line2d_15\">\n      <g>\n       <use style=\"stroke:#000000;stroke-width:0.8;\" x=\"34.240625\" xlink:href=\"#m661a1b3808\" y=\"17.040803\"/>\n      </g>\n     </g>\n     <g id=\"text_16\">\n      <!-- 8 -->\n      <g transform=\"translate(20.878125 20.840021)scale(0.1 -0.1)\">\n       <defs>\n        <path d=\"M 31.78125 34.625 \nQ 24.75 34.625 20.71875 30.859375 \nQ 16.703125 27.09375 16.703125 20.515625 \nQ 16.703125 13.921875 20.71875 10.15625 \nQ 24.75 6.390625 31.78125 6.390625 \nQ 38.8125 6.390625 42.859375 10.171875 \nQ 46.921875 13.96875 46.921875 20.515625 \nQ 46.921875 27.09375 42.890625 30.859375 \nQ 38.875 34.625 31.78125 34.625 \nz\nM 21.921875 38.8125 \nQ 15.578125 40.375 12.03125 44.71875 \nQ 8.5 49.078125 8.5 55.328125 \nQ 8.5 64.0625 14.71875 69.140625 \nQ 20.953125 74.21875 31.78125 74.21875 \nQ 42.671875 74.21875 48.875 69.140625 \nQ 55.078125 64.0625 55.078125 55.328125 \nQ 55.078125 49.078125 51.53125 44.71875 \nQ 48 40.375 41.703125 38.8125 \nQ 48.828125 37.15625 52.796875 32.3125 \nQ 56.78125 27.484375 56.78125 20.515625 \nQ 56.78125 9.90625 50.3125 4.234375 \nQ 43.84375 -1.421875 31.78125 -1.421875 \nQ 19.734375 -1.421875 13.25 4.234375 \nQ 6.78125 9.90625 6.78125 20.515625 \nQ 6.78125 27.484375 10.78125 32.3125 \nQ 14.796875 37.15625 21.921875 38.8125 \nz\nM 18.3125 54.390625 \nQ 18.3125 48.734375 21.84375 45.5625 \nQ 25.390625 42.390625 31.78125 42.390625 \nQ 38.140625 42.390625 41.71875 45.5625 \nQ 45.3125 48.734375 45.3125 54.390625 \nQ 45.3125 60.0625 41.71875 63.234375 \nQ 38.140625 66.40625 31.78125 66.40625 \nQ 25.390625 66.40625 21.84375 63.234375 \nQ 18.3125 60.0625 18.3125 54.390625 \nz\n\" id=\"DejaVuSans-56\"/>\n       </defs>\n       <use xlink:href=\"#DejaVuSans-56\"/>\n      </g>\n     </g>\n    </g>\n    <g id=\"text_17\">\n     <!-- loss -->\n     <g transform=\"translate(14.798437 125.577812)rotate(-90)scale(0.1 -0.1)\">\n      <defs>\n       <path d=\"M 9.421875 75.984375 \nL 18.40625 75.984375 \nL 18.40625 0 \nL 9.421875 0 \nz\n\" id=\"DejaVuSans-108\"/>\n      </defs>\n      <use xlink:href=\"#DejaVuSans-108\"/>\n      <use x=\"27.783203\" xlink:href=\"#DejaVuSans-111\"/>\n      <use x=\"88.964844\" xlink:href=\"#DejaVuSans-115\"/>\n      <use x=\"141.064453\" xlink:href=\"#DejaVuSans-115\"/>\n     </g>\n    </g>\n   </g>\n   <g id=\"line2d_16\">\n    <path clip-path=\"url(#paaadbbc6dc)\" d=\"M 49.458807 17.083636 \nL 50.476745 161.755395 \nL 51.494684 191.116263 \nL 52.512623 202.063429 \nL 53.530561 207.473515 \nL 54.5485 209.908582 \nL 55.566438 211.834921 \nL 56.584377 207.275652 \nL 57.602315 203.233715 \nL 58.620254 211.333969 \nL 59.638193 212.894736 \nL 60.656131 212.810651 \nL 61.67407 213.688608 \nL 62.692008 213.903365 \nL 63.709947 213.902409 \nL 64.727886 213.64045 \nL 65.745824 214.061145 \nL 67.781701 214.222499 \nL 68.79964 212.065715 \nL 69.817578 214.330008 \nL 77.961087 214.495043 \nL 78.979026 214.665858 \nL 79.996964 214.421917 \nL 81.014903 214.570293 \nL 91.194289 214.706282 \nL 94.248104 214.719826 \nL 110.535122 214.746585 \nL 194.006086 214.755192 \nL 353.822443 214.754454 \nL 353.822443 214.754454 \n\" style=\"fill:none;stroke:#1f77b4;stroke-linecap:square;stroke-width:1.5;\"/>\n   </g>\n   <g id=\"patch_3\">\n    <path d=\"M 34.240625 224.64 \nL 34.240625 7.2 \n\" style=\"fill:none;stroke:#000000;stroke-linecap:square;stroke-linejoin:miter;stroke-width:0.8;\"/>\n   </g>\n   <g id=\"patch_4\">\n    <path d=\"M 369.040625 224.64 \nL 369.040625 7.2 \n\" style=\"fill:none;stroke:#000000;stroke-linecap:square;stroke-linejoin:miter;stroke-width:0.8;\"/>\n   </g>\n   <g id=\"patch_5\">\n    <path d=\"M 34.240625 224.64 \nL 369.040625 224.64 \n\" style=\"fill:none;stroke:#000000;stroke-linecap:square;stroke-linejoin:miter;stroke-width:0.8;\"/>\n   </g>\n   <g id=\"patch_6\">\n    <path d=\"M 34.240625 7.2 \nL 369.040625 7.2 \n\" style=\"fill:none;stroke:#000000;stroke-linecap:square;stroke-linejoin:miter;stroke-width:0.8;\"/>\n   </g>\n  </g>\n </g>\n <defs>\n  <clipPath id=\"paaadbbc6dc\">\n   <rect height=\"217.44\" width=\"334.8\" x=\"34.240625\" y=\"7.2\"/>\n  </clipPath>\n </defs>\n</svg>\n",
      "image/png": "[encoded data removed]"
     },
     "metadata": {
      "needs_background": "light"
     }
    }
   ],
   "source": [
    "#plotting loss against no. of epochs\n",
    "%matplotlib inline\n",
    "plt.plot(model.history.epoch, model.history.history['loss'])\n",
    "plt.xlabel('epochs')\n",
    "plt.ylabel('loss')"
   ]
  },
  {
   "cell_type": "code",
   "execution_count": 110,
   "metadata": {},
   "outputs": [
    {
     "output_type": "error",
     "ename": "ModuleNotFoundError",
     "evalue": "No module named 'scalar'",
     "traceback": [
      "\u001b[0;31m---------------------------------------------------------------------------\u001b[0m",
      "\u001b[0;31mModuleNotFoundError\u001b[0m                       Traceback (most recent call last)",
      "\u001b[0;32m<ipython-input-110-671db6a5ae22>\u001b[0m in \u001b[0;36m<module>\u001b[0;34m\u001b[0m\n\u001b[0;32m----> 1\u001b[0;31m \u001b[0;32mimport\u001b[0m \u001b[0mscalar\u001b[0m\u001b[0;34m\u001b[0m\u001b[0;34m\u001b[0m\u001b[0m\n\u001b[0m\u001b[1;32m      2\u001b[0m \u001b[0;31m#Xnew = np.array([\"LP001011\", \"Male\", \"Yes\", 2, \"Graduate\", \"Yes\", 5417, 4196, 5.587248658, 360, 1, \"Urban\", \"Y\"])\u001b[0m\u001b[0;34m\u001b[0m\u001b[0;34m\u001b[0m\u001b[0;34m\u001b[0m\u001b[0m\n\u001b[1;32m      3\u001b[0m \u001b[0mXnew\u001b[0m \u001b[0;34m=\u001b[0m \u001b[0mscalar\u001b[0m\u001b[0;34m.\u001b[0m\u001b[0mtransform\u001b[0m\u001b[0;34m(\u001b[0m\u001b[0mXnew\u001b[0m\u001b[0;34m)\u001b[0m\u001b[0;34m\u001b[0m\u001b[0;34m\u001b[0m\u001b[0m\n\u001b[1;32m      4\u001b[0m \u001b[0mynew\u001b[0m \u001b[0;34m=\u001b[0m \u001b[0mmodel\u001b[0m\u001b[0;34m.\u001b[0m\u001b[0mpredict_classes\u001b[0m\u001b[0;34m(\u001b[0m\u001b[0mXnew\u001b[0m\u001b[0;34m)\u001b[0m\u001b[0;34m\u001b[0m\u001b[0;34m\u001b[0m\u001b[0m\n\u001b[1;32m      5\u001b[0m \u001b[0mprint\u001b[0m\u001b[0;34m(\u001b[0m\u001b[0;34m\"X=%s, Predicted=%s\"\u001b[0m \u001b[0;34m%\u001b[0m \u001b[0;34m(\u001b[0m\u001b[0mXnew\u001b[0m\u001b[0;34m[\u001b[0m\u001b[0;36m0\u001b[0m\u001b[0;34m]\u001b[0m\u001b[0;34m,\u001b[0m\u001b[0mynew\u001b[0m\u001b[0;34m[\u001b[0m\u001b[0;36m0\u001b[0m\u001b[0;34m]\u001b[0m\u001b[0;34m)\u001b[0m\u001b[0;34m)\u001b[0m\u001b[0;34m\u001b[0m\u001b[0;34m\u001b[0m\u001b[0m\n",
      "\u001b[0;31mModuleNotFoundError\u001b[0m: No module named 'scalar'"
     ]
    }
   ],
   "source": [
    "import scalar\n",
    "Xnew = np.array([\"LP001011\", \"Male\", \"Yes\", 2, \"Graduate\", \"Yes\", 5417, 4196, 5.587248658, 360, 1, \"Urban\", \"Y\"])\n",
    "Xnew = scalar.transform(Xnew)\n",
    "ynew = model.predict_classes(Xnew)\n",
    "print(\"X=%s, Predicted=%s\" % (Xnew[0],ynew[0]))"
   ]
  }
 ]
}